{
  "nbformat": 4,
  "nbformat_minor": 0,
  "metadata": {
    "colab": {
      "name": "task1.ipynb",
      "provenance": [],
      "collapsed_sections": [],
      "toc_visible": true,
      "machine_shape": "hm",
      "mount_file_id": "12p3EjQ8u2mkhwfx8MlZFbJ4BgLD_7V-q",
      "authorship_tag": "ABX9TyNYidNvri0DkXgibQKTtEQk",
      "include_colab_link": true
    },
    "kernelspec": {
      "name": "python3",
      "display_name": "Python 3"
    },
    "language_info": {
      "name": "python"
    },
    "accelerator": "GPU"
  },
  "cells": [
    {
      "cell_type": "markdown",
      "metadata": {
        "id": "view-in-github",
        "colab_type": "text"
      },
      "source": [
        "<a href=\"https://colab.research.google.com/github/ahmadkhan242/PlayingWithMNIST/blob/main/task1.ipynb\" target=\"_parent\"><img src=\"https://colab.research.google.com/assets/colab-badge.svg\" alt=\"Open In Colab\"/></a>"
      ]
    },
    {
      "cell_type": "markdown",
      "metadata": {
        "id": "yTiw90R9h_ZA"
      },
      "source": [
        "# Task - 1\n"
      ]
    },
    {
      "cell_type": "markdown",
      "metadata": {
        "id": "cbwaYFiPiImD"
      },
      "source": [
        "Downloading the given dataset."
      ]
    },
    {
      "cell_type": "code",
      "metadata": {
        "id": "8ih2xdHBwHLF"
      },
      "source": [
        "!wget https://www.dropbox.com/s/pan6mutc5xj5kj0/trainPart1.zip"
      ],
      "execution_count": null,
      "outputs": []
    },
    {
      "cell_type": "code",
      "metadata": {
        "id": "S6zz2QqkwUC7"
      },
      "source": [
        "# Unzip it.\n",
        "!unzip trainPart1.zip"
      ],
      "execution_count": null,
      "outputs": []
    },
    {
      "cell_type": "markdown",
      "metadata": {
        "id": "57C4f6GciYQO"
      },
      "source": [
        "## For this task I had used Pytorch library to implement CNN."
      ]
    },
    {
      "cell_type": "code",
      "metadata": {
        "id": "dyb9SPFMxPwM"
      },
      "source": [
        "# Importing all libraries  required.\n",
        "import numpy as np\n",
        "import torch\n",
        "import torch.optim as optim\n",
        "import torch.nn.functional as F\n",
        "import torch.nn as nn\n",
        "import os,shutil,json\n",
        "import glob\n",
        "import torch.utils.data\n",
        "import math\n",
        "from skimage import io, transform\n",
        "from PIL import Image\n",
        "import torchvision as vision\n",
        "from torchvision import transforms, datasets\n",
        "import random\n",
        "import cv2\n",
        "import matplotlib.pyplot as plt\n",
        "import matplotlib.image as mpimg\n",
        "from torch.utils.data.sampler import SubsetRandomSampler\n",
        "from torch.autograd import Variable\n",
        "from torch.utils.data import random_split\n",
        "from torchvision.datasets import ImageFolder\n",
        "\n",
        "torch.cuda.empty_cache()"
      ],
      "execution_count": 3,
      "outputs": []
    },
    {
      "cell_type": "code",
      "metadata": {
        "id": "vvOKBhrHwWtn"
      },
      "source": [
        "# Defining dataset directory \n",
        "dataset_dir = \"/content/train/\""
      ],
      "execution_count": 4,
      "outputs": []
    },
    {
      "cell_type": "markdown",
      "metadata": {
        "id": "II1_ql4wi46I"
      },
      "source": [
        "### The funtion below is used to create train and validation loader."
      ]
    },
    {
      "cell_type": "code",
      "metadata": {
        "id": "oX49pprNyMRg"
      },
      "source": [
        "\n",
        "def prepare_dataset(dataset_path):\n",
        "  \"\"\" Function to create train and validation loader.\n",
        "    Params:\n",
        "        dataset_path: path where all images are.\n",
        "    \n",
        "    returns: \n",
        "        train_loader: train loader with batch size of 64\n",
        "        validation_loader: validation loader with batch size of 64\n",
        "        \n",
        "    Note: Split ratio and batch sizes are pre-defined you can change it in this function.\n",
        "    \"\"\"\n",
        "\n",
        "  labels = os.listdir(dataset_path)\n",
        "\n",
        "  # Here images are resized and converted to grayscale so that we have data consistency for other tasks\n",
        "  dataset = ImageFolder(\n",
        "      dataset_path,\n",
        "      transforms.Compose([transforms.Resize((32,32)),\n",
        "                         transforms.ToTensor(),transforms.Grayscale(num_output_channels=1)])\n",
        "  )\n",
        "  \n",
        "  # Validation split 15%\n",
        "  val_split = int(len(dataset)*0.15)\n",
        "  train_split = len(dataset) - val_split\n",
        "\n",
        "  train_dataset, val_dataset = random_split(dataset, [train_split, val_split])\n",
        "\n",
        "  # to make sure the split is right.\n",
        "  assert (len(train_dataset)+len(val_dataset)) == len(dataset)\n",
        "\n",
        "  train_loader = torch.utils.data.DataLoader(train_dataset, 64, shuffle=True)\n",
        "  validation_loader = torch.utils.data.DataLoader(val_dataset, 64) \n",
        "\n",
        "  return (train_loader, validation_loader)\n"
      ],
      "execution_count": 10,
      "outputs": []
    },
    {
      "cell_type": "code",
      "metadata": {
        "id": "BJyjmh8tm_pi"
      },
      "source": [
        "# executing prepare_dataset function\n",
        "train_loader, validation_loader = prepare_dataset(dataset_dir)"
      ],
      "execution_count": 11,
      "outputs": []
    },
    {
      "cell_type": "markdown",
      "metadata": {
        "id": "Cy0XQYtzke2R"
      },
      "source": [
        "### Data visualisation "
      ]
    },
    {
      "cell_type": "code",
      "metadata": {
        "colab": {
          "base_uri": "https://localhost:8080/",
          "height": 551
        },
        "id": "1GTiJzUvnoWn",
        "outputId": "ddf8ad6b-b9c3-494b-862f-9c3ab605dc4d"
      },
      "source": [
        "examples = enumerate(train_loader)\n",
        "batch_idx, (example_data, example_targets) = next(examples)\n",
        "import matplotlib.pyplot as plt\n",
        "\n",
        "fig = plt.figure()\n",
        "for i in range(6):\n",
        "  plt.subplot(2,3,i+1)\n",
        "  plt.tight_layout()\n",
        "  plt.imshow(example_data[i][0], cmap='gray', interpolation='none')\n",
        "  plt.title(\"Ground Truth: {}\".format(example_targets[i]))\n",
        "  plt.xticks([])\n",
        "  plt.yticks([])\n",
        "fig"
      ],
      "execution_count": null,
      "outputs": [
        {
          "output_type": "execute_result",
          "data": {
            "image/png": "[encoded data removed]",
            "text/plain": [
              "<Figure size 432x288 with 6 Axes>"
            ]
          },
          "metadata": {
            "tags": []
          },
          "execution_count": 8
        },
        {
          "output_type": "display_data",
          "data": {
            "image/png": "[encoded data removed]",
            "text/plain": [
              "<Figure size 432x288 with 6 Axes>"
            ]
          },
          "metadata": {
            "tags": []
          }
        }
      ]
    },
    {
      "cell_type": "markdown",
      "metadata": {
        "id": "ykT56RGBk9ya"
      },
      "source": [
        "### Here the CNN architecture  is defined, the architecture is of ResNet with four layers and one resedual block in each layer."
      ]
    },
    {
      "cell_type": "code",
      "metadata": {
        "id": "0OXFpXjYYFDS"
      },
      "source": [
        "\n",
        "class BasicBlock(nn.Module):\n",
        "    expansion = 1\n",
        "\n",
        "    def __init__(self, in_planes, planes, stride=1):\n",
        "        super(BasicBlock, self).__init__()\n",
        "        self.conv1 = nn.Conv2d(in_planes, planes, kernel_size=(3,3), stride=stride, padding=1, bias=False)\n",
        "        self.bn1 = nn.BatchNorm2d(planes)\n",
        "        self.conv2 = nn.Conv2d(planes, planes, kernel_size=(3,3), stride=1, padding=1, bias=False)\n",
        "        self.bn2 = nn.BatchNorm2d(planes)\n",
        "\n",
        "        self.shortcut = nn.Sequential()\n",
        "        if stride != 1 or in_planes != self.expansion*planes:\n",
        "            self.shortcut = nn.Sequential(\n",
        "                nn.Conv2d(in_planes, self.expansion*planes, kernel_size=1, stride=stride, bias=False),\n",
        "                nn.BatchNorm2d(self.expansion*planes)\n",
        "            )\n",
        "\n",
        "    def forward(self, x):\n",
        "        out = self.conv1(x)\n",
        "        out = self.bn1(out)\n",
        "        out = F.relu(out)\n",
        "        out = self.conv2(out)\n",
        "        out = self.bn2(out)\n",
        "        out += self.shortcut(x)\n",
        "        out = F.relu(out)\n",
        "        return out\n",
        "\n",
        "\n",
        "class Bottleneck(nn.Module):\n",
        "    expansion = 4\n",
        "\n",
        "    def __init__(self, in_planes, planes, stride=1):\n",
        "        super(Bottleneck, self).__init__()\n",
        "        self.conv1 = nn.Conv2d(in_planes, planes, kernel_size=(3,3), bias=False)\n",
        "        self.bn1 = nn.BatchNorm2d(planes)\n",
        "        self.conv2 = nn.Conv2d(planes, planes, kernel_size=(3,3), stride=stride, padding=1, bias=False)\n",
        "        self.bn2 = nn.BatchNorm2d(planes)\n",
        "        self.conv3 = nn.Conv2d(planes, self.expansion*planes, kernel_size=(3,3), bias=False)\n",
        "        self.bn3 = nn.BatchNorm2d(self.expansion*planes)\n",
        "\n",
        "        self.shortcut = nn.Sequential()\n",
        "        if stride != 1 or in_planes != self.expansion*planes:\n",
        "            self.shortcut = nn.Sequential(\n",
        "                nn.Conv2d(in_planes, self.expansion*planes, kernel_size=(4,4), stride=stride, bias=False),\n",
        "                nn.BatchNorm2d(self.expansion*planes)\n",
        "            )\n",
        "\n",
        "    def forward(self, x):\n",
        "        out = self.conv1(x)\n",
        "        out = self.bn1(out)\n",
        "        out = F.relu(out)\n",
        "        out = self.conv2(out)\n",
        "        out = self.bn2(out)\n",
        "        out = F.relu(out)\n",
        "        out = self.bn3(self.conv3(out))\n",
        "        out += self.shortcut(x)\n",
        "        out = F.relu(out)\n",
        "        return out\n",
        "\n",
        "\n",
        "class ResNet(nn.Module):\n",
        "    def __init__(self, block, num_blocks, num_classes=64):\n",
        "        super(ResNet, self).__init__()\n",
        "        self.in_planes = 64\n",
        "\n",
        "        self.conv1 = nn.Conv2d(1, 64, kernel_size=(3,3), stride=1, padding=1, bias=False)\n",
        "        self.bn1 = nn.BatchNorm2d(64)\n",
        "        self.layer1 = self._make_layer(block, 64, num_blocks[0], stride=1)\n",
        "        self.layer2 = self._make_layer(block, 128, num_blocks[1], stride=1)\n",
        "        self.layer3 = self._make_layer(block, 256, num_blocks[2], stride=1)\n",
        "        self.layer4 = self._make_layer(block, 512, num_blocks[3], stride=1)\n",
        "        self.linear1 = nn.Linear(512, 256)\n",
        "        self.linear2 = nn.Linear(256, 128)\n",
        "        self.linear3 = nn.Linear(128, num_classes)\n",
        "        self.dropout1 = nn.Dropout(0.3)\n",
        "        self.dropout2 = nn.Dropout(0.4)\n",
        "\n",
        "    def _make_layer(self, block, planes, num_blocks, stride):\n",
        "        strides = [stride] + [1]*(num_blocks-1)\n",
        "        layers = []\n",
        "        for stride in strides:\n",
        "            layers.append(block(self.in_planes, planes, stride))\n",
        "            self.in_planes = planes * block.expansion\n",
        "        return nn.Sequential(*layers)\n",
        "\n",
        "    def forward(self, x):\n",
        "        out = F.relu(self.bn1(self.conv1(x)))\n",
        "        out = self.layer1(out)\n",
        "        out = self.layer2(out)\n",
        "        out = self.layer3(out)\n",
        "        out = F.avg_pool2d(out, 5)\n",
        "        out = self.layer4(out)\n",
        "        out = F.avg_pool2d(out, 5)\n",
        "        out = torch.flatten(out, 1)\n",
        "        out = self.linear1(out)\n",
        "        out = self.dropout1(out)\n",
        "        out = self.linear2(out)\n",
        "        out = self.dropout2(out)\n",
        "        out = self.linear3(out)\n",
        "        return out\n"
      ],
      "execution_count": 13,
      "outputs": []
    },
    {
      "cell_type": "markdown",
      "metadata": {
        "id": "N3Krw0zlqMDd"
      },
      "source": [
        "### In the cell below, defined the Model, the loss function, and the Optimizer I have used for this task. "
      ]
    },
    {
      "cell_type": "code",
      "metadata": {
        "colab": {
          "base_uri": "https://localhost:8080/"
        },
        "id": "ZkodKzmN0EUE",
        "outputId": "a1b6467b-8a29-4e18-8df2-da04dd518b9e"
      },
      "source": [
        "model = ResNet(BasicBlock, [1, 1, 1, 1])\n",
        "\n",
        "criterion = nn.CrossEntropyLoss()\n",
        "torch.cuda.empty_cache()\n",
        "\n",
        "if torch.cuda.is_available():\n",
        "\tprint(torch.cuda.get_device_name(0))\n",
        "\tmodel = model.cuda()\n",
        "\toptimizer = optim.Adam(model.parameters(), lr=1e-3, weight_decay=1e-4)\n",
        "\tcriterion = criterion.cuda()"
      ],
      "execution_count": null,
      "outputs": [
        {
          "output_type": "stream",
          "text": [
            "Tesla P100-PCIE-16GB\n"
          ],
          "name": "stdout"
        }
      ]
    },
    {
      "cell_type": "markdown",
      "metadata": {
        "id": "V_WSk7R6qkHz"
      },
      "source": [
        "### Here the train function is defined for training the model defined above.\n",
        "### Please follow the comment to guide your self in the train function."
      ]
    },
    {
      "cell_type": "code",
      "metadata": {
        "colab": {
          "base_uri": "https://localhost:8080/"
        },
        "id": "9kknpkhzKjLL",
        "outputId": "c192b835-5c2d-4d1a-e415-6bfa4a9165fb"
      },
      "source": [
        "%%time\n",
        "# Loss and accuracy list are defined, these lists are used for graph.\n",
        "train_loss_list = []\n",
        "val_loss_list = []\n",
        "epc_list = []\n",
        "train_acc_list = []\n",
        "val_acc_list = []\n",
        "\n",
        "def train():\n",
        "  # best_valid_loss is defined so as to save the best validation loss which is lowest one.\n",
        "  best_valid_loss = float('Inf')\n",
        "\n",
        "  print(\"Training Started !!!\")\n",
        "  for i in range(25):\n",
        "    training_loss = 0\n",
        "    tcorrect = 0\n",
        "    ttotal = 0\n",
        "    model.train()\n",
        "    for features, labels in train_loader:\n",
        "      # Label and features assigning\n",
        "      features, labels = Variable(features.cuda()), Variable(labels.cuda())\n",
        "      optimizer.zero_grad()\n",
        "\n",
        "      # Output collection from model\n",
        "      outputs = model(features.float())\n",
        "      \n",
        "      # Loss calculation and updation\n",
        "      losss = criterion(outputs.cuda(), labels.type(torch.LongTensor).cuda())\n",
        "      losss.backward()\n",
        "      optimizer.step()\n",
        "      training_loss += losss.item()\n",
        "\n",
        "      # Prediction\n",
        "      _, pred = torch.max(outputs, 1)\n",
        "      ttotal+= labels.reshape(-1).size(0)\n",
        "      tcorrect+=(pred.reshape(-1).cuda() == labels.reshape(-1)).sum().item()\n",
        "  \n",
        "    # Validation step starts from here.\n",
        "    validation_loss = 0\n",
        "    correct = 0\n",
        "    total = 0\n",
        "    model.eval()\n",
        "    with torch.no_grad():\n",
        "      for features, labels in validation_loader:\n",
        "        # Label and features assigning\n",
        "        features, labels = Variable(features.cuda()), Variable(labels.cuda())\n",
        "\n",
        "        # Output collection from model\n",
        "        outputs = model(features.float())\n",
        "        \n",
        "        # Loss calculation, here we skip the backward and \n",
        "        # optimizer step as we do not update weights while validating a model\n",
        "        loss = criterion(outputs.cuda(), labels.type(torch.LongTensor).cuda())\n",
        "\n",
        "        # Prediction\n",
        "        _, pred = torch.max(outputs, 1)\n",
        "        total+= labels.reshape(-1).size(0)\n",
        "        correct+=(pred.reshape(-1).cuda() == labels.reshape(-1)).sum().item()\n",
        "        validation_loss += loss.item()\n",
        "\n",
        "\n",
        "    train_loss_list.append(training_loss/len(train_loader))\n",
        "    val_loss_list.append(validation_loss/len(validation_loader))\n",
        "    epc_list.append(i)\n",
        "    train_acc_list.append(100*(tcorrect/ttotal))\n",
        "    val_acc_list.append(100*(correct/total))\n",
        "\n",
        "    # Logic was defined so as to save the weights of mnist_model when validation loss is lowest.\n",
        "    if best_valid_loss > validation_loss:\n",
        "        best_valid_loss = validation_loss \n",
        "        # Saving Best Pre-Trained Model as .pth file\n",
        "        torch.save(model, \"/content/drive/MyDrive/MNIST/final_task.pth\")\n",
        "        \n",
        "    print(\"Epoch {} - \\nTraning loss: {}\".format(i+1, training_loss/len(train_loader)))\n",
        "    print(\"Validation loss: {}\".format( validation_loss/len(validation_loader)))\n",
        "    print(\"Trainig Accuracy: {}\".format( 100*(tcorrect/ttotal)))\n",
        "    print(\"Validation Accuracy: {}\".format(100*(correct/total)))\n",
        "\n",
        "train()\n",
        "\n",
        "print(\"Training Complete\")"
      ],
      "execution_count": null,
      "outputs": [
        {
          "output_type": "stream",
          "text": [
            "Training Started !!!\n",
            "Epoch 1 - \n",
            "Traning loss: 3.964891932227395\n",
            "Validation loss: 4.287020126978557\n",
            "Trainig Accuracy: 5.218216318785579\n",
            "Validation Accuracy: 1.0752688172043012\n",
            "Epoch 2 - \n",
            "Traning loss: 3.1603120601538457\n",
            "Validation loss: 3.0344272454579673\n",
            "Trainig Accuracy: 14.468690702087287\n",
            "Validation Accuracy: 19.35483870967742\n",
            "Epoch 3 - \n",
            "Traning loss: 2.5492292534221304\n",
            "Validation loss: 2.559219320615133\n",
            "Trainig Accuracy: 24.09867172675522\n",
            "Validation Accuracy: 29.03225806451613\n",
            "Epoch 4 - \n",
            "Traning loss: 2.0560514529546103\n",
            "Validation loss: 2.0994941790898642\n",
            "Trainig Accuracy: 36.29032258064516\n",
            "Validation Accuracy: 37.903225806451616\n",
            "Epoch 5 - \n",
            "Traning loss: 1.668349807912653\n",
            "Validation loss: 3.16666313012441\n",
            "Trainig Accuracy: 48.007590132827325\n",
            "Validation Accuracy: 25.0\n",
            "Epoch 6 - \n",
            "Traning loss: 1.380571430379694\n",
            "Validation loss: 2.5826780796051025\n",
            "Trainig Accuracy: 55.02846299810247\n",
            "Validation Accuracy: 28.763440860215056\n",
            "Epoch 7 - \n",
            "Traning loss: 1.1930692159768306\n",
            "Validation loss: 1.0301207999388378\n",
            "Trainig Accuracy: 61.52751423149905\n",
            "Validation Accuracy: 69.08602150537635\n",
            "Epoch 8 - \n",
            "Traning loss: 0.9645259235844468\n",
            "Validation loss: 1.0878317852814992\n",
            "Trainig Accuracy: 67.83681214421252\n",
            "Validation Accuracy: 66.12903225806451\n",
            "Epoch 9 - \n",
            "Traning loss: 0.8969835476441816\n",
            "Validation loss: 0.8574340542157491\n",
            "Trainig Accuracy: 70.4933586337761\n",
            "Validation Accuracy: 74.46236559139786\n",
            "Epoch 10 - \n",
            "Traning loss: 0.7755873040719465\n",
            "Validation loss: 8.613640944163004\n",
            "Trainig Accuracy: 73.4819734345351\n",
            "Validation Accuracy: 11.827956989247312\n",
            "Epoch 11 - \n",
            "Traning loss: 0.7287800853902643\n",
            "Validation loss: 0.684768408536911\n",
            "Trainig Accuracy: 75.75901328273244\n",
            "Validation Accuracy: 79.03225806451613\n",
            "Epoch 12 - \n",
            "Traning loss: 0.6623938535199021\n",
            "Validation loss: 0.6931045800447464\n",
            "Trainig Accuracy: 77.13472485768501\n",
            "Validation Accuracy: 76.88172043010752\n",
            "Epoch 13 - \n",
            "Traning loss: 0.570824617689306\n",
            "Validation loss: 0.8804172277450562\n",
            "Trainig Accuracy: 80.97722960151803\n",
            "Validation Accuracy: 75.80645161290323\n",
            "Epoch 14 - \n",
            "Traning loss: 0.5524858218250852\n",
            "Validation loss: 0.708061287800471\n",
            "Trainig Accuracy: 82.25806451612904\n",
            "Validation Accuracy: 77.15053763440861\n",
            "Epoch 15 - \n",
            "Traning loss: 0.5236245321504998\n",
            "Validation loss: 0.9742250442504883\n",
            "Trainig Accuracy: 81.78368121442125\n",
            "Validation Accuracy: 69.6236559139785\n",
            "Epoch 16 - \n",
            "Traning loss: 0.4707878940936291\n",
            "Validation loss: 0.6700697292884191\n",
            "Trainig Accuracy: 83.96584440227703\n",
            "Validation Accuracy: 78.49462365591397\n",
            "Epoch 17 - \n",
            "Traning loss: 0.479329071261666\n",
            "Validation loss: 0.6166939437389374\n",
            "Trainig Accuracy: 83.72865275142316\n",
            "Validation Accuracy: 81.72043010752688\n",
            "Epoch 18 - \n",
            "Traning loss: 0.419519892244628\n",
            "Validation loss: 0.7995506922403971\n",
            "Trainig Accuracy: 84.86717267552181\n",
            "Validation Accuracy: 76.88172043010752\n",
            "Epoch 19 - \n",
            "Traning loss: 0.3732581373417016\n",
            "Validation loss: 0.8796672423680624\n",
            "Trainig Accuracy: 87.0493358633776\n",
            "Validation Accuracy: 75.0\n",
            "Epoch 20 - \n",
            "Traning loss: 0.3583812058875055\n",
            "Validation loss: 0.5336744586626688\n",
            "Trainig Accuracy: 87.71347248576849\n",
            "Validation Accuracy: 81.72043010752688\n",
            "Epoch 21 - \n",
            "Traning loss: 0.3809237669814717\n",
            "Validation loss: 0.6027113497257233\n",
            "Trainig Accuracy: 86.05313092979127\n",
            "Validation Accuracy: 81.98924731182797\n",
            "Epoch 22 - \n",
            "Traning loss: 0.33521481490496435\n",
            "Validation loss: 0.6110565960407257\n",
            "Trainig Accuracy: 88.5673624288425\n",
            "Validation Accuracy: 79.3010752688172\n",
            "Epoch 23 - \n",
            "Traning loss: 0.3230039310274702\n",
            "Validation loss: 0.4652402500311534\n",
            "Trainig Accuracy: 88.61480075901328\n",
            "Validation Accuracy: 83.33333333333334\n",
            "Epoch 24 - \n",
            "Traning loss: 0.2926415697191701\n",
            "Validation loss: 0.9952917794386545\n",
            "Trainig Accuracy: 89.56356736242884\n",
            "Validation Accuracy: 70.16129032258065\n",
            "Epoch 25 - \n",
            "Traning loss: 0.3256192288615487\n",
            "Validation loss: 0.6134684085845947\n",
            "Trainig Accuracy: 88.51992409867174\n",
            "Validation Accuracy: 80.10752688172043\n",
            "Training Complete\n",
            "CPU times: user 14min 37s, sys: 29.1 s, total: 15min 6s\n",
            "Wall time: 15min 4s\n"
          ],
          "name": "stdout"
        }
      ]
    },
    {
      "cell_type": "markdown",
      "metadata": {
        "id": "NuZpsLUHcaUU"
      },
      "source": [
        "### Graph plot of training loss and validation loss with no of epochs.\n"
      ]
    },
    {
      "cell_type": "code",
      "metadata": {
        "id": "MKzIudpVPETr",
        "colab": {
          "base_uri": "https://localhost:8080/",
          "height": 501
        },
        "outputId": "2d31ce49-30a5-4eae-d649-c34b1fff3c90"
      },
      "source": [
        "plt.figure(figsize=(12, 8))\n",
        "plt.plot(epc_list, train_loss_list, label='Train')\n",
        "plt.plot(epc_list, val_loss_list, label='Valid')\n",
        "plt.xlabel('Epochs', fontsize=14)\n",
        "plt.ylabel('Loss', fontsize=14)\n",
        "plt.legend(fontsize=14)\n",
        "plt.show()"
      ],
      "execution_count": null,
      "outputs": [
        {
          "output_type": "display_data",
          "data": {
            "image/png": "[encoded data removed]",
            "text/plain": [
              "<Figure size 864x576 with 1 Axes>"
            ]
          },
          "metadata": {
            "tags": [],
            "needs_background": "light"
          }
        }
      ]
    },
    {
      "cell_type": "markdown",
      "metadata": {
        "id": "voNFzeaCcHNa"
      },
      "source": [
        "### Graph plot of training accuracy and validation accuracy with no of epochs."
      ]
    },
    {
      "cell_type": "code",
      "metadata": {
        "colab": {
          "base_uri": "https://localhost:8080/",
          "height": 501
        },
        "id": "m329Hb5FK9v9",
        "outputId": "515b88a0-3e9a-4ff0-82aa-8df89e21d957"
      },
      "source": [
        "plt.figure(figsize=(12, 8))\n",
        "plt.plot(epc_list, train_acc_list, label='Train')\n",
        "plt.plot(epc_list, val_acc_list, label='Valid')\n",
        "plt.xlabel('Epochs', fontsize=14)\n",
        "plt.ylabel('Accuracy', fontsize=14)\n",
        "plt.legend(fontsize=14)\n",
        "plt.show()"
      ],
      "execution_count": null,
      "outputs": [
        {
          "output_type": "display_data",
          "data": {
            "image/png": "[encoded data removed]",
            "text/plain": [
              "<Figure size 864x576 with 1 Axes>"
            ]
          },
          "metadata": {
            "tags": [],
            "needs_background": "light"
          }
        }
      ]
    },
    {
      "cell_type": "markdown",
      "metadata": {
        "id": "xhjMqyLX3jzO"
      },
      "source": [
        "### Conclusion  - \n",
        "* `Dataset` -   \n",
        "### Dataset information  -  \n",
        "  * No of classes - 62\n",
        "  * No of samples each - 40 \n",
        "  * Total samples - 2480\n",
        "\n",
        "  ### Validation split of 15% was used.\n",
        "  ### Pre-Processing  \n",
        "  * Images were resized to 32x32 to reduce computational power.\n",
        "  * Images were converted to grayscale(single channel) so that we have data consistency for other tasks.\n",
        "* `Model` - For this task Resnet architecture  was used with 4 layers and 1 resudual block in each layer, and finally three linear layers where used with dropout in first linear layer and second linear layer.\n",
        "\n",
        "  <details> \n",
        "    <summary>Complete Architecture summary</summary>\n",
        "    \n",
        "  ```bash\n",
        "        ----------------------------------------------------------------\n",
        "                Layer (type)               Output Shape         Param #\n",
        "        ================================================================\n",
        "                    Conv2d-1           [-1, 64, 32, 32]             576\n",
        "               BatchNorm2d-2           [-1, 64, 32, 32]             128\n",
        "                    Conv2d-3           [-1, 64, 32, 32]          36,864\n",
        "               BatchNorm2d-4           [-1, 64, 32, 32]             128\n",
        "                    Conv2d-5           [-1, 64, 32, 32]          36,864\n",
        "               BatchNorm2d-6           [-1, 64, 32, 32]             128\n",
        "                BasicBlock-7           [-1, 64, 32, 32]               0\n",
        "                    Conv2d-8          [-1, 128, 32, 32]          73,728\n",
        "               BatchNorm2d-9          [-1, 128, 32, 32]             256\n",
        "                   Conv2d-10          [-1, 128, 32, 32]         147,456\n",
        "              BatchNorm2d-11          [-1, 128, 32, 32]             256\n",
        "                   Conv2d-12          [-1, 128, 32, 32]           8,192\n",
        "              BatchNorm2d-13          [-1, 128, 32, 32]             256\n",
        "               BasicBlock-14          [-1, 128, 32, 32]               0\n",
        "                   Conv2d-15          [-1, 256, 32, 32]         294,912\n",
        "              BatchNorm2d-16          [-1, 256, 32, 32]             512\n",
        "                   Conv2d-17          [-1, 256, 32, 32]         589,824\n",
        "              BatchNorm2d-18          [-1, 256, 32, 32]             512\n",
        "                   Conv2d-19          [-1, 256, 32, 32]          32,768\n",
        "              BatchNorm2d-20          [-1, 256, 32, 32]             512\n",
        "               BasicBlock-21          [-1, 256, 32, 32]               0\n",
        "                   Conv2d-22            [-1, 512, 6, 6]       1,179,648\n",
        "              BatchNorm2d-23            [-1, 512, 6, 6]           1,024\n",
        "                   Conv2d-24            [-1, 512, 6, 6]       2,359,296\n",
        "              BatchNorm2d-25            [-1, 512, 6, 6]           1,024\n",
        "                   Conv2d-26            [-1, 512, 6, 6]         131,072\n",
        "              BatchNorm2d-27            [-1, 512, 6, 6]           1,024\n",
        "               BasicBlock-28            [-1, 512, 6, 6]               0\n",
        "                   Linear-29                  [-1, 256]         131,328\n",
        "                  Dropout-30                  [-1, 256]               0\n",
        "                   Linear-31                  [-1, 128]          32,896\n",
        "                  Dropout-32                  [-1, 128]               0\n",
        "                   Linear-33                   [-1, 64]           8,256\n",
        "        ================================================================\n",
        "        Total params: 5,069,440\n",
        "        Trainable params: 5,069,440\n",
        "        Non-trainable params: 0\n",
        "        ----------------------------------------------------------------\n",
        "        Input size (MB): 0.00\n",
        "        Forward/backward pass size (MB): 25.49\n",
        "        Params size (MB): 19.34\n",
        "        Estimated Total Size (MB): 44.83\n",
        "        ----------------------------------------------------------------\n",
        "\n",
        "  ```\n",
        "</details> \n",
        "\n",
        "* `Training Methodology` -\n",
        "  * Epoch = 25     \n",
        "  * Learning rate - 0.001.\n",
        "  * weight decay - 0.0001.\n",
        "  * Training batch size = 64\n",
        "  * Validation batch size = 64\n",
        "  * Batch Normalisation and Dropout of 0.3 and 0.4 where used.  \n",
        "\n",
        "* `Results` -  \n",
        "  * Max Training accuracy - 89.6\n",
        "  * Max Validation accuracy - 83.4\n",
        "  * Training accuracy on last epoch - 88.5   \n",
        "  * Validation accuracy on last epoch - 80.1\n",
        "\n",
        "* `Refrence`\n",
        "  * https://github.com/pytorch/vision"
      ]
    },
    {
      "cell_type": "code",
      "metadata": {
        "id": "qygqufNZPIJJ"
      },
      "source": [
        ""
      ],
      "execution_count": null,
      "outputs": []
    }
  ]
}