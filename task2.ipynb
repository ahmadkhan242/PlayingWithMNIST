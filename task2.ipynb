{
  "nbformat": 4,
  "nbformat_minor": 0,
  "metadata": {
    "accelerator": "GPU",
    "colab": {
      "name": "task2",
      "provenance": [],
      "collapsed_sections": [
        "FAqqtN9dZ_lS",
        "Cy0XQYtzke2R",
        "voNFzeaCcHNa",
        "K_5Stb4vfN7u",
        "dGC7h4hWjLvF"
      ],
      "machine_shape": "hm",
      "mount_file_id": "1yPaAC1WGB8l33TKMD2Se4-OkhAW8P33Z",
      "authorship_tag": "ABX9TyNHUPDtG1odx/NeLIGrDcds",
      "include_colab_link": true
    },
    "kernelspec": {
      "display_name": "Python 3",
      "name": "python3"
    },
    "language_info": {
      "name": "python"
    },
    "widgets": {
      "application/vnd.jupyter.widget-state+json": {
        "85406dd805474e7f9e6c35dd75714bfc": {
          "model_module": "@jupyter-widgets/controls",
          "model_name": "HBoxModel",
          "state": {
            "_view_name": "HBoxView",
            "_dom_classes": [],
            "_model_name": "HBoxModel",
            "_view_module": "@jupyter-widgets/controls",
            "_model_module_version": "1.5.0",
            "_view_count": null,
            "_view_module_version": "1.5.0",
            "box_style": "",
            "layout": "IPY_MODEL_23f6e96bb2bd4695bee3330b8d15e5f7",
            "_model_module": "@jupyter-widgets/controls",
            "children": [
              "IPY_MODEL_b9889b6bf17e426fb586cbc35be23437",
              "IPY_MODEL_c792921890f144309cdfb5d7ca44c526"
            ]
          }
        },
        "23f6e96bb2bd4695bee3330b8d15e5f7": {
          "model_module": "@jupyter-widgets/base",
          "model_name": "LayoutModel",
          "state": {
            "_view_name": "LayoutView",
            "grid_template_rows": null,
            "right": null,
            "justify_content": null,
            "_view_module": "@jupyter-widgets/base",
            "overflow": null,
            "_model_module_version": "1.2.0",
            "_view_count": null,
            "flex_flow": null,
            "width": null,
            "min_width": null,
            "border": null,
            "align_items": null,
            "bottom": null,
            "_model_module": "@jupyter-widgets/base",
            "top": null,
            "grid_column": null,
            "overflow_y": null,
            "overflow_x": null,
            "grid_auto_flow": null,
            "grid_area": null,
            "grid_template_columns": null,
            "flex": null,
            "_model_name": "LayoutModel",
            "justify_items": null,
            "grid_row": null,
            "max_height": null,
            "align_content": null,
            "visibility": null,
            "align_self": null,
            "height": null,
            "min_height": null,
            "padding": null,
            "grid_auto_rows": null,
            "grid_gap": null,
            "max_width": null,
            "order": null,
            "_view_module_version": "1.2.0",
            "grid_template_areas": null,
            "object_position": null,
            "object_fit": null,
            "grid_auto_columns": null,
            "margin": null,
            "display": null,
            "left": null
          }
        },
        "b9889b6bf17e426fb586cbc35be23437": {
          "model_module": "@jupyter-widgets/controls",
          "model_name": "FloatProgressModel",
          "state": {
            "_view_name": "ProgressView",
            "style": "IPY_MODEL_47f083f3e41241ca9e62c335bdec761a",
            "_dom_classes": [],
            "description": "",
            "_model_name": "FloatProgressModel",
            "bar_style": "success",
            "max": 9912422,
            "_view_module": "@jupyter-widgets/controls",
            "_model_module_version": "1.5.0",
            "value": 9912422,
            "_view_count": null,
            "_view_module_version": "1.5.0",
            "orientation": "horizontal",
            "min": 0,
            "description_tooltip": null,
            "_model_module": "@jupyter-widgets/controls",
            "layout": "IPY_MODEL_b7f905488d934750b54a3a82553a60e7"
          }
        },
        "c792921890f144309cdfb5d7ca44c526": {
          "model_module": "@jupyter-widgets/controls",
          "model_name": "HTMLModel",
          "state": {
            "_view_name": "HTMLView",
            "style": "IPY_MODEL_a3823d33f59742f7912354912b068a2d",
            "_dom_classes": [],
            "description": "",
            "_model_name": "HTMLModel",
            "placeholder": "​",
            "_view_module": "@jupyter-widgets/controls",
            "_model_module_version": "1.5.0",
            "value": " 9913344/? [06:39&lt;00:00, 24804.49it/s]",
            "_view_count": null,
            "_view_module_version": "1.5.0",
            "description_tooltip": null,
            "_model_module": "@jupyter-widgets/controls",
            "layout": "IPY_MODEL_098ca9a3f0fc4e83b531f66f4a469f40"
          }
        },
        "47f083f3e41241ca9e62c335bdec761a": {
          "model_module": "@jupyter-widgets/controls",
          "model_name": "ProgressStyleModel",
          "state": {
            "_view_name": "StyleView",
            "_model_name": "ProgressStyleModel",
            "description_width": "initial",
            "_view_module": "@jupyter-widgets/base",
            "_model_module_version": "1.5.0",
            "_view_count": null,
            "_view_module_version": "1.2.0",
            "bar_color": null,
            "_model_module": "@jupyter-widgets/controls"
          }
        },
        "b7f905488d934750b54a3a82553a60e7": {
          "model_module": "@jupyter-widgets/base",
          "model_name": "LayoutModel",
          "state": {
            "_view_name": "LayoutView",
            "grid_template_rows": null,
            "right": null,
            "justify_content": null,
            "_view_module": "@jupyter-widgets/base",
            "overflow": null,
            "_model_module_version": "1.2.0",
            "_view_count": null,
            "flex_flow": null,
            "width": null,
            "min_width": null,
            "border": null,
            "align_items": null,
            "bottom": null,
            "_model_module": "@jupyter-widgets/base",
            "top": null,
            "grid_column": null,
            "overflow_y": null,
            "overflow_x": null,
            "grid_auto_flow": null,
            "grid_area": null,
            "grid_template_columns": null,
            "flex": null,
            "_model_name": "LayoutModel",
            "justify_items": null,
            "grid_row": null,
            "max_height": null,
            "align_content": null,
            "visibility": null,
            "align_self": null,
            "height": null,
            "min_height": null,
            "padding": null,
            "grid_auto_rows": null,
            "grid_gap": null,
            "max_width": null,
            "order": null,
            "_view_module_version": "1.2.0",
            "grid_template_areas": null,
            "object_position": null,
            "object_fit": null,
            "grid_auto_columns": null,
            "margin": null,
            "display": null,
            "left": null
          }
        },
        "a3823d33f59742f7912354912b068a2d": {
          "model_module": "@jupyter-widgets/controls",
          "model_name": "DescriptionStyleModel",
          "state": {
            "_view_name": "StyleView",
            "_model_name": "DescriptionStyleModel",
            "description_width": "",
            "_view_module": "@jupyter-widgets/base",
            "_model_module_version": "1.5.0",
            "_view_count": null,
            "_view_module_version": "1.2.0",
            "_model_module": "@jupyter-widgets/controls"
          }
        },
        "098ca9a3f0fc4e83b531f66f4a469f40": {
          "model_module": "@jupyter-widgets/base",
          "model_name": "LayoutModel",
          "state": {
            "_view_name": "LayoutView",
            "grid_template_rows": null,
            "right": null,
            "justify_content": null,
            "_view_module": "@jupyter-widgets/base",
            "overflow": null,
            "_model_module_version": "1.2.0",
            "_view_count": null,
            "flex_flow": null,
            "width": null,
            "min_width": null,
            "border": null,
            "align_items": null,
            "bottom": null,
            "_model_module": "@jupyter-widgets/base",
            "top": null,
            "grid_column": null,
            "overflow_y": null,
            "overflow_x": null,
            "grid_auto_flow": null,
            "grid_area": null,
            "grid_template_columns": null,
            "flex": null,
            "_model_name": "LayoutModel",
            "justify_items": null,
            "grid_row": null,
            "max_height": null,
            "align_content": null,
            "visibility": null,
            "align_self": null,
            "height": null,
            "min_height": null,
            "padding": null,
            "grid_auto_rows": null,
            "grid_gap": null,
            "max_width": null,
            "order": null,
            "_view_module_version": "1.2.0",
            "grid_template_areas": null,
            "object_position": null,
            "object_fit": null,
            "grid_auto_columns": null,
            "margin": null,
            "display": null,
            "left": null
          }
        },
        "85c58b6b1e83440f8773c3f7be9fa12a": {
          "model_module": "@jupyter-widgets/controls",
          "model_name": "HBoxModel",
          "state": {
            "_view_name": "HBoxView",
            "_dom_classes": [],
            "_model_name": "HBoxModel",
            "_view_module": "@jupyter-widgets/controls",
            "_model_module_version": "1.5.0",
            "_view_count": null,
            "_view_module_version": "1.5.0",
            "box_style": "",
            "layout": "IPY_MODEL_43921f26c27a4d4991a8147a2fdd9a0d",
            "_model_module": "@jupyter-widgets/controls",
            "children": [
              "IPY_MODEL_5ae067ab8abe41f3baf091d3d38714f5",
              "IPY_MODEL_a6b731ca3cbb40ac8ac98caaf57d31c3"
            ]
          }
        },
        "43921f26c27a4d4991a8147a2fdd9a0d": {
          "model_module": "@jupyter-widgets/base",
          "model_name": "LayoutModel",
          "state": {
            "_view_name": "LayoutView",
            "grid_template_rows": null,
            "right": null,
            "justify_content": null,
            "_view_module": "@jupyter-widgets/base",
            "overflow": null,
            "_model_module_version": "1.2.0",
            "_view_count": null,
            "flex_flow": null,
            "width": null,
            "min_width": null,
            "border": null,
            "align_items": null,
            "bottom": null,
            "_model_module": "@jupyter-widgets/base",
            "top": null,
            "grid_column": null,
            "overflow_y": null,
            "overflow_x": null,
            "grid_auto_flow": null,
            "grid_area": null,
            "grid_template_columns": null,
            "flex": null,
            "_model_name": "LayoutModel",
            "justify_items": null,
            "grid_row": null,
            "max_height": null,
            "align_content": null,
            "visibility": null,
            "align_self": null,
            "height": null,
            "min_height": null,
            "padding": null,
            "grid_auto_rows": null,
            "grid_gap": null,
            "max_width": null,
            "order": null,
            "_view_module_version": "1.2.0",
            "grid_template_areas": null,
            "object_position": null,
            "object_fit": null,
            "grid_auto_columns": null,
            "margin": null,
            "display": null,
            "left": null
          }
        },
        "5ae067ab8abe41f3baf091d3d38714f5": {
          "model_module": "@jupyter-widgets/controls",
          "model_name": "FloatProgressModel",
          "state": {
            "_view_name": "ProgressView",
            "style": "IPY_MODEL_0ad37f9d6cf2406fb020ba009a93a2db",
            "_dom_classes": [],
            "description": "",
            "_model_name": "FloatProgressModel",
            "bar_style": "success",
            "max": 28881,
            "_view_module": "@jupyter-widgets/controls",
            "_model_module_version": "1.5.0",
            "value": 28881,
            "_view_count": null,
            "_view_module_version": "1.5.0",
            "orientation": "horizontal",
            "min": 0,
            "description_tooltip": null,
            "_model_module": "@jupyter-widgets/controls",
            "layout": "IPY_MODEL_81d11251a9a2464395a3e9ea7b4a4173"
          }
        },
        "a6b731ca3cbb40ac8ac98caaf57d31c3": {
          "model_module": "@jupyter-widgets/controls",
          "model_name": "HTMLModel",
          "state": {
            "_view_name": "HTMLView",
            "style": "IPY_MODEL_bc52bae55df2456c8f1830fac7726660",
            "_dom_classes": [],
            "description": "",
            "_model_name": "HTMLModel",
            "placeholder": "​",
            "_view_module": "@jupyter-widgets/controls",
            "_model_module_version": "1.5.0",
            "value": " 29696/? [00:38&lt;00:00, 767.34it/s]",
            "_view_count": null,
            "_view_module_version": "1.5.0",
            "description_tooltip": null,
            "_model_module": "@jupyter-widgets/controls",
            "layout": "IPY_MODEL_3a67794a3f1347e49016b259c7a8333b"
          }
        },
        "0ad37f9d6cf2406fb020ba009a93a2db": {
          "model_module": "@jupyter-widgets/controls",
          "model_name": "ProgressStyleModel",
          "state": {
            "_view_name": "StyleView",
            "_model_name": "ProgressStyleModel",
            "description_width": "initial",
            "_view_module": "@jupyter-widgets/base",
            "_model_module_version": "1.5.0",
            "_view_count": null,
            "_view_module_version": "1.2.0",
            "bar_color": null,
            "_model_module": "@jupyter-widgets/controls"
          }
        },
        "81d11251a9a2464395a3e9ea7b4a4173": {
          "model_module": "@jupyter-widgets/base",
          "model_name": "LayoutModel",
          "state": {
            "_view_name": "LayoutView",
            "grid_template_rows": null,
            "right": null,
            "justify_content": null,
            "_view_module": "@jupyter-widgets/base",
            "overflow": null,
            "_model_module_version": "1.2.0",
            "_view_count": null,
            "flex_flow": null,
            "width": null,
            "min_width": null,
            "border": null,
            "align_items": null,
            "bottom": null,
            "_model_module": "@jupyter-widgets/base",
            "top": null,
            "grid_column": null,
            "overflow_y": null,
            "overflow_x": null,
            "grid_auto_flow": null,
            "grid_area": null,
            "grid_template_columns": null,
            "flex": null,
            "_model_name": "LayoutModel",
            "justify_items": null,
            "grid_row": null,
            "max_height": null,
            "align_content": null,
            "visibility": null,
            "align_self": null,
            "height": null,
            "min_height": null,
            "padding": null,
            "grid_auto_rows": null,
            "grid_gap": null,
            "max_width": null,
            "order": null,
            "_view_module_version": "1.2.0",
            "grid_template_areas": null,
            "object_position": null,
            "object_fit": null,
            "grid_auto_columns": null,
            "margin": null,
            "display": null,
            "left": null
          }
        },
        "bc52bae55df2456c8f1830fac7726660": {
          "model_module": "@jupyter-widgets/controls",
          "model_name": "DescriptionStyleModel",
          "state": {
            "_view_name": "StyleView",
            "_model_name": "DescriptionStyleModel",
            "description_width": "",
            "_view_module": "@jupyter-widgets/base",
            "_model_module_version": "1.5.0",
            "_view_count": null,
            "_view_module_version": "1.2.0",
            "_model_module": "@jupyter-widgets/controls"
          }
        },
        "3a67794a3f1347e49016b259c7a8333b": {
          "model_module": "@jupyter-widgets/base",
          "model_name": "LayoutModel",
          "state": {
            "_view_name": "LayoutView",
            "grid_template_rows": null,
            "right": null,
            "justify_content": null,
            "_view_module": "@jupyter-widgets/base",
            "overflow": null,
            "_model_module_version": "1.2.0",
            "_view_count": null,
            "flex_flow": null,
            "width": null,
            "min_width": null,
            "border": null,
            "align_items": null,
            "bottom": null,
            "_model_module": "@jupyter-widgets/base",
            "top": null,
            "grid_column": null,
            "overflow_y": null,
            "overflow_x": null,
            "grid_auto_flow": null,
            "grid_area": null,
            "grid_template_columns": null,
            "flex": null,
            "_model_name": "LayoutModel",
            "justify_items": null,
            "grid_row": null,
            "max_height": null,
            "align_content": null,
            "visibility": null,
            "align_self": null,
            "height": null,
            "min_height": null,
            "padding": null,
            "grid_auto_rows": null,
            "grid_gap": null,
            "max_width": null,
            "order": null,
            "_view_module_version": "1.2.0",
            "grid_template_areas": null,
            "object_position": null,
            "object_fit": null,
            "grid_auto_columns": null,
            "margin": null,
            "display": null,
            "left": null
          }
        },
        "06593b2d4c194ee8a1cb32d50c33e1d7": {
          "model_module": "@jupyter-widgets/controls",
          "model_name": "HBoxModel",
          "state": {
            "_view_name": "HBoxView",
            "_dom_classes": [],
            "_model_name": "HBoxModel",
            "_view_module": "@jupyter-widgets/controls",
            "_model_module_version": "1.5.0",
            "_view_count": null,
            "_view_module_version": "1.5.0",
            "box_style": "",
            "layout": "IPY_MODEL_4ab76acd5b81488ca387a95ca5ce8899",
            "_model_module": "@jupyter-widgets/controls",
            "children": [
              "IPY_MODEL_8fd03b1a78f941b28dfdc72b12805d69",
              "IPY_MODEL_79a78de628c247938db51a8530d1957e"
            ]
          }
        },
        "4ab76acd5b81488ca387a95ca5ce8899": {
          "model_module": "@jupyter-widgets/base",
          "model_name": "LayoutModel",
          "state": {
            "_view_name": "LayoutView",
            "grid_template_rows": null,
            "right": null,
            "justify_content": null,
            "_view_module": "@jupyter-widgets/base",
            "overflow": null,
            "_model_module_version": "1.2.0",
            "_view_count": null,
            "flex_flow": null,
            "width": null,
            "min_width": null,
            "border": null,
            "align_items": null,
            "bottom": null,
            "_model_module": "@jupyter-widgets/base",
            "top": null,
            "grid_column": null,
            "overflow_y": null,
            "overflow_x": null,
            "grid_auto_flow": null,
            "grid_area": null,
            "grid_template_columns": null,
            "flex": null,
            "_model_name": "LayoutModel",
            "justify_items": null,
            "grid_row": null,
            "max_height": null,
            "align_content": null,
            "visibility": null,
            "align_self": null,
            "height": null,
            "min_height": null,
            "padding": null,
            "grid_auto_rows": null,
            "grid_gap": null,
            "max_width": null,
            "order": null,
            "_view_module_version": "1.2.0",
            "grid_template_areas": null,
            "object_position": null,
            "object_fit": null,
            "grid_auto_columns": null,
            "margin": null,
            "display": null,
            "left": null
          }
        },
        "8fd03b1a78f941b28dfdc72b12805d69": {
          "model_module": "@jupyter-widgets/controls",
          "model_name": "FloatProgressModel",
          "state": {
            "_view_name": "ProgressView",
            "style": "IPY_MODEL_bcd4fbfaf7d343dfa2d2a0a6e879f86b",
            "_dom_classes": [],
            "description": "",
            "_model_name": "FloatProgressModel",
            "bar_style": "success",
            "max": 1648877,
            "_view_module": "@jupyter-widgets/controls",
            "_model_module_version": "1.5.0",
            "value": 1648877,
            "_view_count": null,
            "_view_module_version": "1.5.0",
            "orientation": "horizontal",
            "min": 0,
            "description_tooltip": null,
            "_model_module": "@jupyter-widgets/controls",
            "layout": "IPY_MODEL_5551c25acf204ca08d74367a005225ec"
          }
        },
        "79a78de628c247938db51a8530d1957e": {
          "model_module": "@jupyter-widgets/controls",
          "model_name": "HTMLModel",
          "state": {
            "_view_name": "HTMLView",
            "style": "IPY_MODEL_b1416257e8fd4a56a13fb72d57de279f",
            "_dom_classes": [],
            "description": "",
            "_model_name": "HTMLModel",
            "placeholder": "​",
            "_view_module": "@jupyter-widgets/controls",
            "_model_module_version": "1.5.0",
            "value": " 1649664/? [00:38&lt;00:00, 43002.81it/s]",
            "_view_count": null,
            "_view_module_version": "1.5.0",
            "description_tooltip": null,
            "_model_module": "@jupyter-widgets/controls",
            "layout": "IPY_MODEL_d4f946863976448db6d2498a46b0ae4e"
          }
        },
        "bcd4fbfaf7d343dfa2d2a0a6e879f86b": {
          "model_module": "@jupyter-widgets/controls",
          "model_name": "ProgressStyleModel",
          "state": {
            "_view_name": "StyleView",
            "_model_name": "ProgressStyleModel",
            "description_width": "initial",
            "_view_module": "@jupyter-widgets/base",
            "_model_module_version": "1.5.0",
            "_view_count": null,
            "_view_module_version": "1.2.0",
            "bar_color": null,
            "_model_module": "@jupyter-widgets/controls"
          }
        },
        "5551c25acf204ca08d74367a005225ec": {
          "model_module": "@jupyter-widgets/base",
          "model_name": "LayoutModel",
          "state": {
            "_view_name": "LayoutView",
            "grid_template_rows": null,
            "right": null,
            "justify_content": null,
            "_view_module": "@jupyter-widgets/base",
            "overflow": null,
            "_model_module_version": "1.2.0",
            "_view_count": null,
            "flex_flow": null,
            "width": null,
            "min_width": null,
            "border": null,
            "align_items": null,
            "bottom": null,
            "_model_module": "@jupyter-widgets/base",
            "top": null,
            "grid_column": null,
            "overflow_y": null,
            "overflow_x": null,
            "grid_auto_flow": null,
            "grid_area": null,
            "grid_template_columns": null,
            "flex": null,
            "_model_name": "LayoutModel",
            "justify_items": null,
            "grid_row": null,
            "max_height": null,
            "align_content": null,
            "visibility": null,
            "align_self": null,
            "height": null,
            "min_height": null,
            "padding": null,
            "grid_auto_rows": null,
            "grid_gap": null,
            "max_width": null,
            "order": null,
            "_view_module_version": "1.2.0",
            "grid_template_areas": null,
            "object_position": null,
            "object_fit": null,
            "grid_auto_columns": null,
            "margin": null,
            "display": null,
            "left": null
          }
        },
        "b1416257e8fd4a56a13fb72d57de279f": {
          "model_module": "@jupyter-widgets/controls",
          "model_name": "DescriptionStyleModel",
          "state": {
            "_view_name": "StyleView",
            "_model_name": "DescriptionStyleModel",
            "description_width": "",
            "_view_module": "@jupyter-widgets/base",
            "_model_module_version": "1.5.0",
            "_view_count": null,
            "_view_module_version": "1.2.0",
            "_model_module": "@jupyter-widgets/controls"
          }
        },
        "d4f946863976448db6d2498a46b0ae4e": {
          "model_module": "@jupyter-widgets/base",
          "model_name": "LayoutModel",
          "state": {
            "_view_name": "LayoutView",
            "grid_template_rows": null,
            "right": null,
            "justify_content": null,
            "_view_module": "@jupyter-widgets/base",
            "overflow": null,
            "_model_module_version": "1.2.0",
            "_view_count": null,
            "flex_flow": null,
            "width": null,
            "min_width": null,
            "border": null,
            "align_items": null,
            "bottom": null,
            "_model_module": "@jupyter-widgets/base",
            "top": null,
            "grid_column": null,
            "overflow_y": null,
            "overflow_x": null,
            "grid_auto_flow": null,
            "grid_area": null,
            "grid_template_columns": null,
            "flex": null,
            "_model_name": "LayoutModel",
            "justify_items": null,
            "grid_row": null,
            "max_height": null,
            "align_content": null,
            "visibility": null,
            "align_self": null,
            "height": null,
            "min_height": null,
            "padding": null,
            "grid_auto_rows": null,
            "grid_gap": null,
            "max_width": null,
            "order": null,
            "_view_module_version": "1.2.0",
            "grid_template_areas": null,
            "object_position": null,
            "object_fit": null,
            "grid_auto_columns": null,
            "margin": null,
            "display": null,
            "left": null
          }
        },
        "b3214cc63be84839ae17c0d5929903b2": {
          "model_module": "@jupyter-widgets/controls",
          "model_name": "HBoxModel",
          "state": {
            "_view_name": "HBoxView",
            "_dom_classes": [],
            "_model_name": "HBoxModel",
            "_view_module": "@jupyter-widgets/controls",
            "_model_module_version": "1.5.0",
            "_view_count": null,
            "_view_module_version": "1.5.0",
            "box_style": "",
            "layout": "IPY_MODEL_aafe35fa1aa545c4ba0c3978336266b8",
            "_model_module": "@jupyter-widgets/controls",
            "children": [
              "IPY_MODEL_b478da46b62644cf86ebc27d7872f452",
              "IPY_MODEL_7b6043e9279b49f48a6408e28cf96c67"
            ]
          }
        },
        "aafe35fa1aa545c4ba0c3978336266b8": {
          "model_module": "@jupyter-widgets/base",
          "model_name": "LayoutModel",
          "state": {
            "_view_name": "LayoutView",
            "grid_template_rows": null,
            "right": null,
            "justify_content": null,
            "_view_module": "@jupyter-widgets/base",
            "overflow": null,
            "_model_module_version": "1.2.0",
            "_view_count": null,
            "flex_flow": null,
            "width": null,
            "min_width": null,
            "border": null,
            "align_items": null,
            "bottom": null,
            "_model_module": "@jupyter-widgets/base",
            "top": null,
            "grid_column": null,
            "overflow_y": null,
            "overflow_x": null,
            "grid_auto_flow": null,
            "grid_area": null,
            "grid_template_columns": null,
            "flex": null,
            "_model_name": "LayoutModel",
            "justify_items": null,
            "grid_row": null,
            "max_height": null,
            "align_content": null,
            "visibility": null,
            "align_self": null,
            "height": null,
            "min_height": null,
            "padding": null,
            "grid_auto_rows": null,
            "grid_gap": null,
            "max_width": null,
            "order": null,
            "_view_module_version": "1.2.0",
            "grid_template_areas": null,
            "object_position": null,
            "object_fit": null,
            "grid_auto_columns": null,
            "margin": null,
            "display": null,
            "left": null
          }
        },
        "b478da46b62644cf86ebc27d7872f452": {
          "model_module": "@jupyter-widgets/controls",
          "model_name": "FloatProgressModel",
          "state": {
            "_view_name": "ProgressView",
            "style": "IPY_MODEL_03deff47a45e48008b4359032ecf9a16",
            "_dom_classes": [],
            "description": "",
            "_model_name": "FloatProgressModel",
            "bar_style": "success",
            "max": 4542,
            "_view_module": "@jupyter-widgets/controls",
            "_model_module_version": "1.5.0",
            "value": 4542,
            "_view_count": null,
            "_view_module_version": "1.5.0",
            "orientation": "horizontal",
            "min": 0,
            "description_tooltip": null,
            "_model_module": "@jupyter-widgets/controls",
            "layout": "IPY_MODEL_54d3f74e8e0845caa24e129102e083a7"
          }
        },
        "7b6043e9279b49f48a6408e28cf96c67": {
          "model_module": "@jupyter-widgets/controls",
          "model_name": "HTMLModel",
          "state": {
            "_view_name": "HTMLView",
            "style": "IPY_MODEL_7af0a5bef2a44cd5b6fdfb5f8ed03c55",
            "_dom_classes": [],
            "description": "",
            "_model_name": "HTMLModel",
            "placeholder": "​",
            "_view_module": "@jupyter-widgets/controls",
            "_model_module_version": "1.5.0",
            "value": " 5120/? [01:22&lt;00:00, 62.18it/s]",
            "_view_count": null,
            "_view_module_version": "1.5.0",
            "description_tooltip": null,
            "_model_module": "@jupyter-widgets/controls",
            "layout": "IPY_MODEL_bb80da8aaa6b49e68d0ffba2386663a0"
          }
        },
        "03deff47a45e48008b4359032ecf9a16": {
          "model_module": "@jupyter-widgets/controls",
          "model_name": "ProgressStyleModel",
          "state": {
            "_view_name": "StyleView",
            "_model_name": "ProgressStyleModel",
            "description_width": "initial",
            "_view_module": "@jupyter-widgets/base",
            "_model_module_version": "1.5.0",
            "_view_count": null,
            "_view_module_version": "1.2.0",
            "bar_color": null,
            "_model_module": "@jupyter-widgets/controls"
          }
        },
        "54d3f74e8e0845caa24e129102e083a7": {
          "model_module": "@jupyter-widgets/base",
          "model_name": "LayoutModel",
          "state": {
            "_view_name": "LayoutView",
            "grid_template_rows": null,
            "right": null,
            "justify_content": null,
            "_view_module": "@jupyter-widgets/base",
            "overflow": null,
            "_model_module_version": "1.2.0",
            "_view_count": null,
            "flex_flow": null,
            "width": null,
            "min_width": null,
            "border": null,
            "align_items": null,
            "bottom": null,
            "_model_module": "@jupyter-widgets/base",
            "top": null,
            "grid_column": null,
            "overflow_y": null,
            "overflow_x": null,
            "grid_auto_flow": null,
            "grid_area": null,
            "grid_template_columns": null,
            "flex": null,
            "_model_name": "LayoutModel",
            "justify_items": null,
            "grid_row": null,
            "max_height": null,
            "align_content": null,
            "visibility": null,
            "align_self": null,
            "height": null,
            "min_height": null,
            "padding": null,
            "grid_auto_rows": null,
            "grid_gap": null,
            "max_width": null,
            "order": null,
            "_view_module_version": "1.2.0",
            "grid_template_areas": null,
            "object_position": null,
            "object_fit": null,
            "grid_auto_columns": null,
            "margin": null,
            "display": null,
            "left": null
          }
        },
        "7af0a5bef2a44cd5b6fdfb5f8ed03c55": {
          "model_module": "@jupyter-widgets/controls",
          "model_name": "DescriptionStyleModel",
          "state": {
            "_view_name": "StyleView",
            "_model_name": "DescriptionStyleModel",
            "description_width": "",
            "_view_module": "@jupyter-widgets/base",
            "_model_module_version": "1.5.0",
            "_view_count": null,
            "_view_module_version": "1.2.0",
            "_model_module": "@jupyter-widgets/controls"
          }
        },
        "bb80da8aaa6b49e68d0ffba2386663a0": {
          "model_module": "@jupyter-widgets/base",
          "model_name": "LayoutModel",
          "state": {
            "_view_name": "LayoutView",
            "grid_template_rows": null,
            "right": null,
            "justify_content": null,
            "_view_module": "@jupyter-widgets/base",
            "overflow": null,
            "_model_module_version": "1.2.0",
            "_view_count": null,
            "flex_flow": null,
            "width": null,
            "min_width": null,
            "border": null,
            "align_items": null,
            "bottom": null,
            "_model_module": "@jupyter-widgets/base",
            "top": null,
            "grid_column": null,
            "overflow_y": null,
            "overflow_x": null,
            "grid_auto_flow": null,
            "grid_area": null,
            "grid_template_columns": null,
            "flex": null,
            "_model_name": "LayoutModel",
            "justify_items": null,
            "grid_row": null,
            "max_height": null,
            "align_content": null,
            "visibility": null,
            "align_self": null,
            "height": null,
            "min_height": null,
            "padding": null,
            "grid_auto_rows": null,
            "grid_gap": null,
            "max_width": null,
            "order": null,
            "_view_module_version": "1.2.0",
            "grid_template_areas": null,
            "object_position": null,
            "object_fit": null,
            "grid_auto_columns": null,
            "margin": null,
            "display": null,
            "left": null
          }
        }
      }
    }
  },
  "cells": [
    {
      "cell_type": "markdown",
      "metadata": {
        "id": "view-in-github",
        "colab_type": "text"
      },
      "source": [
        "<a href=\"https://colab.research.google.com/github/ahmadkhan242/PlayingWithMNIST/blob/main/task2.ipynb\" target=\"_parent\"><img src=\"https://colab.research.google.com/assets/colab-badge.svg\" alt=\"Open In Colab\"/></a>"
      ]
    },
    {
      "cell_type": "code",
      "metadata": {
        "id": "qgseLn9Ld3Wc"
      },
      "source": [
        "!wget https://www.dropbox.com/s/pan6mutc5xj5kj0/trainPart1.zip"
      ],
      "execution_count": null,
      "outputs": []
    },
    {
      "cell_type": "code",
      "metadata": {
        "id": "G4Rh1foUeG_u"
      },
      "source": [
        "!unzip trainPart1.zip"
      ],
      "execution_count": null,
      "outputs": []
    },
    {
      "cell_type": "markdown",
      "metadata": {
        "id": "57C4f6GciYQO"
      },
      "source": [
        "## For this task I had used Pytorch library to implement CNN."
      ]
    },
    {
      "cell_type": "code",
      "metadata": {
        "id": "HYU7CzMg051I"
      },
      "source": [
        "# Importing all libraries  required.\n",
        "import numpy as np\n",
        "import torch\n",
        "import torch.optim as optim\n",
        "import torch.nn.functional as F\n",
        "import torch.nn as nn\n",
        "import os,shutil,json\n",
        "import glob\n",
        "import torch.utils.data\n",
        "import math\n",
        "from skimage import io, transform\n",
        "from PIL import Image\n",
        "import torchvision as vision\n",
        "from torchvision import transforms, datasets\n",
        "import random\n",
        "import cv2\n",
        "import matplotlib.pyplot as plt\n",
        "import matplotlib.image as mpimg\n",
        "from torch.utils.data.sampler import SubsetRandomSampler\n",
        "from torch.autograd import Variable\n",
        "from torch.utils.data import random_split\n",
        "from torchvision.datasets import ImageFolder\n",
        "\n",
        "torch.cuda.empty_cache()"
      ],
      "execution_count": 1,
      "outputs": []
    },
    {
      "cell_type": "markdown",
      "metadata": {
        "id": "FAqqtN9dZ_lS"
      },
      "source": [
        "### The function below takes first ten folder from `train` folder and save it to `new_train` folder."
      ]
    },
    {
      "cell_type": "code",
      "metadata": {
        "id": "TBdKykMI157N"
      },
      "source": [
        "root_dir = \"/content/train\"\n",
        "all_filepaths = []\n",
        "all_main_files = sorted(glob.glob(root_dir+'/*'))\n",
        "for i in range(0, len(all_main_files[0:10])):\n",
        "  \n",
        "  all_files = sorted(glob.glob(all_main_files[i]+'/*.png'))\n",
        "  for files in all_files:\n",
        "      if not os.path.exists(\"/content/new_train/\"  + str(i)):\n",
        "          os.makedirs(\"/content/new_train/\"  + str(i))\n",
        "      os.rename(files, \"/content/new_train/\"  + str(i) +\"/\"+ files.split(\"/\")[-1])\n",
        "\n",
        "root_dir = \"/content/new_train\""
      ],
      "execution_count": null,
      "outputs": []
    },
    {
      "cell_type": "markdown",
      "metadata": {
        "id": "II1_ql4wi46I"
      },
      "source": [
        "### The funtion below is used to create train and validation loader."
      ]
    },
    {
      "cell_type": "code",
      "metadata": {
        "id": "02NsuNRqaTKw"
      },
      "source": [
        "def prepare_dataset(dataset_path):\n",
        "  \"\"\" Function to create train and validation loader.\n",
        "    Params:\n",
        "        dataset_path: path where all images are.\n",
        "    \n",
        "    returns: \n",
        "        train_loader: train loader with batch size of 64\n",
        "        validation_loader: validation loader with batch size of 128\n",
        "        \n",
        "    Note: Split ratio and batch sizes are pre-defined you can change it in this function.\n",
        "    \"\"\"\n",
        "\n",
        "  labels = os.listdir(dataset_path)\n",
        "\n",
        "  # Here images are resized and converted to grayscale so that we have data consistency for other tasks\n",
        "  dataset = ImageFolder(\n",
        "      dataset_path,\n",
        "      transforms.Compose([transforms.Resize((32,32)),\n",
        "                         transforms.ToTensor(),transforms.Grayscale(num_output_channels=1)])\n",
        "  )\n",
        "  # Validation split of 15%\n",
        "  val_split = int(len(dataset)*0.15)\n",
        "  train_split = len(dataset) - val_split\n",
        "\n",
        "  train_dataset, val_dataset = random_split(dataset, [train_split, val_split])\n",
        "\n",
        "  # to make sure the split is right.\n",
        "  assert (len(train_dataset)+len(val_dataset)) == len(dataset)\n",
        "\n",
        "  train_loader = torch.utils.data.DataLoader(train_dataset, 64, shuffle=True)\n",
        "  validation_loader = torch.utils.data.DataLoader(val_dataset, 128) \n",
        "\n",
        "  return (train_loader, validation_loader)\n"
      ],
      "execution_count": null,
      "outputs": []
    },
    {
      "cell_type": "code",
      "metadata": {
        "id": "Nkz4OscMev5a"
      },
      "source": [
        "# executing prepare_dataset function\n",
        "data_dir = '/content/new_train'\n",
        "train_loader, validation_loader = prepare_dataset(data_dir)"
      ],
      "execution_count": null,
      "outputs": []
    },
    {
      "cell_type": "markdown",
      "metadata": {
        "id": "Cy0XQYtzke2R"
      },
      "source": [
        "### Data visualisation "
      ]
    },
    {
      "cell_type": "code",
      "metadata": {
        "colab": {
          "base_uri": "https://localhost:8080/",
          "height": 551
        },
        "id": "-Wqqe-gGahup",
        "outputId": "dc4ab343-0a25-4b7b-99a2-0cc992a4f720"
      },
      "source": [
        "examples = enumerate(train_loader)\n",
        "batch_idx, (example_data, example_targets) = next(examples)\n",
        "import matplotlib.pyplot as plt\n",
        "\n",
        "fig = plt.figure()\n",
        "for i in range(6):\n",
        "  plt.subplot(2,3,i+1)\n",
        "  plt.tight_layout()\n",
        "  plt.imshow(example_data[i][0], cmap='gray', interpolation='none')\n",
        "  plt.title(\"Ground Truth: {}\".format(example_targets[i]))\n",
        "  plt.xticks([])\n",
        "  plt.yticks([])\n",
        "fig"
      ],
      "execution_count": null,
      "outputs": [
        {
          "output_type": "execute_result",
          "data": {
            "image/png": "[encoded data removed]",
            "text/plain": [
              "<Figure size 432x288 with 6 Axes>"
            ]
          },
          "metadata": {
            "tags": []
          },
          "execution_count": 7
        },
        {
          "output_type": "display_data",
          "data": {
            "image/png": "[encoded data removed]",
            "text/plain": [
              "<Figure size 432x288 with 6 Axes>"
            ]
          },
          "metadata": {
            "tags": []
          }
        }
      ]
    },
    {
      "cell_type": "markdown",
      "metadata": {
        "id": "ykT56RGBk9ya"
      },
      "source": [
        "### Here the CNN architecture  is defined, the architecture is of ResNet with four layers and one resedual block in each layer( See conclusion for detail)."
      ]
    },
    {
      "cell_type": "code",
      "metadata": {
        "id": "5fGi8xvTHkVi"
      },
      "source": [
        "\n",
        "class BasicBlock(nn.Module):\n",
        "    expansion = 1\n",
        "\n",
        "    def __init__(self, in_planes, planes, stride=1):\n",
        "        super(BasicBlock, self).__init__()\n",
        "        self.conv1 = nn.Conv2d(in_planes, planes, kernel_size=(3,3), stride=stride, padding=1, bias=False)\n",
        "        self.bn1 = nn.BatchNorm2d(planes)\n",
        "        self.conv2 = nn.Conv2d(planes, planes, kernel_size=(3,3), stride=1, padding=1, bias=False)\n",
        "        self.bn2 = nn.BatchNorm2d(planes)\n",
        "\n",
        "        self.shortcut = nn.Sequential()\n",
        "        if stride != 1 or in_planes != self.expansion*planes:\n",
        "            self.shortcut = nn.Sequential(\n",
        "                nn.Conv2d(in_planes, self.expansion*planes, kernel_size=1, stride=stride, bias=False),\n",
        "                nn.BatchNorm2d(self.expansion*planes)\n",
        "            )\n",
        "\n",
        "    def forward(self, x):\n",
        "        out = self.conv1(x)\n",
        "        out = self.bn1(out)\n",
        "        out = F.relu(out)\n",
        "        out = self.conv2(out)\n",
        "        out = self.bn2(out)\n",
        "        out += self.shortcut(x)\n",
        "        out = F.relu(out)\n",
        "        return out\n",
        "\n",
        "\n",
        "class Bottleneck(nn.Module):\n",
        "    expansion = 4\n",
        "\n",
        "    def __init__(self, in_planes, planes, stride=1):\n",
        "        super(Bottleneck, self).__init__()\n",
        "        self.conv1 = nn.Conv2d(in_planes, planes, kernel_size=(3,3), bias=False)\n",
        "        self.bn1 = nn.BatchNorm2d(planes)\n",
        "        self.conv2 = nn.Conv2d(planes, planes, kernel_size=(3,3), stride=stride, padding=1, bias=False)\n",
        "        self.bn2 = nn.BatchNorm2d(planes)\n",
        "        self.conv3 = nn.Conv2d(planes, self.expansion*planes, kernel_size=(3,3), bias=False)\n",
        "        self.bn3 = nn.BatchNorm2d(self.expansion*planes)\n",
        "\n",
        "        self.shortcut = nn.Sequential()\n",
        "        if stride != 1 or in_planes != self.expansion*planes:\n",
        "            self.shortcut = nn.Sequential(\n",
        "                nn.Conv2d(in_planes, self.expansion*planes, kernel_size=(4,4), stride=stride, bias=False),\n",
        "                nn.BatchNorm2d(self.expansion*planes)\n",
        "            )\n",
        "\n",
        "    def forward(self, x):\n",
        "        out = self.conv1(x)\n",
        "        out = self.bn1(out)\n",
        "        out = F.relu(out)\n",
        "        out = self.conv2(out)\n",
        "        out = self.bn2(out)\n",
        "        out = F.relu(out)\n",
        "        out = self.bn3(self.conv3(out))\n",
        "        out += self.shortcut(x)\n",
        "        out = F.relu(out)\n",
        "        return out\n",
        "\n",
        "\n",
        "class ResNet(nn.Module):\n",
        "    def __init__(self, block, num_blocks, num_classes=10):\n",
        "        super(ResNet, self).__init__()\n",
        "        self.in_planes = 64\n",
        "\n",
        "        self.conv1 = nn.Conv2d(1, 64, kernel_size=(3,3), stride=1, padding=1, bias=False)\n",
        "        self.bn1 = nn.BatchNorm2d(64)\n",
        "        self.layer1 = self._make_layer(block, 64, num_blocks[0], stride=1)\n",
        "        self.layer2 = self._make_layer(block, 128, num_blocks[1], stride=1)\n",
        "        self.layer3 = self._make_layer(block, 256, num_blocks[2], stride=1)\n",
        "        self.layer4 = self._make_layer(block, 512, num_blocks[3], stride=1)\n",
        "        self.linear1 = nn.Linear(512, 256)\n",
        "        self.linear2 = nn.Linear(256, 128)\n",
        "        self.linear3 = nn.Linear(128, num_classes)\n",
        "        self.dropout1 = nn.Dropout(0.3)\n",
        "        self.dropout2 = nn.Dropout(0.4)\n",
        "\n",
        "    def _make_layer(self, block, planes, num_blocks, stride):\n",
        "        strides = [stride] + [1]*(num_blocks-1)\n",
        "        layers = []\n",
        "        for stride in strides:\n",
        "            layers.append(block(self.in_planes, planes, stride))\n",
        "            self.in_planes = planes * block.expansion\n",
        "        return nn.Sequential(*layers)\n",
        "\n",
        "    def forward(self, x):\n",
        "        out = F.relu(self.bn1(self.conv1(x)))\n",
        "        out = self.layer1(out)\n",
        "        out = self.layer2(out)\n",
        "        out = self.layer3(out)\n",
        "        out = F.avg_pool2d(out, 5)\n",
        "        out = self.layer4(out)\n",
        "        out = F.avg_pool2d(out, 5)\n",
        "        out = torch.flatten(out, 1)\n",
        "        out = self.linear1(out)\n",
        "        out = self.dropout1(out)\n",
        "        out = self.linear2(out)\n",
        "        out = self.dropout2(out)\n",
        "        out = self.linear3(out)\n",
        "        return out\n"
      ],
      "execution_count": 2,
      "outputs": []
    },
    {
      "cell_type": "markdown",
      "metadata": {
        "id": "N3Krw0zlqMDd"
      },
      "source": [
        "### In the cell below, defined the Model, the loss function, and the Optimizer I have used for this task. "
      ]
    },
    {
      "cell_type": "code",
      "metadata": {
        "colab": {
          "base_uri": "https://localhost:8080/"
        },
        "id": "8F6HpJsl-u3x",
        "outputId": "608853f9-e53c-4925-e004-c51604060a8d"
      },
      "source": [
        "model = ResNet(BasicBlock, [1, 1, 1, 1])\n",
        "\n",
        "criterion = nn.CrossEntropyLoss()\n",
        "torch.cuda.empty_cache()\n",
        "\n",
        "if torch.cuda.is_available():\n",
        "\tprint(torch.cuda.get_device_name(0))\n",
        "\tmodel = model.cuda()\n",
        "\toptimizer = optim.Adam(model.parameters(), lr=1e-3, weight_decay=1e-4)\n",
        "\tcriterion = criterion.cuda()"
      ],
      "execution_count": 3,
      "outputs": [
        {
          "output_type": "stream",
          "text": [
            "Tesla P100-PCIE-16GB\n"
          ],
          "name": "stdout"
        }
      ]
    },
    {
      "cell_type": "markdown",
      "metadata": {
        "id": "V_WSk7R6qkHz"
      },
      "source": [
        "### Here the train function is defined for training the model defined above.\n",
        "### Please follow the comment to guide your self in the train function."
      ]
    },
    {
      "cell_type": "code",
      "metadata": {
        "colab": {
          "base_uri": "https://localhost:8080/"
        },
        "id": "9Zt6fvvVxLi2",
        "outputId": "d5188c00-ceb2-408a-f32d-0b7646c20d3e"
      },
      "source": [
        "# Loss and accuracy list are defined, these lists are used for graph.\n",
        "train_loss_list = []\n",
        "val_loss_list = []\n",
        "epc_list = []\n",
        "train_acc_list = []\n",
        "val_acc_list = []\n",
        "\n",
        "def train():\n",
        "  # best_valid_loss is defined so as to save the best validation loss which is lowest one.\n",
        "  best_valid_loss = float('Inf')\n",
        "\n",
        "  print(\"Training Started !!!\")\n",
        "  for i in range(50):\n",
        "    training_loss = 0\n",
        "    tcorrect = 0\n",
        "    ttotal = 0\n",
        "    model.train()\n",
        "    for features, labels in train_loader:\n",
        "      # Label and features assigning\n",
        "      features, labels = Variable(features.cuda()), Variable(labels.cuda())\n",
        "      optimizer.zero_grad()\n",
        "\n",
        "      # Output collection from model\n",
        "      outputs = model(features.float())\n",
        "      \n",
        "      # Loss calculation and updation\n",
        "      losss = criterion(outputs.cuda(), labels.type(torch.LongTensor).cuda())\n",
        "      losss.backward()\n",
        "      optimizer.step()\n",
        "      training_loss += losss.item()\n",
        "\n",
        "      # Prediction\n",
        "      _, pred = torch.max(outputs, 1)\n",
        "      ttotal+= labels.reshape(-1).size(0)\n",
        "      tcorrect+=(pred.reshape(-1).cuda() == labels.reshape(-1)).sum().item()\n",
        "  \n",
        "    # Validation step starts from here.\n",
        "    validation_loss = 0\n",
        "    correct = 0\n",
        "    total = 0\n",
        "    model.eval()\n",
        "    with torch.no_grad():\n",
        "      for features, labels in validation_loader:\n",
        "        # Label and features assigning\n",
        "        features, labels = Variable(features.cuda()), Variable(labels.cuda())\n",
        "\n",
        "        # Output collection from model\n",
        "        outputs = model(features.float())\n",
        "        \n",
        "        # Loss calculation, here we skip the backward and \n",
        "        # optimizer step as we do not update weights while validating a model\n",
        "        loss = criterion(outputs.cuda(), labels.type(torch.LongTensor).cuda())\n",
        "\n",
        "        # Prediction\n",
        "        _, pred = torch.max(outputs, 1)\n",
        "        total+= labels.reshape(-1).size(0)\n",
        "        correct+=(pred.reshape(-1).cuda() == labels.reshape(-1)).sum().item()\n",
        "        validation_loss += loss.item()\n",
        "\n",
        "\n",
        "    train_loss_list.append(training_loss/len(train_loader))\n",
        "    val_loss_list.append(validation_loss/len(validation_loader))\n",
        "    epc_list.append(i)\n",
        "    train_acc_list.append(100*(tcorrect/ttotal))\n",
        "    val_acc_list.append(100*(correct/total))\n",
        "\n",
        "    # Logic was defined so as to save the weights of model when validation loss is lowest.\n",
        "    if best_valid_loss > validation_loss:\n",
        "        best_valid_loss = validation_loss \n",
        "        # Saving Best Pre-Trained Model as .pth file\n",
        "        torch.save(model.state_dict(), \"task2.pth\")\n",
        "        \n",
        "    print(\"Epoch {} - \\nTraning loss: {}\".format(i+1, training_loss/len(train_loader)))\n",
        "    print(\"Validation loss: {}\".format( validation_loss/len(validation_loader)))\n",
        "    print(\"Trainig Accuracy: {}\".format( 100*(tcorrect/ttotal)))\n",
        "    print(\"Validation Accuracy: {}\".format(100*(correct/total)))\n",
        "\n",
        "train()\n",
        "print(\"Training Complete\")"
      ],
      "execution_count": null,
      "outputs": [
        {
          "output_type": "stream",
          "text": [
            "Training Started !!!\n",
            "Epoch 1 - \n",
            "Traning loss: 2.0703628063201904\n",
            "Validation loss: 2.7540347576141357\n",
            "Trainig Accuracy: 23.52941176470588\n",
            "Validation Accuracy: 11.666666666666666\n",
            "Epoch 2 - \n",
            "Traning loss: 1.6184162334962324\n",
            "Validation loss: 3.920053243637085\n",
            "Trainig Accuracy: 40.588235294117645\n",
            "Validation Accuracy: 13.333333333333334\n",
            "Epoch 3 - \n",
            "Traning loss: 1.2030069015242837\n",
            "Validation loss: 5.686151027679443\n",
            "Trainig Accuracy: 56.470588235294116\n",
            "Validation Accuracy: 11.666666666666666\n",
            "Epoch 4 - \n",
            "Traning loss: 0.8871240561658685\n",
            "Validation loss: 2.874668598175049\n",
            "Trainig Accuracy: 68.52941176470588\n",
            "Validation Accuracy: 30.0\n",
            "Epoch 5 - \n",
            "Traning loss: 0.5695564421740446\n",
            "Validation loss: 0.7450859546661377\n",
            "Trainig Accuracy: 80.88235294117648\n",
            "Validation Accuracy: 78.33333333333333\n",
            "Epoch 6 - \n",
            "Traning loss: 0.4338908777995543\n",
            "Validation loss: 9.816723823547363\n",
            "Trainig Accuracy: 82.6470588235294\n",
            "Validation Accuracy: 16.666666666666664\n",
            "Epoch 7 - \n",
            "Traning loss: 0.37899772551926697\n",
            "Validation loss: 2.772146701812744\n",
            "Trainig Accuracy: 86.1764705882353\n",
            "Validation Accuracy: 53.333333333333336\n",
            "Epoch 8 - \n",
            "Traning loss: 0.32286297191273083\n",
            "Validation loss: 1.2572218179702759\n",
            "Trainig Accuracy: 89.11764705882354\n",
            "Validation Accuracy: 71.66666666666667\n",
            "Epoch 9 - \n",
            "Traning loss: 0.3364699489691041\n",
            "Validation loss: 0.2979826033115387\n",
            "Trainig Accuracy: 89.70588235294117\n",
            "Validation Accuracy: 85.0\n",
            "Epoch 10 - \n",
            "Traning loss: 0.19123424521901392\n",
            "Validation loss: 0.27282649278640747\n",
            "Trainig Accuracy: 93.52941176470588\n",
            "Validation Accuracy: 88.33333333333333\n",
            "Epoch 11 - \n",
            "Traning loss: 0.12968699718740853\n",
            "Validation loss: 0.7303839921951294\n",
            "Trainig Accuracy: 95.29411764705881\n",
            "Validation Accuracy: 75.0\n",
            "Epoch 12 - \n",
            "Traning loss: 0.1479632414200089\n",
            "Validation loss: 0.3184480369091034\n",
            "Trainig Accuracy: 94.70588235294117\n",
            "Validation Accuracy: 90.0\n",
            "Epoch 13 - \n",
            "Traning loss: 0.12485973367636855\n",
            "Validation loss: 0.16581584513187408\n",
            "Trainig Accuracy: 96.17647058823529\n",
            "Validation Accuracy: 96.66666666666667\n",
            "Epoch 14 - \n",
            "Traning loss: 0.12812720069831068\n",
            "Validation loss: 0.4592311978340149\n",
            "Trainig Accuracy: 95.88235294117648\n",
            "Validation Accuracy: 83.33333333333334\n",
            "Epoch 15 - \n",
            "Traning loss: 0.11101820167492736\n",
            "Validation loss: 0.30055466294288635\n",
            "Trainig Accuracy: 96.17647058823529\n",
            "Validation Accuracy: 93.33333333333333\n",
            "Epoch 16 - \n",
            "Traning loss: 0.11148795976557514\n",
            "Validation loss: 0.18810132145881653\n",
            "Trainig Accuracy: 96.47058823529412\n",
            "Validation Accuracy: 93.33333333333333\n",
            "Epoch 17 - \n",
            "Traning loss: 0.09879395907575433\n",
            "Validation loss: 0.2381475567817688\n",
            "Trainig Accuracy: 96.76470588235294\n",
            "Validation Accuracy: 91.66666666666666\n",
            "Epoch 18 - \n",
            "Traning loss: 0.039741508874364874\n",
            "Validation loss: 0.3087643086910248\n",
            "Trainig Accuracy: 98.82352941176471\n",
            "Validation Accuracy: 88.33333333333333\n",
            "Epoch 19 - \n",
            "Traning loss: 0.047622023954648866\n",
            "Validation loss: 0.5666475296020508\n",
            "Trainig Accuracy: 98.52941176470588\n",
            "Validation Accuracy: 88.33333333333333\n",
            "Epoch 20 - \n",
            "Traning loss: 0.0672337684611028\n",
            "Validation loss: 1.0414994955062866\n",
            "Trainig Accuracy: 97.94117647058823\n",
            "Validation Accuracy: 75.0\n",
            "Epoch 21 - \n",
            "Traning loss: 0.08426306853917512\n",
            "Validation loss: 2.995875835418701\n",
            "Trainig Accuracy: 97.05882352941177\n",
            "Validation Accuracy: 60.0\n",
            "Epoch 22 - \n",
            "Traning loss: 0.18631979145786978\n",
            "Validation loss: 0.22882181406021118\n",
            "Trainig Accuracy: 93.82352941176471\n",
            "Validation Accuracy: 86.66666666666667\n",
            "Epoch 23 - \n",
            "Traning loss: 0.2067188463089141\n",
            "Validation loss: 1.3254940509796143\n",
            "Trainig Accuracy: 94.41176470588235\n",
            "Validation Accuracy: 70.0\n",
            "Epoch 24 - \n",
            "Traning loss: 0.21916368874636563\n",
            "Validation loss: 0.2523302733898163\n",
            "Trainig Accuracy: 95.0\n",
            "Validation Accuracy: 91.66666666666666\n",
            "Epoch 25 - \n",
            "Traning loss: 0.1351123136383566\n",
            "Validation loss: 0.8064010739326477\n",
            "Trainig Accuracy: 97.05882352941177\n",
            "Validation Accuracy: 78.33333333333333\n",
            "Epoch 26 - \n",
            "Traning loss: 0.05021280824968761\n",
            "Validation loss: 0.5775251984596252\n",
            "Trainig Accuracy: 98.23529411764706\n",
            "Validation Accuracy: 86.66666666666667\n",
            "Epoch 27 - \n",
            "Traning loss: 0.07296234240162779\n",
            "Validation loss: 0.46833112835884094\n",
            "Trainig Accuracy: 97.94117647058823\n",
            "Validation Accuracy: 83.33333333333334\n",
            "Epoch 28 - \n",
            "Traning loss: 0.0744672050614926\n",
            "Validation loss: 1.2151614427566528\n",
            "Trainig Accuracy: 97.6470588235294\n",
            "Validation Accuracy: 85.0\n",
            "Epoch 29 - \n",
            "Traning loss: 0.032893649133091625\n",
            "Validation loss: 0.14501135051250458\n",
            "Trainig Accuracy: 99.41176470588235\n",
            "Validation Accuracy: 96.66666666666667\n",
            "Epoch 30 - \n",
            "Traning loss: 0.03551384523002939\n",
            "Validation loss: 0.11780904978513718\n",
            "Trainig Accuracy: 98.82352941176471\n",
            "Validation Accuracy: 95.0\n",
            "Epoch 31 - \n",
            "Traning loss: 0.010436320063573394\n",
            "Validation loss: 0.039047278463840485\n",
            "Trainig Accuracy: 99.70588235294117\n",
            "Validation Accuracy: 100.0\n",
            "Epoch 32 - \n",
            "Traning loss: 0.005748356226831675\n",
            "Validation loss: 0.007521259132772684\n",
            "Trainig Accuracy: 100.0\n",
            "Validation Accuracy: 100.0\n",
            "Epoch 33 - \n",
            "Traning loss: 0.0056628697559724306\n",
            "Validation loss: 0.006513588596135378\n",
            "Trainig Accuracy: 100.0\n",
            "Validation Accuracy: 100.0\n",
            "Epoch 34 - \n",
            "Traning loss: 0.0021181364136282355\n",
            "Validation loss: 0.003734928322955966\n",
            "Trainig Accuracy: 100.0\n",
            "Validation Accuracy: 100.0\n",
            "Epoch 35 - \n",
            "Traning loss: 0.0035974771916781638\n",
            "Validation loss: 0.0009029653738252819\n",
            "Trainig Accuracy: 100.0\n",
            "Validation Accuracy: 100.0\n",
            "Epoch 36 - \n",
            "Traning loss: 0.002054027054162527\n",
            "Validation loss: 0.0006246672128327191\n",
            "Trainig Accuracy: 100.0\n",
            "Validation Accuracy: 100.0\n",
            "Epoch 37 - \n",
            "Traning loss: 0.0020673589421097527\n",
            "Validation loss: 0.0005063774879090488\n",
            "Trainig Accuracy: 100.0\n",
            "Validation Accuracy: 100.0\n",
            "Epoch 38 - \n",
            "Traning loss: 0.0023617991947420787\n",
            "Validation loss: 0.010808397084474564\n",
            "Trainig Accuracy: 100.0\n",
            "Validation Accuracy: 100.0\n",
            "Epoch 39 - \n",
            "Traning loss: 0.00593586319486018\n",
            "Validation loss: 0.0007287333137355745\n",
            "Trainig Accuracy: 99.70588235294117\n",
            "Validation Accuracy: 100.0\n",
            "Epoch 40 - \n",
            "Traning loss: 0.019059151448097757\n",
            "Validation loss: 0.00540779996663332\n",
            "Trainig Accuracy: 99.11764705882354\n",
            "Validation Accuracy: 100.0\n",
            "Epoch 41 - \n",
            "Traning loss: 0.01755371228368445\n",
            "Validation loss: 0.053167395293712616\n",
            "Trainig Accuracy: 99.41176470588235\n",
            "Validation Accuracy: 98.33333333333333\n",
            "Epoch 42 - \n",
            "Traning loss: 0.01997536614494906\n",
            "Validation loss: 0.04135261848568916\n",
            "Trainig Accuracy: 99.11764705882354\n",
            "Validation Accuracy: 98.33333333333333\n",
            "Epoch 43 - \n",
            "Traning loss: 0.03736085950566286\n",
            "Validation loss: 0.2936886250972748\n",
            "Trainig Accuracy: 97.94117647058823\n",
            "Validation Accuracy: 93.33333333333333\n",
            "Epoch 44 - \n",
            "Traning loss: 0.04583975940477103\n",
            "Validation loss: 0.03491634875535965\n",
            "Trainig Accuracy: 98.52941176470588\n",
            "Validation Accuracy: 98.33333333333333\n",
            "Epoch 45 - \n",
            "Traning loss: 0.05219289624470879\n",
            "Validation loss: 0.006415077485144138\n",
            "Trainig Accuracy: 98.52941176470588\n",
            "Validation Accuracy: 100.0\n",
            "Epoch 46 - \n",
            "Traning loss: 0.024231011428954927\n",
            "Validation loss: 0.01170544046908617\n",
            "Trainig Accuracy: 99.41176470588235\n",
            "Validation Accuracy: 100.0\n",
            "Epoch 47 - \n",
            "Traning loss: 0.015404364596840671\n",
            "Validation loss: 0.11035145819187164\n",
            "Trainig Accuracy: 99.70588235294117\n",
            "Validation Accuracy: 98.33333333333333\n",
            "Epoch 48 - \n",
            "Traning loss: 0.015958696503234518\n",
            "Validation loss: 0.11239520460367203\n",
            "Trainig Accuracy: 99.70588235294117\n",
            "Validation Accuracy: 96.66666666666667\n",
            "Epoch 49 - \n",
            "Traning loss: 0.005657962097426538\n",
            "Validation loss: 0.3515877425670624\n",
            "Trainig Accuracy: 99.70588235294117\n",
            "Validation Accuracy: 93.33333333333333\n",
            "Epoch 50 - \n",
            "Traning loss: 0.006672115088969638\n",
            "Validation loss: 0.012648957781493664\n",
            "Trainig Accuracy: 100.0\n",
            "Validation Accuracy: 100.0\n",
            "Training Complete\n"
          ],
          "name": "stdout"
        }
      ]
    },
    {
      "cell_type": "markdown",
      "metadata": {
        "id": "NuZpsLUHcaUU"
      },
      "source": [
        "### Graph plot of training loss and validation loss with no of epochs.\n"
      ]
    },
    {
      "cell_type": "code",
      "metadata": {
        "colab": {
          "base_uri": "https://localhost:8080/",
          "height": 501
        },
        "id": "MmkqT_K1xLol",
        "outputId": "2cb00f0a-070f-4a76-a3df-0212af0f94ac"
      },
      "source": [
        "plt.figure(figsize=(12, 8))\n",
        "plt.plot(epc_list, train_loss_list, label='Train')\n",
        "plt.plot(epc_list, val_loss_list, label='Valid')\n",
        "plt.xlabel('Epochs', fontsize=14)\n",
        "plt.ylabel('Loss', fontsize=14)\n",
        "plt.legend(fontsize=14)\n",
        "plt.show()"
      ],
      "execution_count": null,
      "outputs": [
        {
          "output_type": "display_data",
          "data": {
            "image/png": "[encoded data removed]",
            "text/plain": [
              "<Figure size 864x576 with 1 Axes>"
            ]
          },
          "metadata": {
            "tags": [],
            "needs_background": "light"
          }
        }
      ]
    },
    {
      "cell_type": "markdown",
      "metadata": {
        "id": "1vpheP0eJzT-"
      },
      "source": [
        "### Graph plot of training accuracy and validation accuracy with no of epochs.\n"
      ]
    },
    {
      "cell_type": "code",
      "metadata": {
        "colab": {
          "base_uri": "https://localhost:8080/",
          "height": 501
        },
        "id": "QNrbnIW1xLrg",
        "outputId": "da31c5c9-2d8a-42d3-8297-d00df6711351"
      },
      "source": [
        "plt.figure(figsize=(12, 8))\n",
        "plt.plot(epc_list, train_acc_list, label='Train')\n",
        "plt.plot(epc_list, val_acc_list, label='Valid')\n",
        "plt.xlabel('Epochs', fontsize=14)\n",
        "plt.ylabel('Accuracy', fontsize=14)\n",
        "plt.legend(fontsize=14)\n",
        "plt.show()"
      ],
      "execution_count": null,
      "outputs": [
        {
          "output_type": "display_data",
          "data": {
            "image/png": "[encoded data removed]",
            "text/plain": [
              "<Figure size 864x576 with 1 Axes>"
            ]
          },
          "metadata": {
            "tags": [],
            "needs_background": "light"
          }
        }
      ]
    },
    {
      "cell_type": "markdown",
      "metadata": {
        "id": "MswMw5tq_3lm"
      },
      "source": [
        "# MNIST training part."
      ]
    },
    {
      "cell_type": "markdown",
      "metadata": {
        "id": "qCXUqW97dD1e"
      },
      "source": [
        "### Downloading MNIST dataset from pytorch datasets API."
      ]
    },
    {
      "cell_type": "code",
      "metadata": {
        "id": "x10D-jE1_6Q2",
        "colab": {
          "base_uri": "https://localhost:8080/",
          "height": 573,
          "referenced_widgets": [
            "85406dd805474e7f9e6c35dd75714bfc",
            "23f6e96bb2bd4695bee3330b8d15e5f7",
            "b9889b6bf17e426fb586cbc35be23437",
            "c792921890f144309cdfb5d7ca44c526",
            "47f083f3e41241ca9e62c335bdec761a",
            "b7f905488d934750b54a3a82553a60e7",
            "a3823d33f59742f7912354912b068a2d",
            "098ca9a3f0fc4e83b531f66f4a469f40",
            "85c58b6b1e83440f8773c3f7be9fa12a",
            "43921f26c27a4d4991a8147a2fdd9a0d",
            "5ae067ab8abe41f3baf091d3d38714f5",
            "a6b731ca3cbb40ac8ac98caaf57d31c3",
            "0ad37f9d6cf2406fb020ba009a93a2db",
            "81d11251a9a2464395a3e9ea7b4a4173",
            "bc52bae55df2456c8f1830fac7726660",
            "3a67794a3f1347e49016b259c7a8333b",
            "06593b2d4c194ee8a1cb32d50c33e1d7",
            "4ab76acd5b81488ca387a95ca5ce8899",
            "8fd03b1a78f941b28dfdc72b12805d69",
            "79a78de628c247938db51a8530d1957e",
            "bcd4fbfaf7d343dfa2d2a0a6e879f86b",
            "5551c25acf204ca08d74367a005225ec",
            "b1416257e8fd4a56a13fb72d57de279f",
            "d4f946863976448db6d2498a46b0ae4e",
            "b3214cc63be84839ae17c0d5929903b2",
            "aafe35fa1aa545c4ba0c3978336266b8",
            "b478da46b62644cf86ebc27d7872f452",
            "7b6043e9279b49f48a6408e28cf96c67",
            "03deff47a45e48008b4359032ecf9a16",
            "54d3f74e8e0845caa24e129102e083a7",
            "7af0a5bef2a44cd5b6fdfb5f8ed03c55",
            "bb80da8aaa6b49e68d0ffba2386663a0"
          ]
        },
        "outputId": "93b5d133-de5f-424b-8d8b-033a27054519"
      },
      "source": [
        "# Images were tranformed to tensor and resized to 32x32\n",
        "transform = transforms.Compose([\n",
        "            transforms.ToTensor(),\n",
        "            transforms.Resize((32, 32))\n",
        "        ])\n",
        "\n",
        "# Load and transform data\n",
        "trainset = datasets.MNIST('/mnist', train=True, download=True, transform=transform)\n",
        "trainloader = torch.utils.data.DataLoader(trainset, batch_size=64, shuffle=True, num_workers=0)\n",
        "\n",
        "testset = datasets.MNIST('/mnist', train=False, download=True, transform=transform)\n",
        "testloader = torch.utils.data.DataLoader(testset, batch_size=128, shuffle=False, num_workers=0)"
      ],
      "execution_count": 5,
      "outputs": [
        {
          "output_type": "stream",
          "text": [
            "Downloading http://yann.lecun.com/exdb/mnist/train-images-idx3-ubyte.gz\n",
            "Downloading http://yann.lecun.com/exdb/mnist/train-images-idx3-ubyte.gz to /mnist/MNIST/raw/train-images-idx3-ubyte.gz\n"
          ],
          "name": "stdout"
        },
        {
          "output_type": "display_data",
          "data": {
            "application/vnd.jupyter.widget-view+json": {
              "model_id": "85406dd805474e7f9e6c35dd75714bfc",
              "version_minor": 0,
              "version_major": 2
            },
            "text/plain": [
              "HBox(children=(FloatProgress(value=0.0, max=9912422.0), HTML(value='')))"
            ]
          },
          "metadata": {
            "tags": []
          }
        },
        {
          "output_type": "stream",
          "text": [
            "\n",
            "Extracting /mnist/MNIST/raw/train-images-idx3-ubyte.gz to /mnist/MNIST/raw\n",
            "\n",
            "Downloading http://yann.lecun.com/exdb/mnist/train-labels-idx1-ubyte.gz\n",
            "Downloading http://yann.lecun.com/exdb/mnist/train-labels-idx1-ubyte.gz to /mnist/MNIST/raw/train-labels-idx1-ubyte.gz\n"
          ],
          "name": "stdout"
        },
        {
          "output_type": "display_data",
          "data": {
            "application/vnd.jupyter.widget-view+json": {
              "model_id": "85c58b6b1e83440f8773c3f7be9fa12a",
              "version_minor": 0,
              "version_major": 2
            },
            "text/plain": [
              "HBox(children=(FloatProgress(value=0.0, max=28881.0), HTML(value='')))"
            ]
          },
          "metadata": {
            "tags": []
          }
        },
        {
          "output_type": "stream",
          "text": [
            "\n",
            "Extracting /mnist/MNIST/raw/train-labels-idx1-ubyte.gz to /mnist/MNIST/raw\n",
            "\n",
            "Downloading http://yann.lecun.com/exdb/mnist/t10k-images-idx3-ubyte.gz\n",
            "Downloading http://yann.lecun.com/exdb/mnist/t10k-images-idx3-ubyte.gz to /mnist/MNIST/raw/t10k-images-idx3-ubyte.gz\n"
          ],
          "name": "stdout"
        },
        {
          "output_type": "display_data",
          "data": {
            "application/vnd.jupyter.widget-view+json": {
              "model_id": "06593b2d4c194ee8a1cb32d50c33e1d7",
              "version_minor": 0,
              "version_major": 2
            },
            "text/plain": [
              "HBox(children=(FloatProgress(value=0.0, max=1648877.0), HTML(value='')))"
            ]
          },
          "metadata": {
            "tags": []
          }
        },
        {
          "output_type": "stream",
          "text": [
            "\n",
            "Extracting /mnist/MNIST/raw/t10k-images-idx3-ubyte.gz to /mnist/MNIST/raw\n",
            "\n",
            "Downloading http://yann.lecun.com/exdb/mnist/t10k-labels-idx1-ubyte.gz\n",
            "Downloading http://yann.lecun.com/exdb/mnist/t10k-labels-idx1-ubyte.gz to /mnist/MNIST/raw/t10k-labels-idx1-ubyte.gz\n"
          ],
          "name": "stdout"
        },
        {
          "output_type": "display_data",
          "data": {
            "application/vnd.jupyter.widget-view+json": {
              "model_id": "b3214cc63be84839ae17c0d5929903b2",
              "version_minor": 0,
              "version_major": 2
            },
            "text/plain": [
              "HBox(children=(FloatProgress(value=0.0, max=4542.0), HTML(value='')))"
            ]
          },
          "metadata": {
            "tags": []
          }
        },
        {
          "output_type": "stream",
          "text": [
            "\n",
            "Extracting /mnist/MNIST/raw/t10k-labels-idx1-ubyte.gz to /mnist/MNIST/raw\n",
            "\n",
            "Processing...\n",
            "Done!\n"
          ],
          "name": "stdout"
        },
        {
          "output_type": "stream",
          "text": [
            "/usr/local/lib/python3.7/dist-packages/torchvision/datasets/mnist.py:502: UserWarning: The given NumPy array is not writeable, and PyTorch does not support non-writeable tensors. This means you can write to the underlying (supposedly non-writeable) NumPy array using the tensor. You may want to copy the array to protect its data or make it writeable before converting it to a tensor. This type of warning will be suppressed for the rest of this program. (Triggered internally at  /pytorch/torch/csrc/utils/tensor_numpy.cpp:143.)\n",
            "  return torch.from_numpy(parsed.astype(m[2], copy=False)).view(*s)\n"
          ],
          "name": "stderr"
        }
      ]
    },
    {
      "cell_type": "markdown",
      "metadata": {
        "id": "Q4iKGCkLdYZb"
      },
      "source": [
        "### Data visualisation "
      ]
    },
    {
      "cell_type": "code",
      "metadata": {
        "colab": {
          "base_uri": "https://localhost:8080/",
          "height": 551
        },
        "id": "Z25AbxRlG8Vj",
        "outputId": "4a2515d3-b2d4-4f5f-a40b-93c013c3d242"
      },
      "source": [
        "examples = enumerate(validation_loader)\n",
        "batch_idx, (example_data, example_targets) = next(examples)\n",
        "import matplotlib.pyplot as plt\n",
        "\n",
        "fig = plt.figure()\n",
        "for i in range(6):\n",
        "  plt.subplot(2,3,i+1)\n",
        "  plt.tight_layout()\n",
        "  plt.imshow(example_data[i][0], cmap='gray', interpolation='none')\n",
        "  plt.title(\"Ground Truth: {}\".format(example_targets[i]))\n",
        "  plt.xticks([])\n",
        "  plt.yticks([])\n",
        "fig"
      ],
      "execution_count": null,
      "outputs": [
        {
          "output_type": "execute_result",
          "data": {
            "image/png": "[encoded data removed]",
            "text/plain": [
              "<Figure size 432x288 with 6 Axes>"
            ]
          },
          "metadata": {
            "tags": []
          },
          "execution_count": 24
        },
        {
          "output_type": "display_data",
          "data": {
            "image/png": "[encoded data removed]",
            "text/plain": [
              "<Figure size 432x288 with 6 Axes>"
            ]
          },
          "metadata": {
            "tags": []
          }
        }
      ]
    },
    {
      "cell_type": "code",
      "metadata": {
        "id": "WvIAFrb4da7d"
      },
      "source": [
        ""
      ],
      "execution_count": null,
      "outputs": []
    },
    {
      "cell_type": "markdown",
      "metadata": {
        "id": "6FY0hYYBdbsj"
      },
      "source": [
        "### In the cell below, defined the Model, the loss function, and the Optimizer I have used for this task. \n",
        "### Same architecture is used to maintain  consistency ."
      ]
    },
    {
      "cell_type": "code",
      "metadata": {
        "colab": {
          "base_uri": "https://localhost:8080/"
        },
        "id": "gkKYVUvmjdbq",
        "outputId": "3f190c9b-4dc4-446c-9420-10ecbf9635aa"
      },
      "source": [
        "mnist_model = ResNet(BasicBlock, [1, 1, 1, 1])\n",
        "criterion = nn.CrossEntropyLoss()\n",
        "torch.cuda.empty_cache()\n",
        "\n",
        "if torch.cuda.is_available():\n",
        "\tprint(torch.cuda.get_device_name(0))\n",
        "\tmnist_model = mnist_model.cuda()\n",
        "\toptimizer = optim.Adam(mnist_model.parameters(), lr=1e-3, weight_decay=1e-4)\n",
        "\tcriterion = criterion.cuda()"
      ],
      "execution_count": null,
      "outputs": [
        {
          "output_type": "stream",
          "text": [
            "Tesla P100-PCIE-16GB\n"
          ],
          "name": "stdout"
        }
      ]
    },
    {
      "cell_type": "code",
      "metadata": {
        "colab": {
          "base_uri": "https://localhost:8080/"
        },
        "id": "82ygcWbeUDa7",
        "outputId": "66083e9a-e30a-4655-de0e-bb3b0b75d206"
      },
      "source": [
        "%%time\n",
        "# Loss and accuracy list are defined, these lists are used for graph.\n",
        "train_loss_list = []\n",
        "val_loss_list = []\n",
        "epc_list = []\n",
        "train_acc_list = []\n",
        "val_acc_list = []\n",
        "\n",
        "def train():\n",
        "  # best_valid_loss is defined so as to save the best validation loss which is lowest one.\n",
        "  best_valid_loss = float('Inf')\n",
        "\n",
        "  print(\"Training Started !!!\")\n",
        "  for i in range(25):\n",
        "    training_loss = 0\n",
        "    tcorrect = 0\n",
        "    ttotal = 0\n",
        "    mnist_model.train()\n",
        "    for features, labels in trainloader:\n",
        "      # Label and features assigning\n",
        "      features, labels = Variable(features.cuda()), Variable(labels.cuda())\n",
        "      optimizer.zero_grad()\n",
        "\n",
        "      # Output collection from mnist_model\n",
        "      outputs = mnist_model(features.float())\n",
        "      \n",
        "      # Loss calculation and updation\n",
        "      losss = criterion(outputs.cuda(), labels.type(torch.LongTensor).cuda())\n",
        "      losss.backward()\n",
        "      optimizer.step()\n",
        "      training_loss += losss.item()\n",
        "\n",
        "      # Prediction\n",
        "      _, pred = torch.max(outputs, 1)\n",
        "      ttotal+= labels.reshape(-1).size(0)\n",
        "      tcorrect+=(pred.reshape(-1).cuda() == labels.reshape(-1)).sum().item()\n",
        "  \n",
        "    # Validation step starts from here.\n",
        "    validation_loss = 0\n",
        "    correct = 0\n",
        "    total = 0\n",
        "    mnist_model.eval()\n",
        "    with torch.no_grad():\n",
        "      for features, labels in testloader:\n",
        "        # Label and features assigning\n",
        "        features, labels = Variable(features.cuda()), Variable(labels.cuda())\n",
        "\n",
        "        # Output collection from mnist_model\n",
        "        outputs = mnist_model(features.float())\n",
        "        \n",
        "        # Loss calculation, here we skip the backward and \n",
        "        # optimizer step as we do not update weights while validating a mnist_model\n",
        "        loss = criterion(outputs.cuda(), labels.type(torch.LongTensor).cuda())\n",
        "\n",
        "        # Prediction\n",
        "        _, pred = torch.max(outputs, 1)\n",
        "        total+= labels.reshape(-1).size(0)\n",
        "        correct+=(pred.reshape(-1).cuda() == labels.reshape(-1)).sum().item()\n",
        "        validation_loss += loss.item()\n",
        "\n",
        "\n",
        "    train_loss_list.append(training_loss/len(trainloader))\n",
        "    val_loss_list.append(validation_loss/len(testloader))\n",
        "    epc_list.append(i)\n",
        "    train_acc_list.append(100*(tcorrect/ttotal))\n",
        "    val_acc_list.append(100*(correct/total))\n",
        "\n",
        "    # Logic was defined so as to save the weights of model when validation loss is lowest.\n",
        "    if best_valid_loss > validation_loss:\n",
        "        best_valid_loss = validation_loss \n",
        "        # Saving Best Pre-Trained Model as .pth file\n",
        "        torch.save(model, \"mnist_task2.pth\")\n",
        "        \n",
        "    print(\"Epoch {} - \\nTraning loss: {}\".format(i+1, training_loss/len(trainloader)))\n",
        "    print(\"Validation loss: {}\".format( validation_loss/len(testloader)))\n",
        "    print(\"Trainig Accuracy: {}\".format( 100*(tcorrect/ttotal)))\n",
        "    print(\"Validation Accuracy: {}\".format(100*(correct/total)))\n",
        "\n",
        "train()\n",
        "\n",
        "print(\"Training Complete\")"
      ],
      "execution_count": 6,
      "outputs": [
        {
          "output_type": "stream",
          "text": [
            "Training Started !!!\n",
            "Epoch 1 - \n",
            "Traning loss: 0.153887165337379\n",
            "Validation loss: 0.06581557172945925\n",
            "Trainig Accuracy: 95.17999999999999\n",
            "Validation Accuracy: 97.89\n",
            "Epoch 2 - \n",
            "Traning loss: 0.05674685371805356\n",
            "Validation loss: 0.02680712928610509\n",
            "Trainig Accuracy: 98.34333333333333\n",
            "Validation Accuracy: 99.11\n",
            "Epoch 3 - \n",
            "Traning loss: 0.044938789969528596\n",
            "Validation loss: 0.03992969378655116\n",
            "Trainig Accuracy: 98.67166666666667\n",
            "Validation Accuracy: 98.64\n",
            "Epoch 4 - \n",
            "Traning loss: 0.03985383930790579\n",
            "Validation loss: 0.0670761238191206\n",
            "Trainig Accuracy: 98.84333333333333\n",
            "Validation Accuracy: 97.86\n",
            "Epoch 5 - \n",
            "Traning loss: 0.038103328927964676\n",
            "Validation loss: 0.030919206365438243\n",
            "Trainig Accuracy: 98.87\n",
            "Validation Accuracy: 99.07000000000001\n",
            "Epoch 6 - \n",
            "Traning loss: 0.036600632526574715\n",
            "Validation loss: 0.04400538129358452\n",
            "Trainig Accuracy: 98.99833333333333\n",
            "Validation Accuracy: 98.72\n",
            "Epoch 7 - \n",
            "Traning loss: 0.03266581264037482\n",
            "Validation loss: 0.044726684964166166\n",
            "Trainig Accuracy: 99.015\n",
            "Validation Accuracy: 98.75\n",
            "Epoch 8 - \n",
            "Traning loss: 0.029226579088362743\n",
            "Validation loss: 0.025017835182702182\n",
            "Trainig Accuracy: 99.11999999999999\n",
            "Validation Accuracy: 99.15\n",
            "Epoch 9 - \n",
            "Traning loss: 0.028692310081475523\n",
            "Validation loss: 0.0251915832470124\n",
            "Trainig Accuracy: 99.13333333333333\n",
            "Validation Accuracy: 99.08\n",
            "Epoch 10 - \n",
            "Traning loss: 0.025356318117907006\n",
            "Validation loss: 0.025756818710104636\n",
            "Trainig Accuracy: 99.20833333333333\n",
            "Validation Accuracy: 99.28\n",
            "Epoch 11 - \n",
            "Traning loss: 0.02445517084729225\n",
            "Validation loss: 0.023439120182358032\n",
            "Trainig Accuracy: 99.27333333333334\n",
            "Validation Accuracy: 99.27\n",
            "Epoch 12 - \n",
            "Traning loss: 0.023277925693141823\n",
            "Validation loss: 0.014015701664235006\n",
            "Trainig Accuracy: 99.36500000000001\n",
            "Validation Accuracy: 99.53\n",
            "Epoch 13 - \n",
            "Traning loss: 0.021876133707232712\n",
            "Validation loss: 0.01873798735159883\n",
            "Trainig Accuracy: 99.35166666666667\n",
            "Validation Accuracy: 99.47\n",
            "Epoch 14 - \n",
            "Traning loss: 0.021607851121668003\n",
            "Validation loss: 0.01772645823285541\n",
            "Trainig Accuracy: 99.35166666666667\n",
            "Validation Accuracy: 99.4\n",
            "Epoch 15 - \n",
            "Traning loss: 0.017259445152678948\n",
            "Validation loss: 0.015211127395033042\n",
            "Trainig Accuracy: 99.50666666666666\n",
            "Validation Accuracy: 99.49\n",
            "Epoch 16 - \n",
            "Traning loss: 0.018266691533360704\n",
            "Validation loss: 0.024440879429860188\n",
            "Trainig Accuracy: 99.41166666666666\n",
            "Validation Accuracy: 99.31\n",
            "Epoch 17 - \n",
            "Traning loss: 0.01760267700925098\n",
            "Validation loss: 0.02726268819635405\n",
            "Trainig Accuracy: 99.47833333333334\n",
            "Validation Accuracy: 99.33999999999999\n",
            "Epoch 18 - \n",
            "Traning loss: 0.015621129152978785\n",
            "Validation loss: 0.024839032248461148\n",
            "Trainig Accuracy: 99.52833333333334\n",
            "Validation Accuracy: 99.26\n",
            "Epoch 19 - \n",
            "Traning loss: 0.014956168869411873\n",
            "Validation loss: 0.025147740232701443\n",
            "Trainig Accuracy: 99.55166666666668\n",
            "Validation Accuracy: 99.3\n",
            "Epoch 20 - \n",
            "Traning loss: 0.0157407682113987\n",
            "Validation loss: 0.020376668633380637\n",
            "Trainig Accuracy: 99.51666666666667\n",
            "Validation Accuracy: 99.32\n",
            "Epoch 21 - \n",
            "Traning loss: 0.015139828434795785\n",
            "Validation loss: 0.034779494132966576\n",
            "Trainig Accuracy: 99.53999999999999\n",
            "Validation Accuracy: 99.05000000000001\n",
            "Epoch 22 - \n",
            "Traning loss: 0.012814788807650376\n",
            "Validation loss: 0.02140932707973487\n",
            "Trainig Accuracy: 99.60833333333333\n",
            "Validation Accuracy: 99.33\n",
            "Epoch 23 - \n",
            "Traning loss: 0.012329903875780883\n",
            "Validation loss: 0.030591043196743238\n",
            "Trainig Accuracy: 99.61666666666666\n",
            "Validation Accuracy: 99.14\n",
            "Epoch 24 - \n",
            "Traning loss: 0.011828913418779894\n",
            "Validation loss: 0.02378152038168485\n",
            "Trainig Accuracy: 99.63666666666666\n",
            "Validation Accuracy: 99.31\n",
            "Epoch 25 - \n",
            "Traning loss: 0.01219263603463026\n",
            "Validation loss: 0.023901981002121472\n",
            "Trainig Accuracy: 99.62666666666667\n",
            "Validation Accuracy: 99.35000000000001\n",
            "Training Complete\n",
            "CPU times: user 22min 26s, sys: 10min 42s, total: 33min 8s\n",
            "Wall time: 33min 4s\n"
          ],
          "name": "stdout"
        }
      ]
    },
    {
      "cell_type": "markdown",
      "metadata": {
        "id": "0I4yb_IweBvu"
      },
      "source": [
        "### Graph plot of training loss and validation loss with no of epochs."
      ]
    },
    {
      "cell_type": "code",
      "metadata": {
        "colab": {
          "base_uri": "https://localhost:8080/",
          "height": 502
        },
        "id": "yj9DQT0_Znvg",
        "outputId": "e28532dc-daf3-446f-c3ad-0a3f1b865d41"
      },
      "source": [
        "plt.figure(figsize=(12, 8))\n",
        "plt.plot(range(0, 25), train_loss_list, label='Train')\n",
        "plt.plot(range(0, 25), val_loss_list, label='Valid')\n",
        "plt.xlabel('Epochs', fontsize=14)\n",
        "plt.ylabel('Loss', fontsize=14)\n",
        "plt.legend(fontsize=14)\n",
        "plt.show()"
      ],
      "execution_count": 7,
      "outputs": [
        {
          "output_type": "display_data",
          "data": {
            "image/png": "[encoded data removed]",
            "text/plain": [
              "<Figure size 864x576 with 1 Axes>"
            ]
          },
          "metadata": {
            "tags": [],
            "needs_background": "light"
          }
        }
      ]
    },
    {
      "cell_type": "markdown",
      "metadata": {
        "id": "voNFzeaCcHNa"
      },
      "source": [
        "### Graph plot of training accuracy and validation accuracy with no of epochs."
      ]
    },
    {
      "cell_type": "code",
      "metadata": {
        "colab": {
          "base_uri": "https://localhost:8080/",
          "height": 501
        },
        "id": "7j-B0X62ZrGM",
        "outputId": "5eb06290-dd4b-4114-fedc-c7969f0e6e17"
      },
      "source": [
        "plt.figure(figsize=(12, 8))\n",
        "plt.plot(range(0, 25), train_acc_list, label='Train')\n",
        "plt.plot(range(0, 25), val_acc_list, label='Valid')\n",
        "plt.xlabel('Epochs', fontsize=14)\n",
        "plt.ylabel('Accuracy', fontsize=14)\n",
        "plt.legend(fontsize=14)\n",
        "plt.show()"
      ],
      "execution_count": 8,
      "outputs": [
        {
          "output_type": "display_data",
          "data": {
            "image/png": "[encoded data removed]",
            "text/plain": [
              "<Figure size 864x576 with 1 Axes>"
            ]
          },
          "metadata": {
            "tags": [],
            "needs_background": "light"
          }
        }
      ]
    },
    {
      "cell_type": "markdown",
      "metadata": {
        "id": "-xdww9ik4nKd"
      },
      "source": [
        "# Now training MNIST dataset using pre-trained weights of model we trained using first 10 labels from the given dataset"
      ]
    },
    {
      "cell_type": "code",
      "metadata": {
        "id": "KMaKwUf6qn0u",
        "colab": {
          "base_uri": "https://localhost:8080/"
        },
        "outputId": "18d11471-953d-4aa2-f100-3bcc45a8de10"
      },
      "source": [
        "model =  ResNet(BasicBlock, [1, 1, 1, 1])\n",
        "pre_trained = torch.load(\"task2.pth\")\n",
        " \n",
        "model.load_state_dict(pre_trained, strict=False)\n",
        "print(model)"
      ],
      "execution_count": null,
      "outputs": [
        {
          "output_type": "stream",
          "text": [
            "ResNet(\n",
            "  (conv1): Conv2d(1, 64, kernel_size=(3, 3), stride=(1, 1), padding=(1, 1), bias=False)\n",
            "  (bn1): BatchNorm2d(64, eps=1e-05, momentum=0.1, affine=True, track_running_stats=True)\n",
            "  (layer1): Sequential(\n",
            "    (0): BasicBlock(\n",
            "      (conv1): Conv2d(64, 64, kernel_size=(3, 3), stride=(1, 1), padding=(1, 1), bias=False)\n",
            "      (bn1): BatchNorm2d(64, eps=1e-05, momentum=0.1, affine=True, track_running_stats=True)\n",
            "      (conv2): Conv2d(64, 64, kernel_size=(3, 3), stride=(1, 1), padding=(1, 1), bias=False)\n",
            "      (bn2): BatchNorm2d(64, eps=1e-05, momentum=0.1, affine=True, track_running_stats=True)\n",
            "      (shortcut): Sequential()\n",
            "    )\n",
            "  )\n",
            "  (layer2): Sequential(\n",
            "    (0): BasicBlock(\n",
            "      (conv1): Conv2d(64, 128, kernel_size=(3, 3), stride=(1, 1), padding=(1, 1), bias=False)\n",
            "      (bn1): BatchNorm2d(128, eps=1e-05, momentum=0.1, affine=True, track_running_stats=True)\n",
            "      (conv2): Conv2d(128, 128, kernel_size=(3, 3), stride=(1, 1), padding=(1, 1), bias=False)\n",
            "      (bn2): BatchNorm2d(128, eps=1e-05, momentum=0.1, affine=True, track_running_stats=True)\n",
            "      (shortcut): Sequential(\n",
            "        (0): Conv2d(64, 128, kernel_size=(1, 1), stride=(1, 1), bias=False)\n",
            "        (1): BatchNorm2d(128, eps=1e-05, momentum=0.1, affine=True, track_running_stats=True)\n",
            "      )\n",
            "    )\n",
            "  )\n",
            "  (layer3): Sequential(\n",
            "    (0): BasicBlock(\n",
            "      (conv1): Conv2d(128, 256, kernel_size=(3, 3), stride=(1, 1), padding=(1, 1), bias=False)\n",
            "      (bn1): BatchNorm2d(256, eps=1e-05, momentum=0.1, affine=True, track_running_stats=True)\n",
            "      (conv2): Conv2d(256, 256, kernel_size=(3, 3), stride=(1, 1), padding=(1, 1), bias=False)\n",
            "      (bn2): BatchNorm2d(256, eps=1e-05, momentum=0.1, affine=True, track_running_stats=True)\n",
            "      (shortcut): Sequential(\n",
            "        (0): Conv2d(128, 256, kernel_size=(1, 1), stride=(1, 1), bias=False)\n",
            "        (1): BatchNorm2d(256, eps=1e-05, momentum=0.1, affine=True, track_running_stats=True)\n",
            "      )\n",
            "    )\n",
            "  )\n",
            "  (layer4): Sequential(\n",
            "    (0): BasicBlock(\n",
            "      (conv1): Conv2d(256, 512, kernel_size=(3, 3), stride=(1, 1), padding=(1, 1), bias=False)\n",
            "      (bn1): BatchNorm2d(512, eps=1e-05, momentum=0.1, affine=True, track_running_stats=True)\n",
            "      (conv2): Conv2d(512, 512, kernel_size=(3, 3), stride=(1, 1), padding=(1, 1), bias=False)\n",
            "      (bn2): BatchNorm2d(512, eps=1e-05, momentum=0.1, affine=True, track_running_stats=True)\n",
            "      (shortcut): Sequential(\n",
            "        (0): Conv2d(256, 512, kernel_size=(1, 1), stride=(1, 1), bias=False)\n",
            "        (1): BatchNorm2d(512, eps=1e-05, momentum=0.1, affine=True, track_running_stats=True)\n",
            "      )\n",
            "    )\n",
            "    (1): BasicBlock(\n",
            "      (conv1): Conv2d(512, 512, kernel_size=(3, 3), stride=(1, 1), padding=(1, 1), bias=False)\n",
            "      (bn1): BatchNorm2d(512, eps=1e-05, momentum=0.1, affine=True, track_running_stats=True)\n",
            "      (conv2): Conv2d(512, 512, kernel_size=(3, 3), stride=(1, 1), padding=(1, 1), bias=False)\n",
            "      (bn2): BatchNorm2d(512, eps=1e-05, momentum=0.1, affine=True, track_running_stats=True)\n",
            "      (shortcut): Sequential()\n",
            "    )\n",
            "  )\n",
            "  (linear1): Linear(in_features=512, out_features=256, bias=True)\n",
            "  (linear2): Linear(in_features=256, out_features=128, bias=True)\n",
            "  (linear3): Linear(in_features=128, out_features=10, bias=True)\n",
            "  (dropout1): Dropout(p=0.3, inplace=False)\n",
            "  (dropout2): Dropout(p=0.4, inplace=False)\n",
            ")\n"
          ],
          "name": "stdout"
        }
      ]
    },
    {
      "cell_type": "markdown",
      "metadata": {
        "id": "K_5Stb4vfN7u"
      },
      "source": [
        "### In the cell below, defined the Model, the loss function, and the Optimizer I have used for this task. "
      ]
    },
    {
      "cell_type": "code",
      "metadata": {
        "colab": {
          "base_uri": "https://localhost:8080/"
        },
        "id": "9jXK58UowfGQ",
        "outputId": "f0dae07d-3cad-47dd-b5fc-566352289073"
      },
      "source": [
        "model = model\n",
        "criterion = nn.CrossEntropyLoss()\n",
        "torch.cuda.empty_cache()\n",
        "\n",
        "if torch.cuda.is_available():\n",
        "\tprint(torch.cuda.get_device_name(0))\n",
        "\tmodel = model.cuda()\n",
        "\toptimizer = optim.Adam(model.parameters(), lr=1e-3, weight_decay=1e-5)\n",
        "\tcriterion = criterion.cuda()"
      ],
      "execution_count": null,
      "outputs": [
        {
          "output_type": "stream",
          "text": [
            "Tesla P100-PCIE-16GB\n"
          ],
          "name": "stdout"
        }
      ]
    },
    {
      "cell_type": "code",
      "metadata": {
        "colab": {
          "base_uri": "https://localhost:8080/"
        },
        "id": "_JHSJxbHZkkP",
        "outputId": "db10a4a3-7e3c-442f-95ac-c9845e9de621"
      },
      "source": [
        "%%time\n",
        "# Loss and accuracy list are defined, these lists are used for graph.\n",
        "train_loss_list = []\n",
        "val_loss_list = []\n",
        "epc_list = []\n",
        "train_acc_list = []\n",
        "val_acc_list = []\n",
        "\n",
        "def train():\n",
        "  # best_valid_loss is defined so as to save the best validation loss which is lowest one.\n",
        "  best_valid_loss = float('Inf')\n",
        "\n",
        "  print(\"Training Started !!!\")\n",
        "  for i in range(25):\n",
        "    training_loss = 0\n",
        "    tcorrect = 0\n",
        "    ttotal = 0\n",
        "    model.train()\n",
        "    for features, labels in trainloader:\n",
        "      # Label and features assigning\n",
        "      features, labels = Variable(features.cuda()), Variable(labels.cuda())\n",
        "      optimizer.zero_grad()\n",
        "\n",
        "      # Output collection from model\n",
        "      outputs = model(features.float())\n",
        "      \n",
        "      # Loss calculation and updation\n",
        "      losss = criterion(outputs.cuda(), labels.type(torch.LongTensor).cuda())\n",
        "      losss.backward()\n",
        "      optimizer.step()\n",
        "      training_loss += losss.item()\n",
        "\n",
        "      # Prediction\n",
        "      _, pred = torch.max(outputs, 1)\n",
        "      ttotal+= labels.reshape(-1).size(0)\n",
        "      tcorrect+=(pred.reshape(-1).cuda() == labels.reshape(-1)).sum().item()\n",
        "  \n",
        "    # Validation step starts from here.\n",
        "    validation_loss = 0\n",
        "    correct = 0\n",
        "    total = 0\n",
        "    model.eval()\n",
        "    with torch.no_grad():\n",
        "      for features, labels in testloader:\n",
        "        # Label and features assigning\n",
        "        features, labels = Variable(features.cuda()), Variable(labels.cuda())\n",
        "\n",
        "        # Output collection from model\n",
        "        outputs = model(features.float())\n",
        "        \n",
        "        # Loss calculation, here we skip the backward and \n",
        "        # optimizer step as we do not update weights while validating a model\n",
        "        loss = criterion(outputs.cuda(), labels.type(torch.LongTensor).cuda())\n",
        "\n",
        "        # Prediction\n",
        "        _, pred = torch.max(outputs, 1)\n",
        "        total+= labels.reshape(-1).size(0)\n",
        "        correct+=(pred.reshape(-1).cuda() == labels.reshape(-1)).sum().item()\n",
        "        validation_loss += loss.item()\n",
        "\n",
        "\n",
        "    train_loss_list.append(training_loss/len(trainloader))\n",
        "    val_loss_list.append(validation_loss/len(testloader))\n",
        "    epc_list.append(i)\n",
        "    train_acc_list.append(100*(tcorrect/ttotal))\n",
        "    val_acc_list.append(100*(correct/total))\n",
        "\n",
        "    # Logic was defined so as to save the weights of mnist_model when validation loss is lowest.\n",
        "    if best_valid_loss > validation_loss:\n",
        "        best_valid_loss = validation_loss \n",
        "        # Saving Best Pre-Trained Model as .pth file\n",
        "        torch.save(model, \"mnist_pre_task2.pth\")\n",
        "        \n",
        "    print(\"Epoch {} - \\nTraning loss: {}\".format(i+1, training_loss/len(trainloader)))\n",
        "    print(\"Validation loss: {}\".format( validation_loss/len(testloader)))\n",
        "    print(\"Trainig Accuracy: {}\".format( 100*(tcorrect/ttotal)))\n",
        "    print(\"Validation Accuracy: {}\".format(100*(correct/total)))\n",
        "\n",
        "train()\n",
        "\n",
        "print(\"Training Complete\")"
      ],
      "execution_count": 9,
      "outputs": [
        {
          "output_type": "stream",
          "text": [
            "Training Started !!!\n",
            "Epoch 1 - \n",
            "Traning loss: 0.011410425078529463\n",
            "Validation loss: 0.021088420520703074\n",
            "Trainig Accuracy: 99.62333333333333\n",
            "Validation Accuracy: 99.38\n",
            "Epoch 2 - \n",
            "Traning loss: 0.0113828953917347\n",
            "Validation loss: 0.02502193233055861\n",
            "Trainig Accuracy: 99.66166666666668\n",
            "Validation Accuracy: 99.31\n",
            "Epoch 3 - \n",
            "Traning loss: 0.010807465460588134\n",
            "Validation loss: 0.024942003102394295\n",
            "Trainig Accuracy: 99.68833333333333\n",
            "Validation Accuracy: 99.29\n",
            "Epoch 4 - \n",
            "Traning loss: 0.009727113317594975\n",
            "Validation loss: 0.024397923046101052\n",
            "Trainig Accuracy: 99.73833333333333\n",
            "Validation Accuracy: 99.33999999999999\n",
            "Epoch 5 - \n",
            "Traning loss: 0.010824851085628523\n",
            "Validation loss: 0.022843317590090746\n",
            "Trainig Accuracy: 99.65166666666667\n",
            "Validation Accuracy: 99.38\n",
            "Epoch 6 - \n",
            "Traning loss: 0.00964255584841482\n",
            "Validation loss: 0.0246457019891324\n",
            "Trainig Accuracy: 99.71833333333333\n",
            "Validation Accuracy: 99.33\n",
            "Epoch 7 - \n",
            "Traning loss: 0.0094632355110202\n",
            "Validation loss: 0.016579224548186635\n",
            "Trainig Accuracy: 99.69\n",
            "Validation Accuracy: 99.53999999999999\n",
            "Epoch 8 - \n",
            "Traning loss: 0.009114795616388185\n",
            "Validation loss: 0.0201005201657922\n",
            "Trainig Accuracy: 99.765\n",
            "Validation Accuracy: 99.37\n",
            "Epoch 9 - \n",
            "Traning loss: 0.008251135998676228\n",
            "Validation loss: 0.023670078421321825\n",
            "Trainig Accuracy: 99.76\n",
            "Validation Accuracy: 99.32\n",
            "Epoch 10 - \n",
            "Traning loss: 0.00989042189202112\n",
            "Validation loss: 0.018648129613525213\n",
            "Trainig Accuracy: 99.705\n",
            "Validation Accuracy: 99.42\n",
            "Epoch 11 - \n",
            "Traning loss: 0.00732692722512201\n",
            "Validation loss: 0.024114511011527937\n",
            "Trainig Accuracy: 99.77000000000001\n",
            "Validation Accuracy: 99.33\n",
            "Epoch 12 - \n",
            "Traning loss: 0.007719051318169428\n",
            "Validation loss: 0.022387955032850956\n",
            "Trainig Accuracy: 99.76166666666667\n",
            "Validation Accuracy: 99.46000000000001\n",
            "Epoch 13 - \n",
            "Traning loss: 0.007585609295125805\n",
            "Validation loss: 0.022228612066851616\n",
            "Trainig Accuracy: 99.78333333333333\n",
            "Validation Accuracy: 99.37\n",
            "Epoch 14 - \n",
            "Traning loss: 0.008820651234828135\n",
            "Validation loss: 0.017101325881443356\n",
            "Trainig Accuracy: 99.72166666666666\n",
            "Validation Accuracy: 99.5\n",
            "Epoch 15 - \n",
            "Traning loss: 0.006833857893923686\n",
            "Validation loss: 0.02404414729628829\n",
            "Trainig Accuracy: 99.81\n",
            "Validation Accuracy: 99.31\n",
            "Epoch 16 - \n",
            "Traning loss: 0.0064654522203711155\n",
            "Validation loss: 0.0237343887269801\n",
            "Trainig Accuracy: 99.76333333333334\n",
            "Validation Accuracy: 99.42999999999999\n",
            "Epoch 17 - \n",
            "Traning loss: 0.006030279338970787\n",
            "Validation loss: 0.019444365845778307\n",
            "Trainig Accuracy: 99.81833333333333\n",
            "Validation Accuracy: 99.46000000000001\n",
            "Epoch 18 - \n",
            "Traning loss: 0.006447968200416859\n",
            "Validation loss: 0.022299267856006336\n",
            "Trainig Accuracy: 99.78833333333334\n",
            "Validation Accuracy: 99.33\n",
            "Epoch 19 - \n",
            "Traning loss: 0.0071304312322858915\n",
            "Validation loss: 0.02673792796753492\n",
            "Trainig Accuracy: 99.78333333333333\n",
            "Validation Accuracy: 99.29\n",
            "Epoch 20 - \n",
            "Traning loss: 0.006268453268947328\n",
            "Validation loss: 0.022058788069771754\n",
            "Trainig Accuracy: 99.78666666666666\n",
            "Validation Accuracy: 99.46000000000001\n",
            "Epoch 21 - \n",
            "Traning loss: 0.006007783603046864\n",
            "Validation loss: 0.022695733308639342\n",
            "Trainig Accuracy: 99.79333333333334\n",
            "Validation Accuracy: 99.5\n",
            "Epoch 22 - \n",
            "Traning loss: 0.006331285751131683\n",
            "Validation loss: 0.025975648977615236\n",
            "Trainig Accuracy: 99.79833333333333\n",
            "Validation Accuracy: 99.4\n",
            "Epoch 23 - \n",
            "Traning loss: 0.006165295945298126\n",
            "Validation loss: 0.026181880578139773\n",
            "Trainig Accuracy: 99.83166666666666\n",
            "Validation Accuracy: 99.4\n",
            "Epoch 24 - \n",
            "Traning loss: 0.007330805653347938\n",
            "Validation loss: 0.02498263505406503\n",
            "Trainig Accuracy: 99.77333333333334\n",
            "Validation Accuracy: 99.36\n",
            "Epoch 25 - \n",
            "Traning loss: 0.006066300048514473\n",
            "Validation loss: 0.02290359148062928\n",
            "Trainig Accuracy: 99.82\n",
            "Validation Accuracy: 99.42999999999999\n",
            "Training Complete\n",
            "CPU times: user 22min 31s, sys: 10min 42s, total: 33min 13s\n",
            "Wall time: 33min 9s\n"
          ],
          "name": "stdout"
        }
      ]
    },
    {
      "cell_type": "markdown",
      "metadata": {
        "id": "dGC7h4hWjLvF"
      },
      "source": [
        "### Graph plot of training loss and validation loss with no of epochs."
      ]
    },
    {
      "cell_type": "code",
      "metadata": {
        "colab": {
          "base_uri": "https://localhost:8080/",
          "height": 501
        },
        "id": "-kAYs7SKZwqR",
        "outputId": "f53105b5-c178-440c-a43e-cf7a6c539362"
      },
      "source": [
        "plt.figure(figsize=(12, 8))\n",
        "plt.plot(range(0, 25), train_loss_list, label='Train')\n",
        "plt.plot(range(0, 25), val_loss_list, label='Valid')\n",
        "plt.xlabel('Epochs', fontsize=14)\n",
        "plt.ylabel('Loss', fontsize=14)\n",
        "plt.legend(fontsize=14)\n",
        "plt.show()"
      ],
      "execution_count": 10,
      "outputs": [
        {
          "output_type": "display_data",
          "data": {
            "image/png": "[encoded data removed]",
            "text/plain": [
              "<Figure size 864x576 with 1 Axes>"
            ]
          },
          "metadata": {
            "tags": [],
            "needs_background": "light"
          }
        }
      ]
    },
    {
      "cell_type": "code",
      "metadata": {
        "colab": {
          "base_uri": "https://localhost:8080/",
          "height": 501
        },
        "id": "kEgkp9COZxJt",
        "outputId": "30acb737-47aa-43a2-e6aa-d27ba6e2444b"
      },
      "source": [
        "plt.figure(figsize=(12, 8))\n",
        "plt.plot(range(0, 25), train_acc_list, label='Train')\n",
        "plt.plot(range(0, 25), val_acc_list, label='Valid')\n",
        "plt.xlabel('Epochs', fontsize=14)\n",
        "plt.ylabel('Accuracy', fontsize=14)\n",
        "plt.legend(fontsize=14)\n",
        "plt.show()"
      ],
      "execution_count": 11,
      "outputs": [
        {
          "output_type": "display_data",
          "data": {
            "image/png": "[encoded data removed]",
            "text/plain": [
              "<Figure size 864x576 with 1 Axes>"
            ]
          },
          "metadata": {
            "tags": [],
            "needs_background": "light"
          }
        }
      ]
    },
    {
      "cell_type": "code",
      "metadata": {
        "id": "nSAKdroDZxP2"
      },
      "source": [
        ""
      ],
      "execution_count": null,
      "outputs": []
    },
    {
      "cell_type": "markdown",
      "metadata": {
        "id": "i4NeaJrZI0uD"
      },
      "source": [
        "# Conclusion  - \n",
        "###  `Dataset` -   \n",
        "* `Dataset information`  - \n",
        "  * `Part 1` custom dataset \n",
        "    * No of classes - 10\n",
        "    * No of samples each - 40 \n",
        "    * Total samples - 400\n",
        "  * `Part 2` MNIST dataset\n",
        "    * No of classes - 10\n",
        "    * Training samples - 60,000 \n",
        "    * Testing sample - 10,000 \n",
        "\n",
        "  * `Validation split` of 15% was used for part 1.  \n",
        "  * `Pre-Processing`  \n",
        "    * Images were resized to 32x32 to reduce computational power.\n",
        "    * Images were converted to grayscale(single channel) so that we have data consistency for other tasks.  \n",
        "\n",
        "### `Model` - \n",
        "* For both part 1 and part 2, same Resnet architechture is used.\n",
        "* Resnet architecture with 4 layers and 1 resudual block in each layer, and finally three linear layers where used with dropout in first linear layer and second linear layer.\n",
        "\n",
        "  <details> \n",
        "    <summary>Complete Architecture summary</summary>\n",
        "    \n",
        "  ```bash\n",
        "        ----------------------------------------------------------------\n",
        "                Layer (type)               Output Shape         Param #\n",
        "        ================================================================\n",
        "                    Conv2d-1           [-1, 64, 32, 32]             576\n",
        "              BatchNorm2d-2           [-1, 64, 32, 32]             128\n",
        "                    Conv2d-3           [-1, 64, 32, 32]          36,864\n",
        "              BatchNorm2d-4           [-1, 64, 32, 32]             128\n",
        "                    Conv2d-5           [-1, 64, 32, 32]          36,864\n",
        "              BatchNorm2d-6           [-1, 64, 32, 32]             128\n",
        "                BasicBlock-7           [-1, 64, 32, 32]               0\n",
        "                    Conv2d-8          [-1, 128, 32, 32]          73,728\n",
        "              BatchNorm2d-9          [-1, 128, 32, 32]             256\n",
        "                  Conv2d-10          [-1, 128, 32, 32]         147,456\n",
        "              BatchNorm2d-11          [-1, 128, 32, 32]             256\n",
        "                  Conv2d-12          [-1, 128, 32, 32]           8,192\n",
        "              BatchNorm2d-13          [-1, 128, 32, 32]             256\n",
        "              BasicBlock-14          [-1, 128, 32, 32]               0\n",
        "                  Conv2d-15          [-1, 256, 32, 32]         294,912\n",
        "              BatchNorm2d-16          [-1, 256, 32, 32]             512\n",
        "                  Conv2d-17          [-1, 256, 32, 32]         589,824\n",
        "              BatchNorm2d-18          [-1, 256, 32, 32]             512\n",
        "                  Conv2d-19          [-1, 256, 32, 32]          32,768\n",
        "              BatchNorm2d-20          [-1, 256, 32, 32]             512\n",
        "              BasicBlock-21          [-1, 256, 32, 32]               0\n",
        "                  Conv2d-22            [-1, 512, 6, 6]       1,179,648\n",
        "              BatchNorm2d-23            [-1, 512, 6, 6]           1,024\n",
        "                  Conv2d-24            [-1, 512, 6, 6]       2,359,296\n",
        "              BatchNorm2d-25            [-1, 512, 6, 6]           1,024\n",
        "                  Conv2d-26            [-1, 512, 6, 6]         131,072\n",
        "              BatchNorm2d-27            [-1, 512, 6, 6]           1,024\n",
        "              BasicBlock-28            [-1, 512, 6, 6]               0\n",
        "                  Linear-29                  [-1, 256]         131,328\n",
        "                  Dropout-30                  [-1, 256]               0\n",
        "                  Linear-31                  [-1, 128]          32,896\n",
        "                  Dropout-32                  [-1, 128]               0\n",
        "                  Linear-33                   [-1, 10]           1,290\n",
        "        ================================================================\n",
        "        Total params: 5,062,474\n",
        "        Trainable params: 5,062,474\n",
        "        Non-trainable params: 0\n",
        "        ----------------------------------------------------------------\n",
        "        Input size (MB): 0.00\n",
        "        Forward/backward pass size (MB): 25.49\n",
        "        Params size (MB): 19.31\n",
        "        Estimated Total Size (MB): 44.81\n",
        "        ----------------------------------------------------------------\n",
        "\n",
        "  ```\n",
        "</details> \n",
        "\n",
        "### `Training Methodology` -\n",
        "  * Epoch = 25     \n",
        "  * Learning rate - 0.001.\n",
        "  * weight decay - 0.0001.\n",
        "  * Training batch size = 64\n",
        "  * Validation batch size = 128\n",
        "  * Batch Normalisation and Dropout of 0.3 and 0.4 where used.  \n",
        "\n",
        "### `Results` - \n",
        "  * `Part 1`\n",
        "    * Max Training accuracy - 100\n",
        "    * Max Validation accuracy - 100\n",
        "  * `Part 2`\n",
        "    * `Using pre-trained weights`\n",
        "      * Max Training accuracy - 99.83\n",
        "      * Max Validation accuracy - 99.5\n",
        "      * Min Training loss - 0.0061\n",
        "      * Min Validation loss - 0.0223\n",
        "    * `Using random weights`\n",
        "      * Max Training accuracy - 99.62\n",
        "      * Max Validation accuracy - 99.53\n",
        "      * Min Training loss: 0.0121\n",
        "      * Min Validation loss: 0.0239\n",
        "\n",
        "### `Report` -\n",
        "  * Motive of this task was to analyse the convergence of the model using MNIST dataset when we initialize weights randomly and when we use pretrained weights.\n",
        "  * From the above results, It is clear the model initialized with pre-trained weights, converge slightly better than the model initialized with random weights.\n",
        "  * The model initialized with pre-trained weights\n",
        "    * Loss in first epoch - `0.0114` (training), `0.0210` (validation)\n",
        "    * Loss in last epoch - `0.0060` (training), `0.0229` (validation)\n",
        "  * The model initialized with random weights(inbuit in pytorch)\n",
        "    * Loss in first epoch - `0.1538` (training), 0.0658(validation)\n",
        "    * Loss in last epoch - `0.0121` (training), `0.0239` (validation)\n",
        "  * Both model took nearly equal time to converge\n",
        "\n",
        "### `Refrence`\n",
        "  * https://github.com/pytorch/vision"
      ]
    },
    {
      "cell_type": "code",
      "metadata": {
        "id": "_rv84EwnI1Q8"
      },
      "source": [
        ""
      ],
      "execution_count": null,
      "outputs": []
    }
  ]
}