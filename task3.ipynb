{
  "nbformat": 4,
  "nbformat_minor": 0,
  "metadata": {
    "colab": {
      "name": "task3.ipynb",
      "provenance": [],
      "collapsed_sections": [],
      "machine_shape": "hm",
      "mount_file_id": "1VMwuA8GZtj308iKvCxofndzczrDLQ-1Z",
      "authorship_tag": "ABX9TyMygOuwlI/DTLrgYFGD6NUh",
      "include_colab_link": true
    },
    "kernelspec": {
      "name": "python3",
      "display_name": "Python 3"
    },
    "language_info": {
      "name": "python"
    },
    "accelerator": "GPU",
    "widgets": {
      "application/vnd.jupyter.widget-state+json": {
        "595fdec623ec4512a7b89c0ab440cb0b": {
          "model_module": "@jupyter-widgets/controls",
          "model_name": "HBoxModel",
          "state": {
            "_view_name": "HBoxView",
            "_dom_classes": [],
            "_model_name": "HBoxModel",
            "_view_module": "@jupyter-widgets/controls",
            "_model_module_version": "1.5.0",
            "_view_count": null,
            "_view_module_version": "1.5.0",
            "box_style": "",
            "layout": "IPY_MODEL_38d482d056c64ca5a3bc41401e69e307",
            "_model_module": "@jupyter-widgets/controls",
            "children": [
              "IPY_MODEL_cd7938c2d0344f509694e2bfbac3a544",
              "IPY_MODEL_a3cadca8550343aba1dd2039d2a4ba6a"
            ]
          }
        },
        "38d482d056c64ca5a3bc41401e69e307": {
          "model_module": "@jupyter-widgets/base",
          "model_name": "LayoutModel",
          "state": {
            "_view_name": "LayoutView",
            "grid_template_rows": null,
            "right": null,
            "justify_content": null,
            "_view_module": "@jupyter-widgets/base",
            "overflow": null,
            "_model_module_version": "1.2.0",
            "_view_count": null,
            "flex_flow": null,
            "width": null,
            "min_width": null,
            "border": null,
            "align_items": null,
            "bottom": null,
            "_model_module": "@jupyter-widgets/base",
            "top": null,
            "grid_column": null,
            "overflow_y": null,
            "overflow_x": null,
            "grid_auto_flow": null,
            "grid_area": null,
            "grid_template_columns": null,
            "flex": null,
            "_model_name": "LayoutModel",
            "justify_items": null,
            "grid_row": null,
            "max_height": null,
            "align_content": null,
            "visibility": null,
            "align_self": null,
            "height": null,
            "min_height": null,
            "padding": null,
            "grid_auto_rows": null,
            "grid_gap": null,
            "max_width": null,
            "order": null,
            "_view_module_version": "1.2.0",
            "grid_template_areas": null,
            "object_position": null,
            "object_fit": null,
            "grid_auto_columns": null,
            "margin": null,
            "display": null,
            "left": null
          }
        },
        "cd7938c2d0344f509694e2bfbac3a544": {
          "model_module": "@jupyter-widgets/controls",
          "model_name": "FloatProgressModel",
          "state": {
            "_view_name": "ProgressView",
            "style": "IPY_MODEL_c9352344206b4aa5a855e8b16b7507b5",
            "_dom_classes": [],
            "description": "",
            "_model_name": "FloatProgressModel",
            "bar_style": "success",
            "max": 9912422,
            "_view_module": "@jupyter-widgets/controls",
            "_model_module_version": "1.5.0",
            "value": 9912422,
            "_view_count": null,
            "_view_module_version": "1.5.0",
            "orientation": "horizontal",
            "min": 0,
            "description_tooltip": null,
            "_model_module": "@jupyter-widgets/controls",
            "layout": "IPY_MODEL_400608d1e2da4140a2969e8ad87be5b3"
          }
        },
        "a3cadca8550343aba1dd2039d2a4ba6a": {
          "model_module": "@jupyter-widgets/controls",
          "model_name": "HTMLModel",
          "state": {
            "_view_name": "HTMLView",
            "style": "IPY_MODEL_4c915c24e5244a3db07cb62ebe40ed7b",
            "_dom_classes": [],
            "description": "",
            "_model_name": "HTMLModel",
            "placeholder": "​",
            "_view_module": "@jupyter-widgets/controls",
            "_model_module_version": "1.5.0",
            "value": " 9913344/? [10:22&lt;00:00, 15926.60it/s]",
            "_view_count": null,
            "_view_module_version": "1.5.0",
            "description_tooltip": null,
            "_model_module": "@jupyter-widgets/controls",
            "layout": "IPY_MODEL_b4cb4f4c128e447788be05432bda5189"
          }
        },
        "c9352344206b4aa5a855e8b16b7507b5": {
          "model_module": "@jupyter-widgets/controls",
          "model_name": "ProgressStyleModel",
          "state": {
            "_view_name": "StyleView",
            "_model_name": "ProgressStyleModel",
            "description_width": "initial",
            "_view_module": "@jupyter-widgets/base",
            "_model_module_version": "1.5.0",
            "_view_count": null,
            "_view_module_version": "1.2.0",
            "bar_color": null,
            "_model_module": "@jupyter-widgets/controls"
          }
        },
        "400608d1e2da4140a2969e8ad87be5b3": {
          "model_module": "@jupyter-widgets/base",
          "model_name": "LayoutModel",
          "state": {
            "_view_name": "LayoutView",
            "grid_template_rows": null,
            "right": null,
            "justify_content": null,
            "_view_module": "@jupyter-widgets/base",
            "overflow": null,
            "_model_module_version": "1.2.0",
            "_view_count": null,
            "flex_flow": null,
            "width": null,
            "min_width": null,
            "border": null,
            "align_items": null,
            "bottom": null,
            "_model_module": "@jupyter-widgets/base",
            "top": null,
            "grid_column": null,
            "overflow_y": null,
            "overflow_x": null,
            "grid_auto_flow": null,
            "grid_area": null,
            "grid_template_columns": null,
            "flex": null,
            "_model_name": "LayoutModel",
            "justify_items": null,
            "grid_row": null,
            "max_height": null,
            "align_content": null,
            "visibility": null,
            "align_self": null,
            "height": null,
            "min_height": null,
            "padding": null,
            "grid_auto_rows": null,
            "grid_gap": null,
            "max_width": null,
            "order": null,
            "_view_module_version": "1.2.0",
            "grid_template_areas": null,
            "object_position": null,
            "object_fit": null,
            "grid_auto_columns": null,
            "margin": null,
            "display": null,
            "left": null
          }
        },
        "4c915c24e5244a3db07cb62ebe40ed7b": {
          "model_module": "@jupyter-widgets/controls",
          "model_name": "DescriptionStyleModel",
          "state": {
            "_view_name": "StyleView",
            "_model_name": "DescriptionStyleModel",
            "description_width": "",
            "_view_module": "@jupyter-widgets/base",
            "_model_module_version": "1.5.0",
            "_view_count": null,
            "_view_module_version": "1.2.0",
            "_model_module": "@jupyter-widgets/controls"
          }
        },
        "b4cb4f4c128e447788be05432bda5189": {
          "model_module": "@jupyter-widgets/base",
          "model_name": "LayoutModel",
          "state": {
            "_view_name": "LayoutView",
            "grid_template_rows": null,
            "right": null,
            "justify_content": null,
            "_view_module": "@jupyter-widgets/base",
            "overflow": null,
            "_model_module_version": "1.2.0",
            "_view_count": null,
            "flex_flow": null,
            "width": null,
            "min_width": null,
            "border": null,
            "align_items": null,
            "bottom": null,
            "_model_module": "@jupyter-widgets/base",
            "top": null,
            "grid_column": null,
            "overflow_y": null,
            "overflow_x": null,
            "grid_auto_flow": null,
            "grid_area": null,
            "grid_template_columns": null,
            "flex": null,
            "_model_name": "LayoutModel",
            "justify_items": null,
            "grid_row": null,
            "max_height": null,
            "align_content": null,
            "visibility": null,
            "align_self": null,
            "height": null,
            "min_height": null,
            "padding": null,
            "grid_auto_rows": null,
            "grid_gap": null,
            "max_width": null,
            "order": null,
            "_view_module_version": "1.2.0",
            "grid_template_areas": null,
            "object_position": null,
            "object_fit": null,
            "grid_auto_columns": null,
            "margin": null,
            "display": null,
            "left": null
          }
        },
        "286e63287d1947ee8dec0a2147cf3cc2": {
          "model_module": "@jupyter-widgets/controls",
          "model_name": "HBoxModel",
          "state": {
            "_view_name": "HBoxView",
            "_dom_classes": [],
            "_model_name": "HBoxModel",
            "_view_module": "@jupyter-widgets/controls",
            "_model_module_version": "1.5.0",
            "_view_count": null,
            "_view_module_version": "1.5.0",
            "box_style": "",
            "layout": "IPY_MODEL_d5a0bcfd332248a9948cf2dc5574c5e4",
            "_model_module": "@jupyter-widgets/controls",
            "children": [
              "IPY_MODEL_a2b0b082acde4386ad5cf716b6fd7e5c",
              "IPY_MODEL_d76c05db0f3046cb990d4417ed2b8710"
            ]
          }
        },
        "d5a0bcfd332248a9948cf2dc5574c5e4": {
          "model_module": "@jupyter-widgets/base",
          "model_name": "LayoutModel",
          "state": {
            "_view_name": "LayoutView",
            "grid_template_rows": null,
            "right": null,
            "justify_content": null,
            "_view_module": "@jupyter-widgets/base",
            "overflow": null,
            "_model_module_version": "1.2.0",
            "_view_count": null,
            "flex_flow": null,
            "width": null,
            "min_width": null,
            "border": null,
            "align_items": null,
            "bottom": null,
            "_model_module": "@jupyter-widgets/base",
            "top": null,
            "grid_column": null,
            "overflow_y": null,
            "overflow_x": null,
            "grid_auto_flow": null,
            "grid_area": null,
            "grid_template_columns": null,
            "flex": null,
            "_model_name": "LayoutModel",
            "justify_items": null,
            "grid_row": null,
            "max_height": null,
            "align_content": null,
            "visibility": null,
            "align_self": null,
            "height": null,
            "min_height": null,
            "padding": null,
            "grid_auto_rows": null,
            "grid_gap": null,
            "max_width": null,
            "order": null,
            "_view_module_version": "1.2.0",
            "grid_template_areas": null,
            "object_position": null,
            "object_fit": null,
            "grid_auto_columns": null,
            "margin": null,
            "display": null,
            "left": null
          }
        },
        "a2b0b082acde4386ad5cf716b6fd7e5c": {
          "model_module": "@jupyter-widgets/controls",
          "model_name": "FloatProgressModel",
          "state": {
            "_view_name": "ProgressView",
            "style": "IPY_MODEL_69bd810d11ff42198f899e6a1f16ca6c",
            "_dom_classes": [],
            "description": "",
            "_model_name": "FloatProgressModel",
            "bar_style": "success",
            "max": 28881,
            "_view_module": "@jupyter-widgets/controls",
            "_model_module_version": "1.5.0",
            "value": 28881,
            "_view_count": null,
            "_view_module_version": "1.5.0",
            "orientation": "horizontal",
            "min": 0,
            "description_tooltip": null,
            "_model_module": "@jupyter-widgets/controls",
            "layout": "IPY_MODEL_27ed5af501f047be95132ba9d017ed8d"
          }
        },
        "d76c05db0f3046cb990d4417ed2b8710": {
          "model_module": "@jupyter-widgets/controls",
          "model_name": "HTMLModel",
          "state": {
            "_view_name": "HTMLView",
            "style": "IPY_MODEL_eb9695d96d3b47e59b1490878ae59cc4",
            "_dom_classes": [],
            "description": "",
            "_model_name": "HTMLModel",
            "placeholder": "​",
            "_view_module": "@jupyter-widgets/controls",
            "_model_module_version": "1.5.0",
            "value": " 29696/? [05:46&lt;00:00, 85.71it/s]",
            "_view_count": null,
            "_view_module_version": "1.5.0",
            "description_tooltip": null,
            "_model_module": "@jupyter-widgets/controls",
            "layout": "IPY_MODEL_e4850a1099d34f20951702abed704a23"
          }
        },
        "69bd810d11ff42198f899e6a1f16ca6c": {
          "model_module": "@jupyter-widgets/controls",
          "model_name": "ProgressStyleModel",
          "state": {
            "_view_name": "StyleView",
            "_model_name": "ProgressStyleModel",
            "description_width": "initial",
            "_view_module": "@jupyter-widgets/base",
            "_model_module_version": "1.5.0",
            "_view_count": null,
            "_view_module_version": "1.2.0",
            "bar_color": null,
            "_model_module": "@jupyter-widgets/controls"
          }
        },
        "27ed5af501f047be95132ba9d017ed8d": {
          "model_module": "@jupyter-widgets/base",
          "model_name": "LayoutModel",
          "state": {
            "_view_name": "LayoutView",
            "grid_template_rows": null,
            "right": null,
            "justify_content": null,
            "_view_module": "@jupyter-widgets/base",
            "overflow": null,
            "_model_module_version": "1.2.0",
            "_view_count": null,
            "flex_flow": null,
            "width": null,
            "min_width": null,
            "border": null,
            "align_items": null,
            "bottom": null,
            "_model_module": "@jupyter-widgets/base",
            "top": null,
            "grid_column": null,
            "overflow_y": null,
            "overflow_x": null,
            "grid_auto_flow": null,
            "grid_area": null,
            "grid_template_columns": null,
            "flex": null,
            "_model_name": "LayoutModel",
            "justify_items": null,
            "grid_row": null,
            "max_height": null,
            "align_content": null,
            "visibility": null,
            "align_self": null,
            "height": null,
            "min_height": null,
            "padding": null,
            "grid_auto_rows": null,
            "grid_gap": null,
            "max_width": null,
            "order": null,
            "_view_module_version": "1.2.0",
            "grid_template_areas": null,
            "object_position": null,
            "object_fit": null,
            "grid_auto_columns": null,
            "margin": null,
            "display": null,
            "left": null
          }
        },
        "eb9695d96d3b47e59b1490878ae59cc4": {
          "model_module": "@jupyter-widgets/controls",
          "model_name": "DescriptionStyleModel",
          "state": {
            "_view_name": "StyleView",
            "_model_name": "DescriptionStyleModel",
            "description_width": "",
            "_view_module": "@jupyter-widgets/base",
            "_model_module_version": "1.5.0",
            "_view_count": null,
            "_view_module_version": "1.2.0",
            "_model_module": "@jupyter-widgets/controls"
          }
        },
        "e4850a1099d34f20951702abed704a23": {
          "model_module": "@jupyter-widgets/base",
          "model_name": "LayoutModel",
          "state": {
            "_view_name": "LayoutView",
            "grid_template_rows": null,
            "right": null,
            "justify_content": null,
            "_view_module": "@jupyter-widgets/base",
            "overflow": null,
            "_model_module_version": "1.2.0",
            "_view_count": null,
            "flex_flow": null,
            "width": null,
            "min_width": null,
            "border": null,
            "align_items": null,
            "bottom": null,
            "_model_module": "@jupyter-widgets/base",
            "top": null,
            "grid_column": null,
            "overflow_y": null,
            "overflow_x": null,
            "grid_auto_flow": null,
            "grid_area": null,
            "grid_template_columns": null,
            "flex": null,
            "_model_name": "LayoutModel",
            "justify_items": null,
            "grid_row": null,
            "max_height": null,
            "align_content": null,
            "visibility": null,
            "align_self": null,
            "height": null,
            "min_height": null,
            "padding": null,
            "grid_auto_rows": null,
            "grid_gap": null,
            "max_width": null,
            "order": null,
            "_view_module_version": "1.2.0",
            "grid_template_areas": null,
            "object_position": null,
            "object_fit": null,
            "grid_auto_columns": null,
            "margin": null,
            "display": null,
            "left": null
          }
        },
        "e2348468e7644c4b9d416842cf8dc11b": {
          "model_module": "@jupyter-widgets/controls",
          "model_name": "HBoxModel",
          "state": {
            "_view_name": "HBoxView",
            "_dom_classes": [],
            "_model_name": "HBoxModel",
            "_view_module": "@jupyter-widgets/controls",
            "_model_module_version": "1.5.0",
            "_view_count": null,
            "_view_module_version": "1.5.0",
            "box_style": "",
            "layout": "IPY_MODEL_7870c6c2496a4a8a92c015a7f706200f",
            "_model_module": "@jupyter-widgets/controls",
            "children": [
              "IPY_MODEL_4a52ddf0404a4589ad89c37bb6630da1",
              "IPY_MODEL_50f4fc2b583b4634899b551b88256985"
            ]
          }
        },
        "7870c6c2496a4a8a92c015a7f706200f": {
          "model_module": "@jupyter-widgets/base",
          "model_name": "LayoutModel",
          "state": {
            "_view_name": "LayoutView",
            "grid_template_rows": null,
            "right": null,
            "justify_content": null,
            "_view_module": "@jupyter-widgets/base",
            "overflow": null,
            "_model_module_version": "1.2.0",
            "_view_count": null,
            "flex_flow": null,
            "width": null,
            "min_width": null,
            "border": null,
            "align_items": null,
            "bottom": null,
            "_model_module": "@jupyter-widgets/base",
            "top": null,
            "grid_column": null,
            "overflow_y": null,
            "overflow_x": null,
            "grid_auto_flow": null,
            "grid_area": null,
            "grid_template_columns": null,
            "flex": null,
            "_model_name": "LayoutModel",
            "justify_items": null,
            "grid_row": null,
            "max_height": null,
            "align_content": null,
            "visibility": null,
            "align_self": null,
            "height": null,
            "min_height": null,
            "padding": null,
            "grid_auto_rows": null,
            "grid_gap": null,
            "max_width": null,
            "order": null,
            "_view_module_version": "1.2.0",
            "grid_template_areas": null,
            "object_position": null,
            "object_fit": null,
            "grid_auto_columns": null,
            "margin": null,
            "display": null,
            "left": null
          }
        },
        "4a52ddf0404a4589ad89c37bb6630da1": {
          "model_module": "@jupyter-widgets/controls",
          "model_name": "FloatProgressModel",
          "state": {
            "_view_name": "ProgressView",
            "style": "IPY_MODEL_48de3daf94324caa8645e80595d1bf5e",
            "_dom_classes": [],
            "description": "",
            "_model_name": "FloatProgressModel",
            "bar_style": "success",
            "max": 1648877,
            "_view_module": "@jupyter-widgets/controls",
            "_model_module_version": "1.5.0",
            "value": 1648877,
            "_view_count": null,
            "_view_module_version": "1.5.0",
            "orientation": "horizontal",
            "min": 0,
            "description_tooltip": null,
            "_model_module": "@jupyter-widgets/controls",
            "layout": "IPY_MODEL_e59e1bd639c247ad9ffbb2cef1478e88"
          }
        },
        "50f4fc2b583b4634899b551b88256985": {
          "model_module": "@jupyter-widgets/controls",
          "model_name": "HTMLModel",
          "state": {
            "_view_name": "HTMLView",
            "style": "IPY_MODEL_58b1bc9e438340d4a0b63edf305f477a",
            "_dom_classes": [],
            "description": "",
            "_model_name": "HTMLModel",
            "placeholder": "​",
            "_view_module": "@jupyter-widgets/controls",
            "_model_module_version": "1.5.0",
            "value": " 1649664/? [00:39&lt;00:00, 42159.17it/s]",
            "_view_count": null,
            "_view_module_version": "1.5.0",
            "description_tooltip": null,
            "_model_module": "@jupyter-widgets/controls",
            "layout": "IPY_MODEL_fb90351c179f4171adff970ae92eba05"
          }
        },
        "48de3daf94324caa8645e80595d1bf5e": {
          "model_module": "@jupyter-widgets/controls",
          "model_name": "ProgressStyleModel",
          "state": {
            "_view_name": "StyleView",
            "_model_name": "ProgressStyleModel",
            "description_width": "initial",
            "_view_module": "@jupyter-widgets/base",
            "_model_module_version": "1.5.0",
            "_view_count": null,
            "_view_module_version": "1.2.0",
            "bar_color": null,
            "_model_module": "@jupyter-widgets/controls"
          }
        },
        "e59e1bd639c247ad9ffbb2cef1478e88": {
          "model_module": "@jupyter-widgets/base",
          "model_name": "LayoutModel",
          "state": {
            "_view_name": "LayoutView",
            "grid_template_rows": null,
            "right": null,
            "justify_content": null,
            "_view_module": "@jupyter-widgets/base",
            "overflow": null,
            "_model_module_version": "1.2.0",
            "_view_count": null,
            "flex_flow": null,
            "width": null,
            "min_width": null,
            "border": null,
            "align_items": null,
            "bottom": null,
            "_model_module": "@jupyter-widgets/base",
            "top": null,
            "grid_column": null,
            "overflow_y": null,
            "overflow_x": null,
            "grid_auto_flow": null,
            "grid_area": null,
            "grid_template_columns": null,
            "flex": null,
            "_model_name": "LayoutModel",
            "justify_items": null,
            "grid_row": null,
            "max_height": null,
            "align_content": null,
            "visibility": null,
            "align_self": null,
            "height": null,
            "min_height": null,
            "padding": null,
            "grid_auto_rows": null,
            "grid_gap": null,
            "max_width": null,
            "order": null,
            "_view_module_version": "1.2.0",
            "grid_template_areas": null,
            "object_position": null,
            "object_fit": null,
            "grid_auto_columns": null,
            "margin": null,
            "display": null,
            "left": null
          }
        },
        "58b1bc9e438340d4a0b63edf305f477a": {
          "model_module": "@jupyter-widgets/controls",
          "model_name": "DescriptionStyleModel",
          "state": {
            "_view_name": "StyleView",
            "_model_name": "DescriptionStyleModel",
            "description_width": "",
            "_view_module": "@jupyter-widgets/base",
            "_model_module_version": "1.5.0",
            "_view_count": null,
            "_view_module_version": "1.2.0",
            "_model_module": "@jupyter-widgets/controls"
          }
        },
        "fb90351c179f4171adff970ae92eba05": {
          "model_module": "@jupyter-widgets/base",
          "model_name": "LayoutModel",
          "state": {
            "_view_name": "LayoutView",
            "grid_template_rows": null,
            "right": null,
            "justify_content": null,
            "_view_module": "@jupyter-widgets/base",
            "overflow": null,
            "_model_module_version": "1.2.0",
            "_view_count": null,
            "flex_flow": null,
            "width": null,
            "min_width": null,
            "border": null,
            "align_items": null,
            "bottom": null,
            "_model_module": "@jupyter-widgets/base",
            "top": null,
            "grid_column": null,
            "overflow_y": null,
            "overflow_x": null,
            "grid_auto_flow": null,
            "grid_area": null,
            "grid_template_columns": null,
            "flex": null,
            "_model_name": "LayoutModel",
            "justify_items": null,
            "grid_row": null,
            "max_height": null,
            "align_content": null,
            "visibility": null,
            "align_self": null,
            "height": null,
            "min_height": null,
            "padding": null,
            "grid_auto_rows": null,
            "grid_gap": null,
            "max_width": null,
            "order": null,
            "_view_module_version": "1.2.0",
            "grid_template_areas": null,
            "object_position": null,
            "object_fit": null,
            "grid_auto_columns": null,
            "margin": null,
            "display": null,
            "left": null
          }
        },
        "3a28a7cc049b4224bb43e773557893ef": {
          "model_module": "@jupyter-widgets/controls",
          "model_name": "HBoxModel",
          "state": {
            "_view_name": "HBoxView",
            "_dom_classes": [],
            "_model_name": "HBoxModel",
            "_view_module": "@jupyter-widgets/controls",
            "_model_module_version": "1.5.0",
            "_view_count": null,
            "_view_module_version": "1.5.0",
            "box_style": "",
            "layout": "IPY_MODEL_a068a057efac426993419fa713698f04",
            "_model_module": "@jupyter-widgets/controls",
            "children": [
              "IPY_MODEL_d1f7a43c707e488bb1eee1c3faf96217",
              "IPY_MODEL_724c223d5ef64a36898b406570862db9"
            ]
          }
        },
        "a068a057efac426993419fa713698f04": {
          "model_module": "@jupyter-widgets/base",
          "model_name": "LayoutModel",
          "state": {
            "_view_name": "LayoutView",
            "grid_template_rows": null,
            "right": null,
            "justify_content": null,
            "_view_module": "@jupyter-widgets/base",
            "overflow": null,
            "_model_module_version": "1.2.0",
            "_view_count": null,
            "flex_flow": null,
            "width": null,
            "min_width": null,
            "border": null,
            "align_items": null,
            "bottom": null,
            "_model_module": "@jupyter-widgets/base",
            "top": null,
            "grid_column": null,
            "overflow_y": null,
            "overflow_x": null,
            "grid_auto_flow": null,
            "grid_area": null,
            "grid_template_columns": null,
            "flex": null,
            "_model_name": "LayoutModel",
            "justify_items": null,
            "grid_row": null,
            "max_height": null,
            "align_content": null,
            "visibility": null,
            "align_self": null,
            "height": null,
            "min_height": null,
            "padding": null,
            "grid_auto_rows": null,
            "grid_gap": null,
            "max_width": null,
            "order": null,
            "_view_module_version": "1.2.0",
            "grid_template_areas": null,
            "object_position": null,
            "object_fit": null,
            "grid_auto_columns": null,
            "margin": null,
            "display": null,
            "left": null
          }
        },
        "d1f7a43c707e488bb1eee1c3faf96217": {
          "model_module": "@jupyter-widgets/controls",
          "model_name": "FloatProgressModel",
          "state": {
            "_view_name": "ProgressView",
            "style": "IPY_MODEL_98e4b743a0cc4cd6a1f39a9e58949308",
            "_dom_classes": [],
            "description": "",
            "_model_name": "FloatProgressModel",
            "bar_style": "success",
            "max": 4542,
            "_view_module": "@jupyter-widgets/controls",
            "_model_module_version": "1.5.0",
            "value": 4542,
            "_view_count": null,
            "_view_module_version": "1.5.0",
            "orientation": "horizontal",
            "min": 0,
            "description_tooltip": null,
            "_model_module": "@jupyter-widgets/controls",
            "layout": "IPY_MODEL_9d520b85e0474e8c87b5e8df5b5fdc58"
          }
        },
        "724c223d5ef64a36898b406570862db9": {
          "model_module": "@jupyter-widgets/controls",
          "model_name": "HTMLModel",
          "state": {
            "_view_name": "HTMLView",
            "style": "IPY_MODEL_ebe6901071ee44ca9503e3046aead12d",
            "_dom_classes": [],
            "description": "",
            "_model_name": "HTMLModel",
            "placeholder": "​",
            "_view_module": "@jupyter-widgets/controls",
            "_model_module_version": "1.5.0",
            "value": " 5120/? [00:01&lt;00:00, 3042.98it/s]",
            "_view_count": null,
            "_view_module_version": "1.5.0",
            "description_tooltip": null,
            "_model_module": "@jupyter-widgets/controls",
            "layout": "IPY_MODEL_0f5f4a2d609d4f38bbb72c12c9a3867b"
          }
        },
        "98e4b743a0cc4cd6a1f39a9e58949308": {
          "model_module": "@jupyter-widgets/controls",
          "model_name": "ProgressStyleModel",
          "state": {
            "_view_name": "StyleView",
            "_model_name": "ProgressStyleModel",
            "description_width": "initial",
            "_view_module": "@jupyter-widgets/base",
            "_model_module_version": "1.5.0",
            "_view_count": null,
            "_view_module_version": "1.2.0",
            "bar_color": null,
            "_model_module": "@jupyter-widgets/controls"
          }
        },
        "9d520b85e0474e8c87b5e8df5b5fdc58": {
          "model_module": "@jupyter-widgets/base",
          "model_name": "LayoutModel",
          "state": {
            "_view_name": "LayoutView",
            "grid_template_rows": null,
            "right": null,
            "justify_content": null,
            "_view_module": "@jupyter-widgets/base",
            "overflow": null,
            "_model_module_version": "1.2.0",
            "_view_count": null,
            "flex_flow": null,
            "width": null,
            "min_width": null,
            "border": null,
            "align_items": null,
            "bottom": null,
            "_model_module": "@jupyter-widgets/base",
            "top": null,
            "grid_column": null,
            "overflow_y": null,
            "overflow_x": null,
            "grid_auto_flow": null,
            "grid_area": null,
            "grid_template_columns": null,
            "flex": null,
            "_model_name": "LayoutModel",
            "justify_items": null,
            "grid_row": null,
            "max_height": null,
            "align_content": null,
            "visibility": null,
            "align_self": null,
            "height": null,
            "min_height": null,
            "padding": null,
            "grid_auto_rows": null,
            "grid_gap": null,
            "max_width": null,
            "order": null,
            "_view_module_version": "1.2.0",
            "grid_template_areas": null,
            "object_position": null,
            "object_fit": null,
            "grid_auto_columns": null,
            "margin": null,
            "display": null,
            "left": null
          }
        },
        "ebe6901071ee44ca9503e3046aead12d": {
          "model_module": "@jupyter-widgets/controls",
          "model_name": "DescriptionStyleModel",
          "state": {
            "_view_name": "StyleView",
            "_model_name": "DescriptionStyleModel",
            "description_width": "",
            "_view_module": "@jupyter-widgets/base",
            "_model_module_version": "1.5.0",
            "_view_count": null,
            "_view_module_version": "1.2.0",
            "_model_module": "@jupyter-widgets/controls"
          }
        },
        "0f5f4a2d609d4f38bbb72c12c9a3867b": {
          "model_module": "@jupyter-widgets/base",
          "model_name": "LayoutModel",
          "state": {
            "_view_name": "LayoutView",
            "grid_template_rows": null,
            "right": null,
            "justify_content": null,
            "_view_module": "@jupyter-widgets/base",
            "overflow": null,
            "_model_module_version": "1.2.0",
            "_view_count": null,
            "flex_flow": null,
            "width": null,
            "min_width": null,
            "border": null,
            "align_items": null,
            "bottom": null,
            "_model_module": "@jupyter-widgets/base",
            "top": null,
            "grid_column": null,
            "overflow_y": null,
            "overflow_x": null,
            "grid_auto_flow": null,
            "grid_area": null,
            "grid_template_columns": null,
            "flex": null,
            "_model_name": "LayoutModel",
            "justify_items": null,
            "grid_row": null,
            "max_height": null,
            "align_content": null,
            "visibility": null,
            "align_self": null,
            "height": null,
            "min_height": null,
            "padding": null,
            "grid_auto_rows": null,
            "grid_gap": null,
            "max_width": null,
            "order": null,
            "_view_module_version": "1.2.0",
            "grid_template_areas": null,
            "object_position": null,
            "object_fit": null,
            "grid_auto_columns": null,
            "margin": null,
            "display": null,
            "left": null
          }
        }
      }
    }
  },
  "cells": [
    {
      "cell_type": "markdown",
      "metadata": {
        "id": "view-in-github",
        "colab_type": "text"
      },
      "source": [
        "<a href=\"https://colab.research.google.com/github/ahmadkhan242/PlayingWithMNIST/blob/main/task3.ipynb\" target=\"_parent\"><img src=\"https://colab.research.google.com/assets/colab-badge.svg\" alt=\"Open In Colab\"/></a>"
      ]
    },
    {
      "cell_type": "markdown",
      "metadata": {
        "id": "bOMXkpDyfuF9"
      },
      "source": [
        "# Task 3"
      ]
    },
    {
      "cell_type": "markdown",
      "metadata": {
        "id": "cbwaYFiPiImD"
      },
      "source": [
        "Downloading the given dataset."
      ]
    },
    {
      "cell_type": "code",
      "metadata": {
        "id": "9JeXa9UQ2x7O"
      },
      "source": [
        "!wget https://www.dropbox.com/s/otc12z2w7f7xm8z/mnistTask3.zip"
      ],
      "execution_count": null,
      "outputs": []
    },
    {
      "cell_type": "code",
      "metadata": {
        "id": "iagPDqTo2_Ni"
      },
      "source": [
        "!unzip mnistTask3.zip"
      ],
      "execution_count": null,
      "outputs": []
    },
    {
      "cell_type": "markdown",
      "metadata": {
        "id": "57C4f6GciYQO"
      },
      "source": [
        "## For this task I had used Pytorch library to implement CNN."
      ]
    },
    {
      "cell_type": "code",
      "metadata": {
        "id": "KpMC1IYV2_Ss"
      },
      "source": [
        "import numpy as np\n",
        "import torch\n",
        "import torch.optim as optim\n",
        "import torch.nn.functional as F\n",
        "\n",
        "import torch.nn as nn\n",
        "import os,shutil,json\n",
        "import argparse\n",
        "import glob\n",
        "import torch.utils.data\n",
        "import math\n",
        "from skimage import io, transform\n",
        "from PIL import Image\n",
        "import torchvision as vision\n",
        "from torchvision import transforms, datasets\n",
        "import random\n",
        "import cv2\n",
        "import matplotlib.pyplot as plt\n",
        "import matplotlib.image as mpimg\n",
        "from torch.utils.data.sampler import SubsetRandomSampler\n",
        "from torch.autograd import Variable\n",
        "from torch.utils.data import random_split\n",
        "from torchvision.datasets import ImageFolder\n",
        "\n",
        "torch.cuda.empty_cache()"
      ],
      "execution_count": 10,
      "outputs": []
    },
    {
      "cell_type": "code",
      "metadata": {
        "id": "WYl8TGdd8FFk"
      },
      "source": [
        "# Defining dataset directory \n",
        "root_dir = \"/content/mnistTask/\""
      ],
      "execution_count": 11,
      "outputs": []
    },
    {
      "cell_type": "markdown",
      "metadata": {
        "id": "II1_ql4wi46I"
      },
      "source": [
        "### The funtion below is used to create train and validation loader."
      ]
    },
    {
      "cell_type": "code",
      "metadata": {
        "id": "apIt_m628MfZ"
      },
      "source": [
        "\n",
        "def prepare_dataset(dataset_path):\n",
        "  \"\"\" Function to create train and validation loader.\n",
        "    Params:\n",
        "        dataset_path: path where all images are.\n",
        "    \n",
        "    returns: \n",
        "        train_loader: train loader with batch size of 64\n",
        "        validation_loader: validation loader with batch size of 64\n",
        "        \n",
        "    Note: Split ratio and batch sizes are pre-defined you can change it in this function.\n",
        "    \"\"\"\n",
        "\n",
        "  labels = os.listdir(dataset_path)\n",
        "\n",
        "  # Here images are resized and converted to grayscale so that we have data consistency for other tasks\n",
        "  dataset = ImageFolder(\n",
        "      dataset_path,\n",
        "      transforms.Compose([transforms.Resize((32,32)),\n",
        "                         transforms.ToTensor(),transforms.Grayscale(num_output_channels=1)])\n",
        "  )\n",
        "  # Validation split 15%\n",
        "  val_split = int(len(dataset)*0.15)\n",
        "  train_split = len(dataset) - val_split\n",
        "\n",
        "  train_dataset, val_dataset = random_split(dataset, [train_split, val_split])\n",
        "\n",
        "  # to make sure the split is right.\n",
        "  assert (len(train_dataset)+len(val_dataset)) == len(dataset)\n",
        "\n",
        "  train_loader = torch.utils.data.DataLoader(train_dataset, 64, shuffle=True)\n",
        "  validation_loader = torch.utils.data.DataLoader(val_dataset, 64) \n",
        "\n",
        "  return (train_loader, validation_loader)\n"
      ],
      "execution_count": 14,
      "outputs": []
    },
    {
      "cell_type": "code",
      "metadata": {
        "id": "2fEL_A7Y8QGG"
      },
      "source": [
        "# executing prepare_dataset function\n",
        "train_loader, validation_loader = prepare_dataset(root_dir)"
      ],
      "execution_count": 15,
      "outputs": []
    },
    {
      "cell_type": "markdown",
      "metadata": {
        "id": "Cy0XQYtzke2R"
      },
      "source": [
        "### Data visualisation "
      ]
    },
    {
      "cell_type": "code",
      "metadata": {
        "colab": {
          "base_uri": "https://localhost:8080/",
          "height": 551
        },
        "id": "G1-ass9KpmTx",
        "outputId": "468a18a4-d7e4-4704-d362-c8a2c518ef59"
      },
      "source": [
        "examples = enumerate(train_loader)\n",
        "batch_idx, (example_data, example_targets) = next(examples)\n",
        "import matplotlib.pyplot as plt\n",
        "\n",
        "fig = plt.figure()\n",
        "for i in range(6):\n",
        "  plt.subplot(2,3,i+1)\n",
        "  plt.tight_layout()\n",
        "  plt.imshow(example_data[i][0], cmap='gray', interpolation='none')\n",
        "  plt.title(\"Ground Truth: {}\".format(example_targets[i]))\n",
        "  plt.xticks([])\n",
        "  plt.yticks([])\n",
        "fig"
      ],
      "execution_count": null,
      "outputs": [
        {
          "output_type": "execute_result",
          "data": {
            "image/png": "[encoded data removed]",
            "text/plain": [
              "<Figure size 432x288 with 6 Axes>"
            ]
          },
          "metadata": {
            "tags": []
          },
          "execution_count": 8
        },
        {
          "output_type": "display_data",
          "data": {
            "image/png": "[encoded data removed]",
            "text/plain": [
              "<Figure size 432x288 with 6 Axes>"
            ]
          },
          "metadata": {
            "tags": []
          }
        }
      ]
    },
    {
      "cell_type": "markdown",
      "metadata": {
        "id": "ykT56RGBk9ya"
      },
      "source": [
        "### Here the CNN architecture  is defined, the architecture is of ResNet with four layers and one resedual block in each layer( See conclusion for detail)."
      ]
    },
    {
      "cell_type": "code",
      "metadata": {
        "id": "MeiLz_2YEj4i"
      },
      "source": [
        "\n",
        "class BasicBlock(nn.Module):\n",
        "    expansion = 1\n",
        "\n",
        "    def __init__(self, in_planes, planes, stride=1):\n",
        "        super(BasicBlock, self).__init__()\n",
        "        self.conv1 = nn.Conv2d(in_planes, planes, kernel_size=(3,3), stride=stride, padding=1, bias=False)\n",
        "        self.bn1 = nn.BatchNorm2d(planes)\n",
        "        self.conv2 = nn.Conv2d(planes, planes, kernel_size=(3,3), stride=1, padding=1, bias=False)\n",
        "        self.bn2 = nn.BatchNorm2d(planes)\n",
        "\n",
        "        self.shortcut = nn.Sequential()\n",
        "        if stride != 1 or in_planes != self.expansion*planes:\n",
        "            self.shortcut = nn.Sequential(\n",
        "                nn.Conv2d(in_planes, self.expansion*planes, kernel_size=1, stride=stride, bias=False),\n",
        "                nn.BatchNorm2d(self.expansion*planes)\n",
        "            )\n",
        "\n",
        "    def forward(self, x):\n",
        "        out = self.conv1(x)\n",
        "        out = self.bn1(out)\n",
        "        out = F.relu(out)\n",
        "        out = self.conv2(out)\n",
        "        out = self.bn2(out)\n",
        "        out += self.shortcut(x)\n",
        "        out = F.relu(out)\n",
        "        return out\n",
        "\n",
        "\n",
        "class Bottleneck(nn.Module):\n",
        "    expansion = 4\n",
        "\n",
        "    def __init__(self, in_planes, planes, stride=1):\n",
        "        super(Bottleneck, self).__init__()\n",
        "        self.conv1 = nn.Conv2d(in_planes, planes, kernel_size=(3,3), bias=False)\n",
        "        self.bn1 = nn.BatchNorm2d(planes)\n",
        "        self.conv2 = nn.Conv2d(planes, planes, kernel_size=(3,3), stride=stride, padding=1, bias=False)\n",
        "        self.bn2 = nn.BatchNorm2d(planes)\n",
        "        self.conv3 = nn.Conv2d(planes, self.expansion*planes, kernel_size=(3,3), bias=False)\n",
        "        self.bn3 = nn.BatchNorm2d(self.expansion*planes)\n",
        "\n",
        "        self.shortcut = nn.Sequential()\n",
        "        if stride != 1 or in_planes != self.expansion*planes:\n",
        "            self.shortcut = nn.Sequential(\n",
        "                nn.Conv2d(in_planes, self.expansion*planes, kernel_size=(4,4), stride=stride, bias=False),\n",
        "                nn.BatchNorm2d(self.expansion*planes)\n",
        "            )\n",
        "\n",
        "    def forward(self, x):\n",
        "        out = self.conv1(x)\n",
        "        out = self.bn1(out)\n",
        "        out = F.relu(out)\n",
        "        out = self.conv2(out)\n",
        "        out = self.bn2(out)\n",
        "        out = F.relu(out)\n",
        "        out = self.bn3(self.conv3(out))\n",
        "        out += self.shortcut(x)\n",
        "        out = F.relu(out)\n",
        "        return out\n",
        "\n",
        "\n",
        "class ResNet(nn.Module):\n",
        "    def __init__(self, block, num_blocks, num_classes=10):\n",
        "        super(ResNet, self).__init__()\n",
        "        self.in_planes = 64\n",
        "\n",
        "        self.conv1 = nn.Conv2d(1, 64, kernel_size=(3,3), stride=1, padding=1, bias=False)\n",
        "        self.bn1 = nn.BatchNorm2d(64)\n",
        "        self.layer1 = self._make_layer(block, 64, num_blocks[0], stride=1)\n",
        "        self.layer2 = self._make_layer(block, 128, num_blocks[1], stride=1)\n",
        "        self.layer3 = self._make_layer(block, 256, num_blocks[2], stride=1)\n",
        "        self.layer4 = self._make_layer(block, 512, num_blocks[3], stride=1)\n",
        "        self.linear1 = nn.Linear(512, 256)\n",
        "        self.linear2 = nn.Linear(256, 128)\n",
        "        self.linear3 = nn.Linear(128, num_classes)\n",
        "        self.dropout1 = nn.Dropout(0.3)\n",
        "        self.dropout2 = nn.Dropout(0.4)\n",
        "\n",
        "    def _make_layer(self, block, planes, num_blocks, stride):\n",
        "        strides = [stride] + [1]*(num_blocks-1)\n",
        "        layers = []\n",
        "        for stride in strides:\n",
        "            layers.append(block(self.in_planes, planes, stride))\n",
        "            self.in_planes = planes * block.expansion\n",
        "        return nn.Sequential(*layers)\n",
        "\n",
        "    def forward(self, x):\n",
        "        out = F.relu(self.bn1(self.conv1(x)))\n",
        "        out = self.layer1(out)\n",
        "        out = self.layer2(out)\n",
        "        out = self.layer3(out)\n",
        "        out = F.avg_pool2d(out, 5)\n",
        "        out = self.layer4(out)\n",
        "        out = F.avg_pool2d(out, 5)\n",
        "        out = torch.flatten(out, 1)\n",
        "        out = self.linear1(out)\n",
        "        out = self.dropout1(out)\n",
        "        out = self.linear2(out)\n",
        "        out = self.dropout2(out)\n",
        "        out = self.linear3(out)\n",
        "        return out\n"
      ],
      "execution_count": 2,
      "outputs": []
    },
    {
      "cell_type": "markdown",
      "metadata": {
        "id": "N3Krw0zlqMDd"
      },
      "source": [
        "### In the cell below, defined the Model, the loss function, and the Optimizer I have used for this task. "
      ]
    },
    {
      "cell_type": "code",
      "metadata": {
        "colab": {
          "base_uri": "https://localhost:8080/"
        },
        "id": "Zp9mOvY192W8",
        "outputId": "f5772574-d7ed-4449-b32d-927be35d1ddb"
      },
      "source": [
        "model = ResNet(BasicBlock, [1, 1, 1, 1])\n",
        "\n",
        "criterion = nn.CrossEntropyLoss()\n",
        "torch.cuda.empty_cache()\n",
        "\n",
        "if torch.cuda.is_available():\n",
        "\tprint(torch.cuda.get_device_name(0))\n",
        "\tmodel = model.cuda()\n",
        "\toptimizer = optim.Adam(model.parameters(), lr=1e-3, weight_decay=1e-5)\n",
        "\tcriterion = criterion.cuda()"
      ],
      "execution_count": null,
      "outputs": [
        {
          "output_type": "stream",
          "text": [
            "Tesla P100-PCIE-16GB\n"
          ],
          "name": "stdout"
        }
      ]
    },
    {
      "cell_type": "markdown",
      "metadata": {
        "id": "V_WSk7R6qkHz"
      },
      "source": [
        "### Here the train function is defined for training the model defined above.\n",
        "### Please follow the comment to guide your self in the train function."
      ]
    },
    {
      "cell_type": "code",
      "metadata": {
        "colab": {
          "base_uri": "https://localhost:8080/"
        },
        "id": "4yNzdptc93jj",
        "outputId": "1afd2ffd-fd5c-4ffc-e6ee-7f89647c2ddc"
      },
      "source": [
        "# Loss and accuracy list are defined, these lists are used for graph.\n",
        "%%time\n",
        "train_loss_list = []\n",
        "val_loss_list = []\n",
        "epc_list = []\n",
        "train_acc_list = []\n",
        "val_acc_list = []\n",
        "incorrect_examples=[]\n",
        "\n",
        "def train():\n",
        "  best_valid_loss = float('Inf')\n",
        "  print(\"Training Started !!!\")\n",
        "  for i in range(50):\n",
        "    training_loss = 0\n",
        "    tcorrect = 0\n",
        "    ttotal = 0\n",
        "    model.train()\n",
        "    for features, labels in train_loader:\n",
        "      # Label and features assigning\n",
        "      features, labels = Variable(features.cuda()), Variable(labels.cuda())\n",
        "      optimizer.zero_grad()\n",
        "\n",
        "      # Output collection from model\n",
        "      outputs = model(features.float())\n",
        "\n",
        "      # Loss calculation and updation\n",
        "      losss = criterion(outputs.cuda(), labels.type(torch.LongTensor).cuda())\n",
        "      losss.backward()\n",
        "      optimizer.step()\n",
        "      training_loss += losss.item()\n",
        "\n",
        "      # Prediction\n",
        "      _, pred = torch.max(outputs, 1)\n",
        "      ttotal+= labels.reshape(-1).size(0)\n",
        "      tcorrect+=(pred.reshape(-1).cuda() == labels.reshape(-1)).sum().item()\n",
        "  \n",
        "    validation_loss = 0\n",
        "    correct = 0\n",
        "    total = 0\n",
        "    model.eval()\n",
        "    with torch.no_grad():\n",
        "      for features, labels in validation_loader:\n",
        "\n",
        "        # Label and features assigning\n",
        "        features, labels = Variable(features.cuda()), Variable(labels.cuda())\n",
        "\n",
        "        # Output collection from model\n",
        "        outputs = model(features.float())\n",
        "        \n",
        "        # Loss calculation\n",
        "        loss = criterion(outputs.cuda(), labels.type(torch.LongTensor).cuda())\n",
        "\n",
        "        # Prediction\n",
        "        _, pred = torch.max(outputs, 1)\n",
        "        total+= labels.reshape(-1).size(0)\n",
        "        correct+=(pred.reshape(-1).cuda() == labels.reshape(-1)).sum().item()\n",
        "        validation_loss += loss.item()\n",
        "\n",
        "\n",
        "    train_loss_list.append(training_loss/len(train_loader))\n",
        "    val_loss_list.append(validation_loss/len(validation_loader))\n",
        "    epc_list.append(i)\n",
        "    train_acc_list.append(100*(tcorrect/ttotal))\n",
        "    val_acc_list.append(100*(correct/total))\n",
        "    if best_valid_loss > validation_loss:\n",
        "        best_valid_loss = validation_loss \n",
        "        # Saving Best Pre-Trained Model as .pth file\n",
        "        torch.save(model, \"task3.pth\")\n",
        "    print(\"Epoch {} - \\nTraning loss: {}\".format(i+1, training_loss/len(train_loader)))\n",
        "    print(\"Validation loss: {}\".format( validation_loss/len(validation_loader)))\n",
        "    print(\"Trainig Accuracy: {}\".format( 100*(tcorrect/ttotal)))\n",
        "    print(\"Validation Accuracy: {}\".format(100*(correct/total)))\n",
        "\n",
        "train()\n",
        "print(\"Training Complete\")"
      ],
      "execution_count": null,
      "outputs": [
        {
          "output_type": "stream",
          "text": [
            "Training Started !!!\n",
            "Epoch 1 - \n",
            "Traning loss: 2.3076755653510577\n",
            "Validation loss: 2.2951010896804487\n",
            "Trainig Accuracy: 10.323529411764707\n",
            "Validation Accuracy: 10.044444444444444\n",
            "Epoch 2 - \n",
            "Traning loss: 2.297308984185701\n",
            "Validation loss: 2.2933622167465533\n",
            "Trainig Accuracy: 10.776470588235295\n",
            "Validation Accuracy: 10.311111111111112\n",
            "Epoch 3 - \n",
            "Traning loss: 2.2959666527349647\n",
            "Validation loss: 2.2915432791337897\n",
            "Trainig Accuracy: 10.907843137254902\n",
            "Validation Accuracy: 10.411111111111111\n",
            "Epoch 4 - \n",
            "Traning loss: 2.2957662978166318\n",
            "Validation loss: 2.291815794951527\n",
            "Trainig Accuracy: 10.882352941176471\n",
            "Validation Accuracy: 11.122222222222222\n",
            "Epoch 5 - \n",
            "Traning loss: 2.2934215148090566\n",
            "Validation loss: 2.285887380018302\n",
            "Trainig Accuracy: 10.75294117647059\n",
            "Validation Accuracy: 10.755555555555556\n",
            "Epoch 6 - \n",
            "Traning loss: 2.2895178012596618\n",
            "Validation loss: 2.2888379959349936\n",
            "Trainig Accuracy: 11.180392156862744\n",
            "Validation Accuracy: 10.777777777777779\n",
            "Epoch 7 - \n",
            "Traning loss: 2.2846084634213706\n",
            "Validation loss: 2.275509856271406\n",
            "Trainig Accuracy: 11.24705882352941\n",
            "Validation Accuracy: 10.866666666666665\n",
            "Epoch 8 - \n",
            "Traning loss: 2.282630492931926\n",
            "Validation loss: 2.2817350008808974\n",
            "Trainig Accuracy: 11.074509803921568\n",
            "Validation Accuracy: 11.200000000000001\n",
            "Epoch 9 - \n",
            "Traning loss: 2.2812665128049767\n",
            "Validation loss: 2.2735060850779214\n",
            "Trainig Accuracy: 11.070588235294117\n",
            "Validation Accuracy: 11.466666666666667\n",
            "Epoch 10 - \n",
            "Traning loss: 2.2802802493311978\n",
            "Validation loss: 2.270067624166502\n",
            "Trainig Accuracy: 10.949019607843137\n",
            "Validation Accuracy: 10.933333333333334\n",
            "Epoch 11 - \n",
            "Traning loss: 2.279927563637383\n",
            "Validation loss: 2.26864019353339\n",
            "Trainig Accuracy: 11.080392156862745\n",
            "Validation Accuracy: 11.333333333333332\n",
            "Epoch 12 - \n",
            "Traning loss: 2.276745760754929\n",
            "Validation loss: 2.2651302205755357\n",
            "Trainig Accuracy: 11.225490196078432\n",
            "Validation Accuracy: 10.9\n",
            "Epoch 13 - \n",
            "Traning loss: 2.2746874342299765\n",
            "Validation loss: 2.2608473706752696\n",
            "Trainig Accuracy: 11.101960784313727\n",
            "Validation Accuracy: 11.377777777777778\n",
            "Epoch 14 - \n",
            "Traning loss: 2.272492495055779\n",
            "Validation loss: 2.259724755659171\n",
            "Trainig Accuracy: 11.129411764705882\n",
            "Validation Accuracy: 10.755555555555556\n",
            "Epoch 15 - \n",
            "Traning loss: 2.2708842546458228\n",
            "Validation loss: 2.260729654460934\n",
            "Trainig Accuracy: 11.215686274509803\n",
            "Validation Accuracy: 11.288888888888888\n",
            "Epoch 16 - \n",
            "Traning loss: 2.269651525143249\n",
            "Validation loss: 2.256789445877075\n",
            "Trainig Accuracy: 11.45686274509804\n",
            "Validation Accuracy: 11.288888888888888\n",
            "Epoch 17 - \n",
            "Traning loss: 2.269998290009301\n",
            "Validation loss: 2.2570957055328584\n",
            "Trainig Accuracy: 11.131372549019607\n",
            "Validation Accuracy: 11.799999999999999\n",
            "Epoch 18 - \n",
            "Traning loss: 2.2686400962444293\n",
            "Validation loss: 2.255505972720207\n",
            "Trainig Accuracy: 11.164705882352942\n",
            "Validation Accuracy: 10.766666666666666\n",
            "Epoch 19 - \n",
            "Traning loss: 2.2662948440278936\n",
            "Validation loss: 2.250171624176891\n",
            "Trainig Accuracy: 11.42156862745098\n",
            "Validation Accuracy: 11.11111111111111\n",
            "Epoch 20 - \n",
            "Traning loss: 2.262777596375574\n",
            "Validation loss: 2.2469273374435748\n",
            "Trainig Accuracy: 11.45686274509804\n",
            "Validation Accuracy: 11.544444444444444\n",
            "Epoch 21 - \n",
            "Traning loss: 2.2633672331926067\n",
            "Validation loss: 2.2515684205589563\n",
            "Trainig Accuracy: 11.323529411764707\n",
            "Validation Accuracy: 11.177777777777779\n",
            "Epoch 22 - \n",
            "Traning loss: 2.263087583605289\n",
            "Validation loss: 2.2468253636191076\n",
            "Trainig Accuracy: 11.470588235294118\n",
            "Validation Accuracy: 11.055555555555555\n",
            "Epoch 23 - \n",
            "Traning loss: 2.261569902917821\n",
            "Validation loss: 2.250576844452121\n",
            "Trainig Accuracy: 11.339215686274509\n",
            "Validation Accuracy: 10.522222222222222\n",
            "Epoch 24 - \n",
            "Traning loss: 2.2605577415624256\n",
            "Validation loss: 2.254526564415465\n",
            "Trainig Accuracy: 11.294117647058824\n",
            "Validation Accuracy: 10.28888888888889\n",
            "Epoch 25 - \n",
            "Traning loss: 2.259596496035194\n",
            "Validation loss: 2.246732086154586\n",
            "Trainig Accuracy: 11.347058823529412\n",
            "Validation Accuracy: 11.188888888888888\n",
            "Epoch 26 - \n",
            "Traning loss: 2.2589347069356194\n",
            "Validation loss: 2.246097434497049\n",
            "Trainig Accuracy: 11.586274509803921\n",
            "Validation Accuracy: 10.844444444444443\n",
            "Epoch 27 - \n",
            "Traning loss: 2.2564893642363315\n",
            "Validation loss: 2.2465597112128077\n",
            "Trainig Accuracy: 11.388235294117647\n",
            "Validation Accuracy: 11.077777777777778\n",
            "Epoch 28 - \n",
            "Traning loss: 2.255550347128357\n",
            "Validation loss: 2.244424081017785\n",
            "Trainig Accuracy: 11.833333333333334\n",
            "Validation Accuracy: 11.055555555555555\n",
            "Epoch 29 - \n",
            "Traning loss: 2.2556098804270457\n",
            "Validation loss: 2.2474696500927\n",
            "Trainig Accuracy: 11.700000000000001\n",
            "Validation Accuracy: 11.322222222222223\n",
            "Epoch 30 - \n",
            "Traning loss: 2.253077165694578\n",
            "Validation loss: 2.246733088865348\n",
            "Trainig Accuracy: 11.733333333333333\n",
            "Validation Accuracy: 10.622222222222222\n",
            "Epoch 31 - \n",
            "Traning loss: 2.250966930180003\n",
            "Validation loss: 2.2463069858280478\n",
            "Trainig Accuracy: 12.049019607843137\n",
            "Validation Accuracy: 11.022222222222222\n",
            "Epoch 32 - \n",
            "Traning loss: 2.249868642580853\n",
            "Validation loss: 2.2475469163123596\n",
            "Trainig Accuracy: 12.133333333333333\n",
            "Validation Accuracy: 11.200000000000001\n",
            "Epoch 33 - \n",
            "Traning loss: 2.2473217100839844\n",
            "Validation loss: 2.249778539576429\n",
            "Trainig Accuracy: 12.413725490196079\n",
            "Validation Accuracy: 10.766666666666666\n",
            "Epoch 34 - \n",
            "Traning loss: 2.247854968535257\n",
            "Validation loss: 2.2498044849287533\n",
            "Trainig Accuracy: 12.07843137254902\n",
            "Validation Accuracy: 10.944444444444445\n",
            "Epoch 35 - \n",
            "Traning loss: 2.2446653261088967\n",
            "Validation loss: 2.248508705315015\n",
            "Trainig Accuracy: 12.531372549019606\n",
            "Validation Accuracy: 10.811111111111112\n",
            "Epoch 36 - \n",
            "Traning loss: 2.242717556851721\n",
            "Validation loss: 2.2497461112678474\n",
            "Trainig Accuracy: 12.701960784313727\n",
            "Validation Accuracy: 10.78888888888889\n",
            "Epoch 37 - \n",
            "Traning loss: 2.240756615341981\n",
            "Validation loss: 2.2507213565474706\n",
            "Trainig Accuracy: 12.794117647058822\n",
            "Validation Accuracy: 10.966666666666667\n",
            "Epoch 38 - \n",
            "Traning loss: 2.2367048411626587\n",
            "Validation loss: 2.245531362844697\n",
            "Trainig Accuracy: 12.77450980392157\n",
            "Validation Accuracy: 11.38888888888889\n",
            "Epoch 39 - \n",
            "Traning loss: 2.2349844755163155\n",
            "Validation loss: 2.2510084328076516\n",
            "Trainig Accuracy: 13.068627450980392\n",
            "Validation Accuracy: 11.733333333333333\n",
            "Epoch 40 - \n",
            "Traning loss: 2.2337513349884874\n",
            "Validation loss: 2.2513981017660587\n",
            "Trainig Accuracy: 13.415686274509802\n",
            "Validation Accuracy: 10.744444444444444\n",
            "Epoch 41 - \n",
            "Traning loss: 2.228997085743597\n",
            "Validation loss: 2.2545980629346047\n",
            "Trainig Accuracy: 13.588235294117649\n",
            "Validation Accuracy: 10.266666666666667\n",
            "Epoch 42 - \n",
            "Traning loss: 2.2270601032070414\n",
            "Validation loss: 2.2531319526915854\n",
            "Trainig Accuracy: 13.950980392156861\n",
            "Validation Accuracy: 11.422222222222222\n",
            "Epoch 43 - \n",
            "Traning loss: 2.2239936705365535\n",
            "Validation loss: 2.25625360942056\n",
            "Trainig Accuracy: 13.99019607843137\n",
            "Validation Accuracy: 11.155555555555557\n",
            "Epoch 44 - \n",
            "Traning loss: 2.21897625519311\n",
            "Validation loss: 2.2561694611894323\n",
            "Trainig Accuracy: 14.57843137254902\n",
            "Validation Accuracy: 11.255555555555556\n",
            "Epoch 45 - \n",
            "Traning loss: 2.218278219589176\n",
            "Validation loss: 2.2622708124471895\n",
            "Trainig Accuracy: 14.288235294117646\n",
            "Validation Accuracy: 10.766666666666666\n",
            "Epoch 46 - \n",
            "Traning loss: 2.2157024201963895\n",
            "Validation loss: 2.266781455236124\n",
            "Trainig Accuracy: 14.496078431372549\n",
            "Validation Accuracy: 10.4\n",
            "Epoch 47 - \n",
            "Traning loss: 2.2100353158701918\n",
            "Validation loss: 2.2627715743179864\n",
            "Trainig Accuracy: 14.809803921568626\n",
            "Validation Accuracy: 10.477777777777778\n",
            "Epoch 48 - \n",
            "Traning loss: 2.207335814927124\n",
            "Validation loss: 2.2718933102086925\n",
            "Trainig Accuracy: 15.215686274509805\n",
            "Validation Accuracy: 11.066666666666666\n",
            "Epoch 49 - \n",
            "Traning loss: 2.2037162397856096\n",
            "Validation loss: 2.268590117177219\n",
            "Trainig Accuracy: 15.437254901960785\n",
            "Validation Accuracy: 11.011111111111111\n",
            "Epoch 50 - \n",
            "Traning loss: 2.1970306481591133\n",
            "Validation loss: 2.271640030204827\n",
            "Trainig Accuracy: 15.894117647058822\n",
            "Validation Accuracy: 10.61111111111111\n",
            "Training Complete\n",
            "CPU times: user 55min 35s, sys: 15min 21s, total: 1h 10min 56s\n",
            "Wall time: 1h 10min 53s\n"
          ],
          "name": "stdout"
        }
      ]
    },
    {
      "cell_type": "markdown",
      "metadata": {
        "id": "1vpheP0eJzT-"
      },
      "source": [
        "### Graph plot of training accuracy and validation accuracy with no of epochs.\n"
      ]
    },
    {
      "cell_type": "code",
      "metadata": {
        "colab": {
          "base_uri": "https://localhost:8080/",
          "height": 501
        },
        "id": "IIYRVRP_4gSf",
        "outputId": "101f4a27-935f-435b-dbe6-82663d4fe091"
      },
      "source": [
        "plt.figure(figsize=(12, 8))\n",
        "plt.plot(epc_list, train_acc_list, label='Train')\n",
        "plt.plot(epc_list, val_acc_list, label='Valid')\n",
        "plt.xlabel('Epochs', fontsize=14)\n",
        "plt.ylabel('Accuracy', fontsize=14)\n",
        "plt.legend(fontsize=14)\n",
        "plt.show()"
      ],
      "execution_count": null,
      "outputs": [
        {
          "output_type": "display_data",
          "data": {
            "image/png": "[encoded data removed]",
            "text/plain": [
              "<Figure size 864x576 with 1 Axes>"
            ]
          },
          "metadata": {
            "tags": [],
            "needs_background": "light"
          }
        }
      ]
    },
    {
      "cell_type": "markdown",
      "metadata": {
        "id": "NuZpsLUHcaUU"
      },
      "source": [
        "### Graph plot of training loss and validation loss with no of epochs.\n"
      ]
    },
    {
      "cell_type": "code",
      "metadata": {
        "colab": {
          "base_uri": "https://localhost:8080/",
          "height": 501
        },
        "id": "HbBmW8ve4ifs",
        "outputId": "4dba2945-4f3f-4bdb-c8f1-36ca2dfcebf0"
      },
      "source": [
        "plt.figure(figsize=(12, 8))\n",
        "plt.plot(epc_list, train_loss_list, label='Train')\n",
        "plt.plot(epc_list, val_loss_list, label='Valid')\n",
        "plt.xlabel('Epochs', fontsize=14)\n",
        "plt.ylabel('Loss', fontsize=14)\n",
        "plt.legend(fontsize=14)\n",
        "plt.show()"
      ],
      "execution_count": null,
      "outputs": [
        {
          "output_type": "display_data",
          "data": {
            "image/png": "[encoded data removed]",
            "text/plain": [
              "<Figure size 864x576 with 1 Axes>"
            ]
          },
          "metadata": {
            "tags": [],
            "needs_background": "light"
          }
        }
      ]
    },
    {
      "cell_type": "markdown",
      "metadata": {
        "id": "qCXUqW97dD1e"
      },
      "source": [
        "### Downloading MNIST dataset from pytorch datasets API."
      ]
    },
    {
      "cell_type": "code",
      "metadata": {
        "id": "0oF5HKxR93ml",
        "colab": {
          "base_uri": "https://localhost:8080/",
          "height": 573,
          "referenced_widgets": [
            "595fdec623ec4512a7b89c0ab440cb0b",
            "38d482d056c64ca5a3bc41401e69e307",
            "cd7938c2d0344f509694e2bfbac3a544",
            "a3cadca8550343aba1dd2039d2a4ba6a",
            "c9352344206b4aa5a855e8b16b7507b5",
            "400608d1e2da4140a2969e8ad87be5b3",
            "4c915c24e5244a3db07cb62ebe40ed7b",
            "b4cb4f4c128e447788be05432bda5189",
            "286e63287d1947ee8dec0a2147cf3cc2",
            "d5a0bcfd332248a9948cf2dc5574c5e4",
            "a2b0b082acde4386ad5cf716b6fd7e5c",
            "d76c05db0f3046cb990d4417ed2b8710",
            "69bd810d11ff42198f899e6a1f16ca6c",
            "27ed5af501f047be95132ba9d017ed8d",
            "eb9695d96d3b47e59b1490878ae59cc4",
            "e4850a1099d34f20951702abed704a23",
            "e2348468e7644c4b9d416842cf8dc11b",
            "7870c6c2496a4a8a92c015a7f706200f",
            "4a52ddf0404a4589ad89c37bb6630da1",
            "50f4fc2b583b4634899b551b88256985",
            "48de3daf94324caa8645e80595d1bf5e",
            "e59e1bd639c247ad9ffbb2cef1478e88",
            "58b1bc9e438340d4a0b63edf305f477a",
            "fb90351c179f4171adff970ae92eba05",
            "3a28a7cc049b4224bb43e773557893ef",
            "a068a057efac426993419fa713698f04",
            "d1f7a43c707e488bb1eee1c3faf96217",
            "724c223d5ef64a36898b406570862db9",
            "98e4b743a0cc4cd6a1f39a9e58949308",
            "9d520b85e0474e8c87b5e8df5b5fdc58",
            "ebe6901071ee44ca9503e3046aead12d",
            "0f5f4a2d609d4f38bbb72c12c9a3867b"
          ]
        },
        "outputId": "250b954d-082a-48cd-fce5-8731c86f122b"
      },
      "source": [
        "transform = transforms.Compose([\n",
        "            transforms.ToTensor(),\n",
        "            transforms.Resize((32, 32))\n",
        "        ])\n",
        "\n",
        "# Load and transform data\n",
        "trainset = datasets.MNIST('/mnist', train=True, download=True, transform=transform)\n",
        "trainloader = torch.utils.data.DataLoader(trainset, batch_size=64, shuffle=True, num_workers=0)\n",
        "\n",
        "testset = datasets.MNIST('/mnist', train=False, download=True, transform=transform)\n",
        "testloader = torch.utils.data.DataLoader(testset, batch_size=128, shuffle=False, num_workers=0)"
      ],
      "execution_count": 6,
      "outputs": [
        {
          "output_type": "stream",
          "text": [
            "Downloading http://yann.lecun.com/exdb/mnist/train-images-idx3-ubyte.gz\n",
            "Downloading http://yann.lecun.com/exdb/mnist/train-images-idx3-ubyte.gz to /mnist/MNIST/raw/train-images-idx3-ubyte.gz\n"
          ],
          "name": "stdout"
        },
        {
          "output_type": "display_data",
          "data": {
            "application/vnd.jupyter.widget-view+json": {
              "model_id": "595fdec623ec4512a7b89c0ab440cb0b",
              "version_minor": 0,
              "version_major": 2
            },
            "text/plain": [
              "HBox(children=(FloatProgress(value=0.0, max=9912422.0), HTML(value='')))"
            ]
          },
          "metadata": {
            "tags": []
          }
        },
        {
          "output_type": "stream",
          "text": [
            "\n",
            "Extracting /mnist/MNIST/raw/train-images-idx3-ubyte.gz to /mnist/MNIST/raw\n",
            "\n",
            "Downloading http://yann.lecun.com/exdb/mnist/train-labels-idx1-ubyte.gz\n",
            "Downloading http://yann.lecun.com/exdb/mnist/train-labels-idx1-ubyte.gz to /mnist/MNIST/raw/train-labels-idx1-ubyte.gz\n"
          ],
          "name": "stdout"
        },
        {
          "output_type": "display_data",
          "data": {
            "application/vnd.jupyter.widget-view+json": {
              "model_id": "286e63287d1947ee8dec0a2147cf3cc2",
              "version_minor": 0,
              "version_major": 2
            },
            "text/plain": [
              "HBox(children=(FloatProgress(value=0.0, max=28881.0), HTML(value='')))"
            ]
          },
          "metadata": {
            "tags": []
          }
        },
        {
          "output_type": "stream",
          "text": [
            "\n",
            "Extracting /mnist/MNIST/raw/train-labels-idx1-ubyte.gz to /mnist/MNIST/raw\n",
            "\n",
            "Downloading http://yann.lecun.com/exdb/mnist/t10k-images-idx3-ubyte.gz\n",
            "Downloading http://yann.lecun.com/exdb/mnist/t10k-images-idx3-ubyte.gz to /mnist/MNIST/raw/t10k-images-idx3-ubyte.gz\n"
          ],
          "name": "stdout"
        },
        {
          "output_type": "display_data",
          "data": {
            "application/vnd.jupyter.widget-view+json": {
              "model_id": "e2348468e7644c4b9d416842cf8dc11b",
              "version_minor": 0,
              "version_major": 2
            },
            "text/plain": [
              "HBox(children=(FloatProgress(value=0.0, max=1648877.0), HTML(value='')))"
            ]
          },
          "metadata": {
            "tags": []
          }
        },
        {
          "output_type": "stream",
          "text": [
            "\n",
            "Extracting /mnist/MNIST/raw/t10k-images-idx3-ubyte.gz to /mnist/MNIST/raw\n",
            "\n",
            "Downloading http://yann.lecun.com/exdb/mnist/t10k-labels-idx1-ubyte.gz\n",
            "Downloading http://yann.lecun.com/exdb/mnist/t10k-labels-idx1-ubyte.gz to /mnist/MNIST/raw/t10k-labels-idx1-ubyte.gz\n"
          ],
          "name": "stdout"
        },
        {
          "output_type": "display_data",
          "data": {
            "application/vnd.jupyter.widget-view+json": {
              "model_id": "3a28a7cc049b4224bb43e773557893ef",
              "version_minor": 0,
              "version_major": 2
            },
            "text/plain": [
              "HBox(children=(FloatProgress(value=0.0, max=4542.0), HTML(value='')))"
            ]
          },
          "metadata": {
            "tags": []
          }
        },
        {
          "output_type": "stream",
          "text": [
            "\n",
            "Extracting /mnist/MNIST/raw/t10k-labels-idx1-ubyte.gz to /mnist/MNIST/raw\n",
            "\n",
            "Processing...\n",
            "Done!\n"
          ],
          "name": "stdout"
        },
        {
          "output_type": "stream",
          "text": [
            "/usr/local/lib/python3.7/dist-packages/torchvision/datasets/mnist.py:502: UserWarning: The given NumPy array is not writeable, and PyTorch does not support non-writeable tensors. This means you can write to the underlying (supposedly non-writeable) NumPy array using the tensor. You may want to copy the array to protect its data or make it writeable before converting it to a tensor. This type of warning will be suppressed for the rest of this program. (Triggered internally at  /pytorch/torch/csrc/utils/tensor_numpy.cpp:143.)\n",
            "  return torch.from_numpy(parsed.astype(m[2], copy=False)).view(*s)\n"
          ],
          "name": "stderr"
        }
      ]
    },
    {
      "cell_type": "markdown",
      "metadata": {
        "id": "XB2PBmeLjxmA"
      },
      "source": [
        "### Validating above model on MNIST testset."
      ]
    },
    {
      "cell_type": "code",
      "metadata": {
        "id": "uYXHbcqE93p5",
        "colab": {
          "base_uri": "https://localhost:8080/"
        },
        "outputId": "fd20646a-7258-4393-f1af-d071df486b42"
      },
      "source": [
        "correct = 0\n",
        "total = 0\n",
        "with torch.no_grad():\n",
        "    for data in testloader:\n",
        "        images, labels = data\n",
        "        outputs = model(images.float().cuda())\n",
        "        _, predicted = torch.max(outputs, 1)\n",
        "        total += labels.size(0)\n",
        "        correct += (predicted == labels.cuda()).sum().item()\n",
        "\n",
        "print('Accuracy of the network on the MNIST test images: %d %%' % (\n",
        "    100 * correct / total))"
      ],
      "execution_count": null,
      "outputs": [
        {
          "output_type": "stream",
          "text": [
            "Accuracy of the network on the MNIST test images: 4 %\n"
          ],
          "name": "stdout"
        }
      ]
    },
    {
      "cell_type": "markdown",
      "metadata": {
        "id": "-xdww9ik4nKd"
      },
      "source": [
        "# Now training above dataset using pre-trained weights of model we trained in the first task."
      ]
    },
    {
      "cell_type": "code",
      "metadata": {
        "id": "hdjdRANZFM9R",
        "colab": {
          "base_uri": "https://localhost:8080/"
        },
        "outputId": "44490ffe-ed21-4f0a-9bb2-3009d16ba5c2"
      },
      "source": [
        "pre_trained = torch.load(\"final_task.pth\")\n",
        "\n",
        "# Since, In first task we trained model for 62 class, we have to change the final \n",
        "# layer to train it for 10 classes\n",
        "num_ftrs = pre_trained.linear2.out_features\n",
        "pre_trained.linear3 = nn.Linear(num_ftrs, 10)\n",
        "print(pre_trained)"
      ],
      "execution_count": 3,
      "outputs": [
        {
          "output_type": "stream",
          "text": [
            "ResNet(\n",
            "  (conv1): Conv2d(1, 64, kernel_size=(3, 3), stride=(1, 1), padding=(1, 1), bias=False)\n",
            "  (bn1): BatchNorm2d(64, eps=1e-05, momentum=0.1, affine=True, track_running_stats=True)\n",
            "  (layer1): Sequential(\n",
            "    (0): BasicBlock(\n",
            "      (conv1): Conv2d(64, 64, kernel_size=(3, 3), stride=(1, 1), padding=(1, 1), bias=False)\n",
            "      (bn1): BatchNorm2d(64, eps=1e-05, momentum=0.1, affine=True, track_running_stats=True)\n",
            "      (conv2): Conv2d(64, 64, kernel_size=(3, 3), stride=(1, 1), padding=(1, 1), bias=False)\n",
            "      (bn2): BatchNorm2d(64, eps=1e-05, momentum=0.1, affine=True, track_running_stats=True)\n",
            "      (shortcut): Sequential()\n",
            "    )\n",
            "  )\n",
            "  (layer2): Sequential(\n",
            "    (0): BasicBlock(\n",
            "      (conv1): Conv2d(64, 128, kernel_size=(3, 3), stride=(1, 1), padding=(1, 1), bias=False)\n",
            "      (bn1): BatchNorm2d(128, eps=1e-05, momentum=0.1, affine=True, track_running_stats=True)\n",
            "      (conv2): Conv2d(128, 128, kernel_size=(3, 3), stride=(1, 1), padding=(1, 1), bias=False)\n",
            "      (bn2): BatchNorm2d(128, eps=1e-05, momentum=0.1, affine=True, track_running_stats=True)\n",
            "      (shortcut): Sequential(\n",
            "        (0): Conv2d(64, 128, kernel_size=(1, 1), stride=(1, 1), bias=False)\n",
            "        (1): BatchNorm2d(128, eps=1e-05, momentum=0.1, affine=True, track_running_stats=True)\n",
            "      )\n",
            "    )\n",
            "  )\n",
            "  (layer3): Sequential(\n",
            "    (0): BasicBlock(\n",
            "      (conv1): Conv2d(128, 256, kernel_size=(3, 3), stride=(1, 1), padding=(1, 1), bias=False)\n",
            "      (bn1): BatchNorm2d(256, eps=1e-05, momentum=0.1, affine=True, track_running_stats=True)\n",
            "      (conv2): Conv2d(256, 256, kernel_size=(3, 3), stride=(1, 1), padding=(1, 1), bias=False)\n",
            "      (bn2): BatchNorm2d(256, eps=1e-05, momentum=0.1, affine=True, track_running_stats=True)\n",
            "      (shortcut): Sequential(\n",
            "        (0): Conv2d(128, 256, kernel_size=(1, 1), stride=(1, 1), bias=False)\n",
            "        (1): BatchNorm2d(256, eps=1e-05, momentum=0.1, affine=True, track_running_stats=True)\n",
            "      )\n",
            "    )\n",
            "  )\n",
            "  (layer4): Sequential(\n",
            "    (0): BasicBlock(\n",
            "      (conv1): Conv2d(256, 512, kernel_size=(3, 3), stride=(1, 1), padding=(1, 1), bias=False)\n",
            "      (bn1): BatchNorm2d(512, eps=1e-05, momentum=0.1, affine=True, track_running_stats=True)\n",
            "      (conv2): Conv2d(512, 512, kernel_size=(3, 3), stride=(1, 1), padding=(1, 1), bias=False)\n",
            "      (bn2): BatchNorm2d(512, eps=1e-05, momentum=0.1, affine=True, track_running_stats=True)\n",
            "      (shortcut): Sequential(\n",
            "        (0): Conv2d(256, 512, kernel_size=(1, 1), stride=(1, 1), bias=False)\n",
            "        (1): BatchNorm2d(512, eps=1e-05, momentum=0.1, affine=True, track_running_stats=True)\n",
            "      )\n",
            "    )\n",
            "  )\n",
            "  (linear1): Linear(in_features=512, out_features=256, bias=True)\n",
            "  (linear2): Linear(in_features=256, out_features=128, bias=True)\n",
            "  (linear3): Linear(in_features=128, out_features=10, bias=True)\n",
            "  (dropout1): Dropout(p=0.3, inplace=False)\n",
            "  (dropout2): Dropout(p=0.4, inplace=False)\n",
            ")\n"
          ],
          "name": "stdout"
        }
      ]
    },
    {
      "cell_type": "markdown",
      "metadata": {
        "id": "W-HWaSUukogo"
      },
      "source": [
        "### In the cell below, defined the Model, the loss function, and the Optimizer I have used for this task. "
      ]
    },
    {
      "cell_type": "code",
      "metadata": {
        "colab": {
          "base_uri": "https://localhost:8080/"
        },
        "id": "GPZreiuHq402",
        "outputId": "c3518250-649d-4b24-e6f7-ba7eb0da0c6c"
      },
      "source": [
        "mnist_model = pre_trained\n",
        "criterion = nn.CrossEntropyLoss()\n",
        "torch.cuda.empty_cache()\n",
        "\n",
        "if torch.cuda.is_available():\n",
        "\tprint(torch.cuda.get_device_name(0))\n",
        "\tmodel1 = mnist_model.cuda()\n",
        "\toptimizer = optim.Adam(model1.parameters(), lr=1e-3, weight_decay=1e-5)\n",
        "\tcriterion = criterion.cuda()"
      ],
      "execution_count": 17,
      "outputs": [
        {
          "output_type": "stream",
          "text": [
            "Tesla P100-PCIE-16GB\n"
          ],
          "name": "stdout"
        }
      ]
    },
    {
      "cell_type": "code",
      "metadata": {
        "colab": {
          "base_uri": "https://localhost:8080/"
        },
        "id": "6YyNJEVBpwhB",
        "outputId": "d1454b05-aec7-4008-8a5e-c9cd9babd7f6"
      },
      "source": [
        "%%time\n",
        "train_loss_list = []\n",
        "val_loss_list = []\n",
        "epc_list = []\n",
        "train_acc_list = []\n",
        "val_acc_list = []\n",
        "incorrect_examples=[]\n",
        "\n",
        "def train():\n",
        "  best_valid_loss = float('Inf')\n",
        "  print(\"Training Started !!!\")\n",
        "  for i in range(50):\n",
        "    training_loss = 0\n",
        "    tcorrect = 0\n",
        "    ttotal = 0\n",
        "    model1.train()\n",
        "    for features, labels in train_loader:\n",
        "      # Label and features assigning\n",
        "      features, labels = Variable(features.cuda()), Variable(labels.cuda())\n",
        "      optimizer.zero_grad()\n",
        "\n",
        "      # Output collection from model1\n",
        "      outputs = model1(features.float())\n",
        "\n",
        "      # Loss calculation and updation\n",
        "      losss = criterion(outputs.cuda(), labels.type(torch.LongTensor).cuda())\n",
        "      losss.backward()\n",
        "      optimizer.step()\n",
        "      training_loss += losss.item()\n",
        "\n",
        "      # Prediction\n",
        "      _, pred = torch.max(outputs, 1)\n",
        "      ttotal+= labels.reshape(-1).size(0)\n",
        "      tcorrect+=(pred.reshape(-1).cuda() == labels.reshape(-1)).sum().item()\n",
        "  \n",
        "    validation_loss = 0\n",
        "    correct = 0\n",
        "    total = 0\n",
        "    model1.eval()\n",
        "    with torch.no_grad():\n",
        "      for features, labels in validation_loader:\n",
        "\n",
        "        # Label and features assigning\n",
        "        features, labels = Variable(features.cuda()), Variable(labels.cuda())\n",
        "\n",
        "        # Output collection from model1\n",
        "        outputs = model1(features.float())\n",
        "        \n",
        "        # Loss calculation\n",
        "        loss = criterion(outputs.cuda(), labels.type(torch.LongTensor).cuda())\n",
        "\n",
        "        # Prediction\n",
        "        _, pred = torch.max(outputs, 1)\n",
        "        total+= labels.reshape(-1).size(0)\n",
        "        correct+=(pred.reshape(-1).cuda() == labels.reshape(-1)).sum().item()\n",
        "        validation_loss += loss.item()\n",
        "\n",
        "\n",
        "    train_loss_list.append(training_loss/len(train_loader))\n",
        "    val_loss_list.append(validation_loss/len(validation_loader))\n",
        "    epc_list.append(i)\n",
        "    train_acc_list.append(100*(tcorrect/ttotal))\n",
        "    val_acc_list.append(100*(correct/total))\n",
        "    if best_valid_loss > validation_loss:\n",
        "        best_valid_loss = validation_loss \n",
        "        # Saving Best Pre-Trained Model1 as .pth file\n",
        "        torch.save(model1, \"pre1_task3.pth\")\n",
        "    print(\"Epoch {} - \\nTraning loss: {}\".format(i+1, training_loss/len(train_loader)))\n",
        "    print(\"Validation loss: {}\".format( validation_loss/len(validation_loader)))\n",
        "    print(\"Trainig Accuracy: {}\".format( 100*(tcorrect/ttotal)))\n",
        "    print(\"Validation Accuracy: {}\".format(100*(correct/total)))\n",
        "\n",
        "train()\n",
        "print(\"Training Complete\")"
      ],
      "execution_count": 18,
      "outputs": [
        {
          "output_type": "stream",
          "text": [
            "Training Started !!!\n",
            "Epoch 1 - \n",
            "Traning loss: 2.3930121425403703\n",
            "Validation loss: 2.28058156392253\n",
            "Trainig Accuracy: 10.984313725490196\n",
            "Validation Accuracy: 11.555555555555555\n",
            "Epoch 2 - \n",
            "Traning loss: 2.2913611365980007\n",
            "Validation loss: 2.2717464190002876\n",
            "Trainig Accuracy: 11.24705882352941\n",
            "Validation Accuracy: 11.833333333333334\n",
            "Epoch 3 - \n",
            "Traning loss: 2.279292748294481\n",
            "Validation loss: 2.2575644161684294\n",
            "Trainig Accuracy: 10.886274509803922\n",
            "Validation Accuracy: 11.38888888888889\n",
            "Epoch 4 - \n",
            "Traning loss: 2.2672780592139423\n",
            "Validation loss: 2.2554893984016795\n",
            "Trainig Accuracy: 11.415686274509804\n",
            "Validation Accuracy: 10.644444444444444\n",
            "Epoch 5 - \n",
            "Traning loss: 2.2623046258162973\n",
            "Validation loss: 2.2473771825749824\n",
            "Trainig Accuracy: 11.307843137254903\n",
            "Validation Accuracy: 11.188888888888888\n",
            "Epoch 6 - \n",
            "Traning loss: 2.2590461468307708\n",
            "Validation loss: 2.2438066107161503\n",
            "Trainig Accuracy: 10.96078431372549\n",
            "Validation Accuracy: 10.4\n",
            "Epoch 7 - \n",
            "Traning loss: 2.2559255270317777\n",
            "Validation loss: 2.2456540571036916\n",
            "Trainig Accuracy: 11.345098039215687\n",
            "Validation Accuracy: 11.377777777777778\n",
            "Epoch 8 - \n",
            "Traning loss: 2.2541505467786993\n",
            "Validation loss: 2.2452899919334035\n",
            "Trainig Accuracy: 11.331372549019608\n",
            "Validation Accuracy: 11.366666666666667\n",
            "Epoch 9 - \n",
            "Traning loss: 2.252007580461586\n",
            "Validation loss: 2.264384058350367\n",
            "Trainig Accuracy: 11.06078431372549\n",
            "Validation Accuracy: 11.088888888888889\n",
            "Epoch 10 - \n",
            "Traning loss: 2.250490675606722\n",
            "Validation loss: 2.2414277884977083\n",
            "Trainig Accuracy: 11.217647058823529\n",
            "Validation Accuracy: 10.911111111111111\n",
            "Epoch 11 - \n",
            "Traning loss: 2.2493156393618325\n",
            "Validation loss: 2.255039245524305\n",
            "Trainig Accuracy: 11.35686274509804\n",
            "Validation Accuracy: 11.511111111111111\n",
            "Epoch 12 - \n",
            "Traning loss: 2.2468168017556107\n",
            "Validation loss: 2.2332567052638277\n",
            "Trainig Accuracy: 11.26078431372549\n",
            "Validation Accuracy: 11.622222222222224\n",
            "Epoch 13 - \n",
            "Traning loss: 2.245063931011645\n",
            "Validation loss: 2.235534571586771\n",
            "Trainig Accuracy: 11.619607843137254\n",
            "Validation Accuracy: 11.077777777777778\n",
            "Epoch 14 - \n",
            "Traning loss: 2.243859592016548\n",
            "Validation loss: 2.243469037062733\n",
            "Trainig Accuracy: 11.327450980392156\n",
            "Validation Accuracy: 11.433333333333334\n",
            "Epoch 15 - \n",
            "Traning loss: 2.2417381967475154\n",
            "Validation loss: 2.2323410747744514\n",
            "Trainig Accuracy: 11.492156862745098\n",
            "Validation Accuracy: 10.811111111111112\n",
            "Epoch 16 - \n",
            "Traning loss: 2.2386973248222093\n",
            "Validation loss: 2.234675870719531\n",
            "Trainig Accuracy: 11.845098039215687\n",
            "Validation Accuracy: 11.244444444444444\n",
            "Epoch 17 - \n",
            "Traning loss: 2.237451494413158\n",
            "Validation loss: 2.235921612868072\n",
            "Trainig Accuracy: 11.850980392156863\n",
            "Validation Accuracy: 11.200000000000001\n",
            "Epoch 18 - \n",
            "Traning loss: 2.2348907445574944\n",
            "Validation loss: 2.2373307968707796\n",
            "Trainig Accuracy: 11.811764705882354\n",
            "Validation Accuracy: 10.866666666666665\n",
            "Epoch 19 - \n",
            "Traning loss: 2.2331110928558195\n",
            "Validation loss: 2.2363512955658824\n",
            "Trainig Accuracy: 12.237254901960783\n",
            "Validation Accuracy: 11.022222222222222\n",
            "Epoch 20 - \n",
            "Traning loss: 2.228075647593442\n",
            "Validation loss: 2.2326510696546404\n",
            "Trainig Accuracy: 12.635294117647058\n",
            "Validation Accuracy: 11.077777777777778\n",
            "Epoch 21 - \n",
            "Traning loss: 2.2233431515759476\n",
            "Validation loss: 2.240283228826861\n",
            "Trainig Accuracy: 12.9\n",
            "Validation Accuracy: 10.42222222222222\n",
            "Epoch 22 - \n",
            "Traning loss: 2.220312292632674\n",
            "Validation loss: 2.236298791060211\n",
            "Trainig Accuracy: 13.019607843137255\n",
            "Validation Accuracy: 10.988888888888889\n",
            "Epoch 23 - \n",
            "Traning loss: 2.2151807162214254\n",
            "Validation loss: 2.240429257670193\n",
            "Trainig Accuracy: 13.454901960784312\n",
            "Validation Accuracy: 11.022222222222222\n",
            "Epoch 24 - \n",
            "Traning loss: 2.2080346691413983\n",
            "Validation loss: 2.248486136713772\n",
            "Trainig Accuracy: 14.472549019607845\n",
            "Validation Accuracy: 11.244444444444444\n",
            "Epoch 25 - \n",
            "Traning loss: 2.1995576358350037\n",
            "Validation loss: 2.24847101996131\n",
            "Trainig Accuracy: 14.739215686274509\n",
            "Validation Accuracy: 10.822222222222223\n",
            "Epoch 26 - \n",
            "Traning loss: 2.190003571576127\n",
            "Validation loss: 2.2575469811757407\n",
            "Trainig Accuracy: 15.33921568627451\n",
            "Validation Accuracy: 11.1\n",
            "Epoch 27 - \n",
            "Traning loss: 2.176971758025204\n",
            "Validation loss: 2.26830688774163\n",
            "Trainig Accuracy: 16.101960784313725\n",
            "Validation Accuracy: 10.711111111111112\n",
            "Epoch 28 - \n",
            "Traning loss: 2.1609757894853425\n",
            "Validation loss: 2.2788105450623424\n",
            "Trainig Accuracy: 17.16470588235294\n",
            "Validation Accuracy: 11.122222222222222\n",
            "Epoch 29 - \n",
            "Traning loss: 2.136295118475499\n",
            "Validation loss: 2.2836509308916457\n",
            "Trainig Accuracy: 18.686274509803923\n",
            "Validation Accuracy: 11.444444444444445\n",
            "Epoch 30 - \n",
            "Traning loss: 2.1092692631550385\n",
            "Validation loss: 2.310137601608926\n",
            "Trainig Accuracy: 20.2921568627451\n",
            "Validation Accuracy: 11.088888888888889\n",
            "Epoch 31 - \n",
            "Traning loss: 2.0768433103298154\n",
            "Validation loss: 2.3354328760864043\n",
            "Trainig Accuracy: 21.819607843137252\n",
            "Validation Accuracy: 10.955555555555556\n",
            "Epoch 32 - \n",
            "Traning loss: 2.0324572441419364\n",
            "Validation loss: 2.3826303668055973\n",
            "Trainig Accuracy: 24.154901960784315\n",
            "Validation Accuracy: 10.8\n",
            "Epoch 33 - \n",
            "Traning loss: 1.978755414112\n",
            "Validation loss: 2.4735393016896348\n",
            "Trainig Accuracy: 26.67058823529412\n",
            "Validation Accuracy: 11.477777777777778\n",
            "Epoch 34 - \n",
            "Traning loss: 1.9192195180967133\n",
            "Validation loss: 2.552328698178555\n",
            "Trainig Accuracy: 29.396078431372548\n",
            "Validation Accuracy: 10.944444444444445\n",
            "Epoch 35 - \n",
            "Traning loss: 1.846233868838254\n",
            "Validation loss: 2.59562944689541\n",
            "Trainig Accuracy: 32.33921568627451\n",
            "Validation Accuracy: 11.233333333333333\n",
            "Epoch 36 - \n",
            "Traning loss: 1.7703155066766583\n",
            "Validation loss: 2.6829839632020773\n",
            "Trainig Accuracy: 35.464705882352945\n",
            "Validation Accuracy: 10.977777777777778\n",
            "Epoch 37 - \n",
            "Traning loss: 1.684301132838729\n",
            "Validation loss: 2.836443578097837\n",
            "Trainig Accuracy: 39.115686274509805\n",
            "Validation Accuracy: 10.722222222222221\n",
            "Epoch 38 - \n",
            "Traning loss: 1.592158664723711\n",
            "Validation loss: 2.8907863941598446\n",
            "Trainig Accuracy: 42.86274509803922\n",
            "Validation Accuracy: 11.055555555555555\n",
            "Epoch 39 - \n",
            "Traning loss: 1.501969087078999\n",
            "Validation loss: 3.0531461069769894\n",
            "Trainig Accuracy: 46.0\n",
            "Validation Accuracy: 11.055555555555555\n",
            "Epoch 40 - \n",
            "Traning loss: 1.4046938571906\n",
            "Validation loss: 3.3155682509672557\n",
            "Trainig Accuracy: 49.83921568627451\n",
            "Validation Accuracy: 11.177777777777779\n",
            "Epoch 41 - \n",
            "Traning loss: 1.3218469713233794\n",
            "Validation loss: 3.4850938979615558\n",
            "Trainig Accuracy: 53.04117647058823\n",
            "Validation Accuracy: 11.288888888888888\n",
            "Epoch 42 - \n",
            "Traning loss: 1.2299900276298954\n",
            "Validation loss: 3.714960517612755\n",
            "Trainig Accuracy: 56.27647058823529\n",
            "Validation Accuracy: 11.066666666666666\n",
            "Epoch 43 - \n",
            "Traning loss: 1.1518443487818297\n",
            "Validation loss: 3.777241718684528\n",
            "Trainig Accuracy: 59.15686274509804\n",
            "Validation Accuracy: 11.088888888888889\n",
            "Epoch 44 - \n",
            "Traning loss: 1.0711223084474897\n",
            "Validation loss: 4.098657858287189\n",
            "Trainig Accuracy: 62.07843137254901\n",
            "Validation Accuracy: 10.811111111111112\n",
            "Epoch 45 - \n",
            "Traning loss: 1.0070386943284662\n",
            "Validation loss: 4.440688667567909\n",
            "Trainig Accuracy: 64.36666666666667\n",
            "Validation Accuracy: 11.088888888888889\n",
            "Epoch 46 - \n",
            "Traning loss: 0.9418463255261238\n",
            "Validation loss: 4.600649265532798\n",
            "Trainig Accuracy: 67.02745098039216\n",
            "Validation Accuracy: 10.855555555555556\n",
            "Epoch 47 - \n",
            "Traning loss: 0.8832597847714777\n",
            "Validation loss: 4.7605947298361055\n",
            "Trainig Accuracy: 68.75882352941176\n",
            "Validation Accuracy: 11.511111111111111\n",
            "Epoch 48 - \n",
            "Traning loss: 0.8341619848008437\n",
            "Validation loss: 5.13548920509663\n",
            "Trainig Accuracy: 70.60980392156863\n",
            "Validation Accuracy: 11.433333333333334\n",
            "Epoch 49 - \n",
            "Traning loss: 0.7904172564764393\n",
            "Validation loss: 5.263151263514309\n",
            "Trainig Accuracy: 72.29215686274509\n",
            "Validation Accuracy: 11.588888888888889\n",
            "Epoch 50 - \n",
            "Traning loss: 0.7476305059312727\n",
            "Validation loss: 5.511778845009228\n",
            "Trainig Accuracy: 73.74313725490195\n",
            "Validation Accuracy: 11.31111111111111\n",
            "Training Complete\n",
            "CPU times: user 46min 51s, sys: 18min 26s, total: 1h 5min 17s\n",
            "Wall time: 1h 5min 10s\n"
          ],
          "name": "stdout"
        }
      ]
    },
    {
      "cell_type": "markdown",
      "metadata": {
        "id": "g_UIJ67Wk5KM"
      },
      "source": [
        "### Graph plot of training loss and validation loss with no of epochs.\n"
      ]
    },
    {
      "cell_type": "code",
      "metadata": {
        "colab": {
          "base_uri": "https://localhost:8080/",
          "height": 501
        },
        "id": "zUm1FGGoIRC_",
        "outputId": "a8768334-5430-4c92-d1c9-888305d44017"
      },
      "source": [
        "plt.figure(figsize=(12, 8))\n",
        "plt.plot(range(0, 50), train_loss_list, label='Train')\n",
        "plt.plot(range(0, 50), val_loss_list, label='Valid')\n",
        "plt.xlabel('Epochs', fontsize=14)\n",
        "plt.ylabel('Loss', fontsize=14)\n",
        "plt.legend(fontsize=14)\n",
        "plt.show()"
      ],
      "execution_count": 19,
      "outputs": [
        {
          "output_type": "display_data",
          "data": {
            "image/png": "[encoded data removed]",
            "text/plain": [
              "<Figure size 864x576 with 1 Axes>"
            ]
          },
          "metadata": {
            "tags": [],
            "needs_background": "light"
          }
        }
      ]
    },
    {
      "cell_type": "markdown",
      "metadata": {
        "id": "voNFzeaCcHNa"
      },
      "source": [
        "### Graph plot of training accuracy and validation accuracy with no of epochs."
      ]
    },
    {
      "cell_type": "code",
      "metadata": {
        "colab": {
          "base_uri": "https://localhost:8080/",
          "height": 501
        },
        "id": "IOuzvAJ3IT5t",
        "outputId": "fa4b5302-d696-45f8-a747-6db0f88927fa"
      },
      "source": [
        "plt.figure(figsize=(12, 8))\n",
        "plt.plot(range(0, 50), train_acc_list, label='Train')\n",
        "plt.plot(range(0, 50), val_acc_list, label='Valid')\n",
        "plt.xlabel('Epochs', fontsize=14)\n",
        "plt.ylabel('Accuracy', fontsize=14)\n",
        "plt.legend(fontsize=14)\n",
        "plt.show()"
      ],
      "execution_count": 20,
      "outputs": [
        {
          "output_type": "display_data",
          "data": {
            "image/png": "[encoded data removed]",
            "text/plain": [
              "<Figure size 864x576 with 1 Axes>"
            ]
          },
          "metadata": {
            "tags": [],
            "needs_background": "light"
          }
        }
      ]
    },
    {
      "cell_type": "code",
      "metadata": {
        "id": "U2dFN7wO9GQk"
      },
      "source": [
        ""
      ],
      "execution_count": null,
      "outputs": []
    },
    {
      "cell_type": "markdown",
      "metadata": {
        "id": "t0hKZ7-Q9Giu"
      },
      "source": [
        "### Validating above model of MNIST test dataset"
      ]
    },
    {
      "cell_type": "code",
      "metadata": {
        "id": "FEEEmrL3IWHs",
        "colab": {
          "base_uri": "https://localhost:8080/"
        },
        "outputId": "cc19e9c0-4015-4d0c-b4ab-572a988f72b8"
      },
      "source": [
        "correct = 0\n",
        "total = 0\n",
        "with torch.no_grad():\n",
        "    for data in testloader:\n",
        "        images, labels = data\n",
        "        outputs = model1(images.float().cuda())\n",
        "        _, predicted = torch.max(outputs, 1)\n",
        "        total += labels.size(0)\n",
        "        correct += (predicted == labels.cuda()).sum().item()\n",
        "\n",
        "print('Accuracy of the network on the MNIST test images: %d %%' % (\n",
        "    100 * correct / total))"
      ],
      "execution_count": 21,
      "outputs": [
        {
          "output_type": "stream",
          "text": [
            "Accuracy of the network on the MNIST test images: 0 %\n"
          ],
          "name": "stdout"
        }
      ]
    },
    {
      "cell_type": "markdown",
      "metadata": {
        "id": "xhjMqyLX3jzO"
      },
      "source": [
        "### Conclusion  - \n",
        "* `Dataset` -   \n",
        "### Dataset information  -  \n",
        "  * No of classes - 10 \n",
        "  * Total samples - 60,000\n",
        "\n",
        "  ### Validation split of 15% was used.\n",
        "  ### Pre-Processing  \n",
        "  * Images were resized to 32x32 to reduce computational power.\n",
        "  * Images were converted to grayscale(single channel) so that we have data consistency for other tasks.\n",
        "* `Model` - For this task Resnet architecture  was used with 4 layers and 1 resudual block in each layer, and finally three linear layers where used with dropout in first linear layer and second linear layer.\n",
        "\n",
        "  <details> \n",
        "    <summary>Complete Architecture summary</summary>\n",
        "    \n",
        "  ```bash\n",
        "        ----------------------------------------------------------------\n",
        "                Layer (type)               Output Shape         Param #\n",
        "        ================================================================\n",
        "                    Conv2d-1           [-1, 64, 32, 32]             576\n",
        "               BatchNorm2d-2           [-1, 64, 32, 32]             128\n",
        "                    Conv2d-3           [-1, 64, 32, 32]          36,864\n",
        "               BatchNorm2d-4           [-1, 64, 32, 32]             128\n",
        "                    Conv2d-5           [-1, 64, 32, 32]          36,864\n",
        "               BatchNorm2d-6           [-1, 64, 32, 32]             128\n",
        "                BasicBlock-7           [-1, 64, 32, 32]               0\n",
        "                    Conv2d-8          [-1, 128, 32, 32]          73,728\n",
        "               BatchNorm2d-9          [-1, 128, 32, 32]             256\n",
        "                   Conv2d-10          [-1, 128, 32, 32]         147,456\n",
        "              BatchNorm2d-11          [-1, 128, 32, 32]             256\n",
        "                   Conv2d-12          [-1, 128, 32, 32]           8,192\n",
        "              BatchNorm2d-13          [-1, 128, 32, 32]             256\n",
        "               BasicBlock-14          [-1, 128, 32, 32]               0\n",
        "                   Conv2d-15          [-1, 256, 32, 32]         294,912\n",
        "              BatchNorm2d-16          [-1, 256, 32, 32]             512\n",
        "                   Conv2d-17          [-1, 256, 32, 32]         589,824\n",
        "              BatchNorm2d-18          [-1, 256, 32, 32]             512\n",
        "                   Conv2d-19          [-1, 256, 32, 32]          32,768\n",
        "              BatchNorm2d-20          [-1, 256, 32, 32]             512\n",
        "               BasicBlock-21          [-1, 256, 32, 32]               0\n",
        "                   Conv2d-22            [-1, 512, 6, 6]       1,179,648\n",
        "              BatchNorm2d-23            [-1, 512, 6, 6]           1,024\n",
        "                   Conv2d-24            [-1, 512, 6, 6]       2,359,296\n",
        "              BatchNorm2d-25            [-1, 512, 6, 6]           1,024\n",
        "                   Conv2d-26            [-1, 512, 6, 6]         131,072\n",
        "              BatchNorm2d-27            [-1, 512, 6, 6]           1,024\n",
        "               BasicBlock-28            [-1, 512, 6, 6]               0\n",
        "                   Linear-29                  [-1, 256]         131,328\n",
        "                  Dropout-30                  [-1, 256]               0\n",
        "                   Linear-31                  [-1, 128]          32,896\n",
        "                  Dropout-32                  [-1, 128]               0\n",
        "                   Linear-33                   [-1, 64]           8,256\n",
        "        ================================================================\n",
        "        Total params: 5,069,440\n",
        "        Trainable params: 5,069,440\n",
        "        Non-trainable params: 0\n",
        "        ----------------------------------------------------------------\n",
        "        Input size (MB): 0.00\n",
        "        Forward/backward pass size (MB): 25.49\n",
        "        Params size (MB): 19.34\n",
        "        Estimated Total Size (MB): 44.83\n",
        "        ----------------------------------------------------------------\n",
        "\n",
        "  ```\n",
        "</details> \n",
        "\n",
        "* `Training Methodology` -\n",
        "  * Epoch = 50     \n",
        "  * Learning rate - 0.001.\n",
        "  * weight decay - 0.0001.\n",
        "  * Training batch size = 64\n",
        "  * Validation batch size = 64\n",
        "  * Batch Normalisation and Dropout of 0.3 and 0.4 where used.  \n",
        "\n",
        "* `Results` -  \n",
        "  * `Using pre-trained weights`\n",
        "      * Max Training accuracy - 73\n",
        "      * Max Validation accuracy - 11.5\n",
        "  * `Using random weights`\n",
        "      * Max Training accuracy - 15.3\n",
        "      * Max Validation accuracy - 11.7\n",
        "\n",
        "### `Report` -\n",
        "  * The Dataset given for this task was randomize, Ideally the folder 0 should have all images of 0 digit but instead randome digit were given, this was the case for all classes.\n",
        "  * From the above results, it is clear that the model did not learn to classify 0-9 digits, when tested on MNIST test dataset the prediction was 4%, which was surprising.\n",
        "  * But when we trained the model initialised with the pre-trained weights of the model trained in frist task, no improvement was seen instead it started underfitting, when tested on MNIST test set it performed worst and the accuracy was 0%.\n",
        "  * The model initialized with pre-trained weights\n",
        "    * Loss in first epoch - `2.390` (training), `2.280` (validation)\n",
        "    * Loss in last epoch - `0.747` (training), `5.511` (validation)\n",
        "  * The model initialized with random weights(inbuit in pytorch)\n",
        "    * Loss in first epoch - `2.307` (training), `2.295` (validation)\n",
        "    * Loss in last epoch - `2.197` (training), `0.0229` (validation)\n",
        "  * Both model took nearly equal time to converge\n",
        "\n",
        "* `Refrence`\n",
        "  * https://github.com/pytorch/vision\n",
        "  * https://pytorch.org/tutorials/beginner/saving_loading_models.html\n",
        "  * https://github.com/ahmadkhan242/Transfer-Learning-Model-hosted-on-Heroku-using-React-Flask"
      ]
    },
    {
      "cell_type": "code",
      "metadata": {
        "id": "ds7pCHvOs81s"
      },
      "source": [
        ""
      ],
      "execution_count": null,
      "outputs": []
    }
  ]
}